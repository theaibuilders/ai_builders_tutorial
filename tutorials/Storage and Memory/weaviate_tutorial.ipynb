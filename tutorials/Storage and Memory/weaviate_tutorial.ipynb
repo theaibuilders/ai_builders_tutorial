{
 "cells": [
  {
   "cell_type": "markdown",
   "metadata": {},
   "source": [
    "# Weaviate: Store, index, and search with vector database\n",
    "\n",
    "Welcome to this introductory tutorial on Weaviate! Weaviate is an open-source vector database that allows you to store, index, and search through your data based on its semantic meaning. It's a powerful tool for building AI-powered applications like semantic search engines, recommendation systems, and question-answering bots.\n",
    "\n",
    "In this notebook, we'll cover the most important concepts of Weaviate, using **Weaviate Cloud** for hosting and **OpenAI** for vectorization and generative tasks. By the end of this tutorial, you'll have a solid understanding of how to use Weaviate for your own projects."
   ]
  },
  {
   "cell_type": "markdown",
   "metadata": {},
   "source": [
    "## 1. Setup\n",
    "\n",
    "First, let's install the necessary libraries and set up our environment. We'll need the `weaviate-client` library to interact with Weaviate and `python-dotenv` to manage our API keys securely."
   ]
  },
  {
   "cell_type": "code",
   "execution_count": null,
   "metadata": {},
   "outputs": [],
   "source": [
    "!pip install weaviate-client python-dotenv"
   ]
  },
  {
   "cell_type": "markdown",
   "metadata": {},
   "source": [
    "Next, create a `.env` file in the same directory as this notebook and add your Weaviate Cloud and OpenAI credentials.\n",
    "\n",
    "You can get your Weaviate Cloud URL and API Key from the [Weaviate Cloud Console](https://console.weaviate.cloud/) after creating a free sandbox cluster."
   ]
  },
  {
   "cell_type": "code",
   "execution_count": 4,
   "metadata": {},
   "outputs": [],
   "source": [
    "#OPENAI_API_KEY=YOUR_OPENAI_API_KEY\n",
    "#WEAVIATE_CLUSTER_URL=YOUR_WEAVIATE_CLUSTER_URL\n",
    "#WEAVIATE_API_KEY=YOUR_WEAVIATE_API_KEY"
   ]
  },
  {
   "cell_type": "code",
   "execution_count": 5,
   "metadata": {},
   "outputs": [
    {
     "name": "stdout",
     "output_type": "stream",
     "text": [
      "Client is ready: True\n"
     ]
    }
   ],
   "source": [
    "import weaviate\n",
    "import os\n",
    "import json\n",
    "from dotenv import load_dotenv\n",
    "\n",
    "load_dotenv()\n",
    "\n",
    "# Get credentials from .env file\n",
    "openai_api_key = os.getenv(\"OPENAI_API_KEY\")\n",
    "weaviate_cluster_url = os.getenv(\"WEAVIATE_CLUSTER_URL\")\n",
    "weaviate_api_key = os.getenv(\"WEAVIATE_API_KEY\")\n",
    "\n",
    "# Connect to your Weaviate Cloud cluster\n",
    "client = weaviate.connect_to_weaviate_cloud(\n",
    "    cluster_url=weaviate_cluster_url,\n",
    "    auth_credentials=weaviate.auth.AuthApiKey(weaviate_api_key),\n",
    "    headers={\n",
    "        \"X-OpenAI-Api-Key\": openai_api_key\n",
    "    }\n",
    ")\n",
    "\n",
    "print(\"Client is ready:\", client.is_ready())"
   ]
  },
  {
   "cell_type": "markdown",
   "metadata": {},
   "source": [
    "## 2. Schema Configuration\n",
    "\n",
    "In Weaviate, you organize your data into **collections** (previously called classes), which are similar to tables in a relational database. Each collection has a set of **properties** that define the structure of your data objects. When you define a collection, you also specify a **vectorizer**, which is a machine learning model that converts your data into vector embeddings.\n",
    "\n",
    "Let's create a collection called `Article` with properties for `title`, `content`, and `url` using the OpenAI vectorizer."
   ]
  },
  {
   "cell_type": "code",
   "execution_count": 7,
   "metadata": {},
   "outputs": [
    {
     "name": "stdout",
     "output_type": "stream",
     "text": [
      "'Article' collection created successfully.\n"
     ]
    }
   ],
   "source": [
    "collection_name = \"Article\"\n",
    "\n",
    "if client.collections.exists(collection_name):\n",
    "    client.collections.delete(collection_name)\n",
    "\n",
    "# Use the latest config objects for vectorizer and generative modules\n",
    "from weaviate.classes.config import Configure, Property, DataType, Tokenization\n",
    "\n",
    "articles = client.collections.create(\n",
    "    name=collection_name,\n",
    "    vectorizer_config=Configure.Vectorizer.text2vec_openai(),\n",
    "    generative_config=Configure.Generative.openai(),\n",
    "    properties=[\n",
    "        Property(\n",
    "            name=\"title\",\n",
    "            data_type=DataType.TEXT\n",
    "        ),\n",
    "        Property(\n",
    "            name=\"content\",\n",
    "            data_type=DataType.TEXT\n",
    "        ),\n",
    "        Property(\n",
    "            name=\"url\",\n",
    "            data_type=DataType.TEXT,\n",
    "            tokenization=Tokenization.WHITESPACE # Use a simple tokenizer for URLs\n",
    "        )\n",
    "    ]\n",
    ")\n",
    "\n",
    "print(f\"'{collection_name}' collection created successfully.\")"
   ]
  },
  {
   "cell_type": "markdown",
   "metadata": {},
   "source": [
    "## 3. Data Import\n",
    "\n",
    "Now that we have our collection, let's import some data. We'll use a small dataset of articles. For efficient data ingestion, it's highly recommended to use **batching**."
   ]
  },
  {
   "cell_type": "code",
   "execution_count": 8,
   "metadata": {},
   "outputs": [
    {
     "name": "stdout",
     "output_type": "stream",
     "text": [
      "Data imported successfully.\n",
      "There are 4 articles in the collection.\n"
     ]
    }
   ],
   "source": [
    "data = [\n",
    "    {\"title\": \"The Future of AI\", \"content\": \"Artificial intelligence is rapidly evolving, with new breakthroughs happening every day.\", \"url\": \"http://example.com/ai\"},\n",
    "    {\"title\": \"Introduction to Vector Databases\", \"content\": \"Vector databases are designed to store and query high-dimensional data like vector embeddings.\", \"url\": \"http://example.com/vector-db\"},\n",
    "    {\"title\": \"The Rise of Large Language Models\", \"content\": \"Large language models, or LLMs, are a type of AI that can understand and generate human-like text.\", \"url\": \"http://example.com/llms\"},\n",
    "    {\"title\": \"Exploring the Cosmos\", \"content\": \"Space exploration continues to push the boundaries of our knowledge about the universe.\", \"url\": \"http://example.com/space\"},\n",
    "]\n",
    "\n",
    "with articles.batch.dynamic() as batch:\n",
    "    for item in data:\n",
    "        batch.add_object(\n",
    "            properties=item\n",
    "        )\n",
    "\n",
    "print(\"Data imported successfully.\")\n",
    "print(f\"There are {len(articles.query.fetch_objects().objects)} articles in the collection.\")"
   ]
  },
  {
   "cell_type": "markdown",
   "metadata": {},
   "source": [
    "## 4. Vector Search\n",
    "\n",
    "The core feature of Weaviate is **vector search**, which allows you to find objects based on their semantic similarity. You can perform a vector search using a text query, an image, or even another object's vector."
   ]
  },
  {
   "cell_type": "code",
   "execution_count": 9,
   "metadata": {},
   "outputs": [
    {
     "name": "stdout",
     "output_type": "stream",
     "text": [
      "{\n",
      "  \"url\": \"http://example.com/llms\",\n",
      "  \"title\": \"The Rise of Large Language Models\",\n",
      "  \"content\": \"Large language models, or LLMs, are a type of AI that can understand and generate human-like text.\"\n",
      "}\n",
      "{\n",
      "  \"url\": \"http://example.com/vector-db\",\n",
      "  \"title\": \"Introduction to Vector Databases\",\n",
      "  \"content\": \"Vector databases are designed to store and query high-dimensional data like vector embeddings.\"\n",
      "}\n"
     ]
    }
   ],
   "source": [
    "response = articles.query.near_text(\n",
    "    query=\"What are language models?\",\n",
    "    limit=2\n",
    ")\n",
    "\n",
    "for obj in response.objects:\n",
    "    print(json.dumps(obj.properties, indent=2))"
   ]
  },
  {
   "cell_type": "markdown",
   "metadata": {},
   "source": [
    "## 5. Generative Search\n",
    "\n",
    "Weaviate can also perform **generative search** (also known as Retrieval-Augmented Generation or RAG), where it combines the search results with a large language model to generate a direct answer to your query. This is a powerful feature for building question-answering systems."
   ]
  },
  {
   "cell_type": "code",
   "execution_count": 10,
   "metadata": {},
   "outputs": [
    {
     "name": "stdout",
     "output_type": "stream",
     "text": [
      "--- Original Content ---\n",
      "Vector databases are designed to store and query high-dimensional data like vector embeddings.\n",
      "--- Generated Summary ---\n",
      "Vector databases store high-dimensional vectors (like embeddings) and use specialized indexes and similarity search algorithms (e.g., approximate nearest neighbors) to quickly retrieve items based on semantic or distance-based similarity for tasks such as semantic search, recommendation, and retrieval-augmented generation.\n",
      "\n",
      "\n",
      "--- Original Content ---\n",
      "Large language models, or LLMs, are a type of AI that can understand and generate human-like text.\n",
      "--- Generated Summary ---\n",
      "Large language models (LLMs) are AI systems trained on vast amounts of text to understand context and generate fluent, human-like language.\n",
      "\n",
      "\n"
     ]
    }
   ],
   "source": [
    "response = articles.generate.near_text(\n",
    "    query=\"Explain vector databases in one sentence\",\n",
    "    limit=2,\n",
    "    single_prompt=\"Explain the following article in one sentence: {content}\"\n",
    ")\n",
    "\n",
    "for obj in response.objects:\n",
    "    print(\"--- Original Content ---\")\n",
    "    print(obj.properties['content'])\n",
    "    print(\"--- Generated Summary ---\")\n",
    "    print(obj.generated)\n",
    "    print(\"\\n\")"
   ]
  },
  {
   "cell_type": "markdown",
   "metadata": {},
   "source": [
    "You can also use a **grouped task** to get a single, consolidated answer based on all the search results."
   ]
  },
  {
   "cell_type": "code",
   "execution_count": 11,
   "metadata": {},
   "outputs": [
    {
     "name": "stdout",
     "output_type": "stream",
     "text": [
      "The main topic is artificial intelligence — specifically AI and large language models (two articles focus on AI/LLMs, one is about space).\n"
     ]
    }
   ],
   "source": [
    "response = articles.generate.near_text(\n",
    "    query=\"What is the common theme between these articles?\",\n",
    "    limit=3,\n",
    "    grouped_task=\"Based on the following articles, what is the main topic?\"\n",
    ")\n",
    "\n",
    "print(response.generated)"
   ]
  },
  {
   "cell_type": "markdown",
   "metadata": {},
   "source": [
    "## 6. Filtering\n",
    "\n",
    "You can combine vector search with **filters** to narrow down your results based on specific criteria. This allows you to perform complex queries that leverage both semantic and scalar information."
   ]
  },
  {
   "cell_type": "code",
   "execution_count": 12,
   "metadata": {},
   "outputs": [
    {
     "name": "stdout",
     "output_type": "stream",
     "text": [
      "{\n",
      "  \"url\": \"http://example.com/ai\",\n",
      "  \"title\": \"The Future of AI\",\n",
      "  \"content\": \"Artificial intelligence is rapidly evolving, with new breakthroughs happening every day.\"\n",
      "}\n"
     ]
    }
   ],
   "source": [
    "from weaviate.classes.query import Filter\n",
    "\n",
    "response = articles.query.near_text(\n",
    "    query=\"artificial intelligence\",\n",
    "    limit=2,\n",
    "    filters=Filter.by_property(\"title\").like(\"*AI*\") # Find articles with 'AI' in the title\n",
    ")\n",
    "\n",
    "for obj in response.objects:\n",
    "    print(json.dumps(obj.properties, indent=2))"
   ]
  },
  {
   "cell_type": "code",
   "execution_count": 13,
   "metadata": {},
   "outputs": [],
   "source": [
    "client.close() # Close the connection to Weaviate"
   ]
  },
  {
   "cell_type": "markdown",
   "metadata": {},
   "source": [
    "## 7. Conclusion\n",
    "\n",
    "Congratulations! You've completed this Weaviate tutorial and learned the fundamental concepts of vector databases. You now know how to:\n",
    "\n",
    "* Connect to Weaviate Cloud\n",
    "* Configure a schema with an OpenAI vectorizer\n",
    "* Import data using batching\n",
    "* Perform vector and generative (RAG) searches\n",
    "* Apply filters to your queries\n",
    "\n",
    "This is just the beginning of what you can do with Weaviate. To continue your journey, I recommend exploring the official Weaviate documentation and trying out more advanced features like cross-references and custom vectors. Happy building!"
   ]
  }
 ],
 "metadata": {
  "kernelspec": {
   "display_name": "Python 3",
   "language": "python",
   "name": "python3"
  },
  "language_info": {
   "codemirror_mode": {
    "name": "ipython",
    "version": 3
   },
   "file_extension": ".py",
   "mimetype": "text/x-python",
   "name": "python",
   "nbconvert_exporter": "python",
   "pygments_lexer": "ipython3",
   "version": "3.9.12"
  }
 },
 "nbformat": 4,
 "nbformat_minor": 2
}
