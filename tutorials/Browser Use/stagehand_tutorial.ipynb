{
 "cells": [
  {
   "cell_type": "markdown",
   "metadata": {},
   "source": [
    "# StageHand: AI-Powered Browser Automation \n",
    "\n",
    "Welcome to this tutorial on **StageHand**! \n",
    "\n",
    "StageHand is a powerful open-source framework that lets you automate web browsers using natural language. It's built on top of Playwright, combining the precision of code with the flexibility of AI. This makes your automation scripts more robust and resilient to website changes.\n",
    "\n",
    "In this notebook, we will cover the essential concepts to get you up and running with StageHand. We'll learn how to set it up, perform basic actions, extract data, and use its AI agent for more complex tasks.\n",
    "\n",
    "Core Concepts\n",
    "\n",
    "StageHand revolves around a few key functions:\n",
    "* `page.goto()`: Navigates to a specific URL.\n",
    "* `page.act()`: Performs an action on the page using a natural language instruction (e.g., \"click the login button\").\n",
    "* `page.extract()`: Extracts structured data from the page based on a description and a schema.\n",
    "* `page.observe()`: Previews the action that the AI will take without actually executing it, which is great for debugging and caching.\n",
    "* `agent.execute()`: Executes a multi-step task described in natural language."
   ]
  },
  {
   "cell_type": "markdown",
   "metadata": {},
   "source": [
    "## 1. Setup and Installation\n",
    "\n",
    "First, let's install the necessary Python libraries. We need `stagehand-py` for the core functionality and `python-dotenv` to manage our API keys securely."
   ]
  },
  {
   "cell_type": "code",
   "execution_count": 17,
   "metadata": {},
   "outputs": [],
   "source": [
    "#%pip install stagehand python-dotenv pydantic -q"
   ]
  },
  {
   "cell_type": "markdown",
   "metadata": {},
   "source": [
    "API Keys\n",
    "\n",
    "StageHand requires a couple of API keys to function:\n",
    "\n",
    "1.  **Browserbase API Key & Project ID**: StageHand uses Browserbase to run browsers in the cloud. You can get your free credentials from the Browserbase Dashboard.\n",
    "2.  **LLM API Key**: You need an API key from an AI provider like **OpenAI**, **Google**, or **Anthropic**.\n",
    "\n",
    "Create a file named `.env` in the same directory as this notebook and add your keys like this:\n"
   ]
  },
  {
   "cell_type": "code",
   "execution_count": null,
   "metadata": {},
   "outputs": [],
   "source": [
    "BROWSERBASE_API_KEY=\"your_browserbase_api_key\"\n",
    "BROWSERBASE_PROJECT_ID=\"your_browserbase_project_id\"\n",
    "OPENAI_API_KEY=\"your_openai_api_key\""
   ]
  },
  {
   "cell_type": "code",
   "execution_count": 44,
   "metadata": {},
   "outputs": [
    {
     "name": "stdout",
     "output_type": "stream",
     "text": [
      "API keys loaded: True\n"
     ]
    }
   ],
   "source": [
    "import os\n",
    "from dotenv import load_dotenv\n",
    "\n",
    "# Load environment variables from .env file\n",
    "load_dotenv()\n",
    "\n",
    "# Read env vars without exposing their values\n",
    "BROWSERBASE_API_KEY = os.getenv(\"BROWSERBASE_API_KEY\")\n",
    "BROWSERBASE_PROJECT_ID = os.getenv(\"BROWSERBASE_PROJECT_ID\")\n",
    "MODEL_API_KEY = os.getenv(\"OPENAI_API_KEY\")\n",
    "\n",
    "# Print only a boolean status, not the keys themselves\n",
    "keys_loaded = all([\n",
    "    bool(BROWSERBASE_API_KEY),\n",
    "    bool(BROWSERBASE_PROJECT_ID),\n",
    "    bool(MODEL_API_KEY),\n",
    "])\n",
    "print(\"API keys loaded:\", keys_loaded)"
   ]
  },
  {
   "cell_type": "markdown",
   "metadata": {},
   "source": [
    "## 2. Your First Automation: `goto` and `act`\n",
    "\n",
    "Let's start with a simple task: searching for \"StageHand AI\" on Google.\n",
    "\n",
    "We will initialize StageHand, navigate to Google, and use `page.act()` to perform the search. `act()` translates our plain English instruction into a browser action."
   ]
  },
  {
   "cell_type": "code",
   "execution_count": 48,
   "metadata": {},
   "outputs": [
    {
     "data": {
      "text/html": [
       "<pre style=\"white-space:pre;overflow-x:auto;line-height:normal;font-family:Menlo,'DejaVu Sans Mono',consolas,'Courier New',monospace\"><span style=\"color: #dfdfdf; text-decoration-color: #dfdfdf; font-weight: bold\">2025</span><span style=\"color: #dfdfdf; text-decoration-color: #dfdfdf\">-</span><span style=\"color: #dfdfdf; text-decoration-color: #dfdfdf; font-weight: bold\">08</span><span style=\"color: #dfdfdf; text-decoration-color: #dfdfdf\">-</span><span style=\"color: #dfdfdf; text-decoration-color: #dfdfdf; font-weight: bold\">15</span><span style=\"color: #dfdfdf; text-decoration-color: #dfdfdf\"> </span><span style=\"color: #dfdfdf; text-decoration-color: #dfdfdf; font-weight: bold\">12:43:22</span> <span style=\"color: #008080; text-decoration-color: #008080\">INFO</span> -  running act\n",
       "</pre>\n"
      ],
      "text/plain": [
       "\u001b[1;2;37m2025\u001b[0m\u001b[2;37m-\u001b[0m\u001b[1;2;37m08\u001b[0m\u001b[2;37m-\u001b[0m\u001b[1;2;37m15\u001b[0m\u001b[2;37m \u001b[0m\u001b[1;2;37m12:43:22\u001b[0m \u001b[36mINFO\u001b[0m -  running act\n"
      ]
     },
     "metadata": {},
     "output_type": "display_data"
    },
    {
     "data": {
      "text/html": [
       "<pre style=\"white-space:pre;overflow-x:auto;line-height:normal;font-family:Menlo,'DejaVu Sans Mono',consolas,'Courier New',monospace\"><span style=\"color: #dfdfdf; text-decoration-color: #dfdfdf; font-weight: bold\">2025</span><span style=\"color: #dfdfdf; text-decoration-color: #dfdfdf\">-</span><span style=\"color: #dfdfdf; text-decoration-color: #dfdfdf; font-weight: bold\">08</span><span style=\"color: #dfdfdf; text-decoration-color: #dfdfdf\">-</span><span style=\"color: #dfdfdf; text-decoration-color: #dfdfdf; font-weight: bold\">15</span><span style=\"color: #dfdfdf; text-decoration-color: #dfdfdf\"> </span><span style=\"color: #dfdfdf; text-decoration-color: #dfdfdf; font-weight: bold\">12:43:22</span> <span style=\"color: #008080; text-decoration-color: #008080\">INFO</span> -  starting observation\n",
       "</pre>\n"
      ],
      "text/plain": [
       "\u001b[1;2;37m2025\u001b[0m\u001b[2;37m-\u001b[0m\u001b[1;2;37m08\u001b[0m\u001b[2;37m-\u001b[0m\u001b[1;2;37m15\u001b[0m\u001b[2;37m \u001b[0m\u001b[1;2;37m12:43:22\u001b[0m \u001b[36mINFO\u001b[0m -  starting observation\n"
      ]
     },
     "metadata": {},
     "output_type": "display_data"
    },
    {
     "data": {
      "text/html": [
       "<pre style=\"white-space:pre;overflow-x:auto;line-height:normal;font-family:Menlo,'DejaVu Sans Mono',consolas,'Courier New',monospace\"><span style=\"color: #dfdfdf; text-decoration-color: #dfdfdf; font-weight: bold\">2025</span><span style=\"color: #dfdfdf; text-decoration-color: #dfdfdf\">-</span><span style=\"color: #dfdfdf; text-decoration-color: #dfdfdf; font-weight: bold\">08</span><span style=\"color: #dfdfdf; text-decoration-color: #dfdfdf\">-</span><span style=\"color: #dfdfdf; text-decoration-color: #dfdfdf; font-weight: bold\">15</span><span style=\"color: #dfdfdf; text-decoration-color: #dfdfdf\"> </span><span style=\"color: #dfdfdf; text-decoration-color: #dfdfdf; font-weight: bold\">12:43:23</span> <span style=\"color: #008080; text-decoration-color: #008080\">INFO</span> -  Getting accessibility tree data\n",
       "</pre>\n"
      ],
      "text/plain": [
       "\u001b[1;2;37m2025\u001b[0m\u001b[2;37m-\u001b[0m\u001b[1;2;37m08\u001b[0m\u001b[2;37m-\u001b[0m\u001b[1;2;37m15\u001b[0m\u001b[2;37m \u001b[0m\u001b[1;2;37m12:43:23\u001b[0m \u001b[36mINFO\u001b[0m -  Getting accessibility tree data\n"
      ]
     },
     "metadata": {},
     "output_type": "display_data"
    },
    {
     "data": {
      "text/html": [
       "<pre style=\"white-space:pre;overflow-x:auto;line-height:normal;font-family:Menlo,'DejaVu Sans Mono',consolas,'Courier New',monospace\"><span style=\"color: #dfdfdf; text-decoration-color: #dfdfdf; font-weight: bold\">2025</span><span style=\"color: #dfdfdf; text-decoration-color: #dfdfdf\">-</span><span style=\"color: #dfdfdf; text-decoration-color: #dfdfdf; font-weight: bold\">08</span><span style=\"color: #dfdfdf; text-decoration-color: #dfdfdf\">-</span><span style=\"color: #dfdfdf; text-decoration-color: #dfdfdf; font-weight: bold\">15</span><span style=\"color: #dfdfdf; text-decoration-color: #dfdfdf\"> </span><span style=\"color: #dfdfdf; text-decoration-color: #dfdfdf; font-weight: bold\">12:43:23</span> <span style=\"color: #008080; text-decoration-color: #008080\">INFO</span> -  got accessibility tree in <span style=\"color: #008080; text-decoration-color: #008080; font-weight: bold\">5</span> ms\n",
       "</pre>\n"
      ],
      "text/plain": [
       "\u001b[1;2;37m2025\u001b[0m\u001b[2;37m-\u001b[0m\u001b[1;2;37m08\u001b[0m\u001b[2;37m-\u001b[0m\u001b[1;2;37m15\u001b[0m\u001b[2;37m \u001b[0m\u001b[1;2;37m12:43:23\u001b[0m \u001b[36mINFO\u001b[0m -  got accessibility tree in \u001b[1;36m5\u001b[0m ms\n"
      ]
     },
     "metadata": {},
     "output_type": "display_data"
    },
    {
     "data": {
      "text/html": [
       "<pre style=\"white-space:pre;overflow-x:auto;line-height:normal;font-family:Menlo,'DejaVu Sans Mono',consolas,'Courier New',monospace\"><span style=\"color: #dfdfdf; text-decoration-color: #dfdfdf; font-weight: bold\">2025</span><span style=\"color: #dfdfdf; text-decoration-color: #dfdfdf\">-</span><span style=\"color: #dfdfdf; text-decoration-color: #dfdfdf; font-weight: bold\">08</span><span style=\"color: #dfdfdf; text-decoration-color: #dfdfdf\">-</span><span style=\"color: #dfdfdf; text-decoration-color: #dfdfdf; font-weight: bold\">15</span><span style=\"color: #dfdfdf; text-decoration-color: #dfdfdf\"> </span><span style=\"color: #dfdfdf; text-decoration-color: #dfdfdf; font-weight: bold\">12:43:30</span> <span style=\"color: #008080; text-decoration-color: #008080\">INFO</span> -  Warning: found <span style=\"color: #008080; text-decoration-color: #008080; font-weight: bold\">3</span> <span style=\"color: #800080; text-decoration-color: #800080; font-weight: bold\">iframe</span><span style=\"font-weight: bold\">(</span>s<span style=\"font-weight: bold\">)</span> on the page. If you wish to interact with iframe content, \n",
       "please make sure you are setting iframes: true\n",
       "</pre>\n"
      ],
      "text/plain": [
       "\u001b[1;2;37m2025\u001b[0m\u001b[2;37m-\u001b[0m\u001b[1;2;37m08\u001b[0m\u001b[2;37m-\u001b[0m\u001b[1;2;37m15\u001b[0m\u001b[2;37m \u001b[0m\u001b[1;2;37m12:43:30\u001b[0m \u001b[36mINFO\u001b[0m -  Warning: found \u001b[1;36m3\u001b[0m \u001b[1;35miframe\u001b[0m\u001b[1m(\u001b[0ms\u001b[1m)\u001b[0m on the page. If you wish to interact with iframe content, \n",
       "please make sure you are setting iframes: true\n"
      ]
     },
     "metadata": {},
     "output_type": "display_data"
    },
    {
     "data": {
      "text/html": [
       "<pre style=\"white-space:pre;overflow-x:auto;line-height:normal;font-family:Menlo,'DejaVu Sans Mono',consolas,'Courier New',monospace\"><span style=\"color: #dfdfdf; text-decoration-color: #dfdfdf; font-weight: bold\">2025</span><span style=\"color: #dfdfdf; text-decoration-color: #dfdfdf\">-</span><span style=\"color: #dfdfdf; text-decoration-color: #dfdfdf; font-weight: bold\">08</span><span style=\"color: #dfdfdf; text-decoration-color: #dfdfdf\">-</span><span style=\"color: #dfdfdf; text-decoration-color: #dfdfdf; font-weight: bold\">15</span><span style=\"color: #dfdfdf; text-decoration-color: #dfdfdf\"> </span><span style=\"color: #dfdfdf; text-decoration-color: #dfdfdf; font-weight: bold\">12:43:30</span> <span style=\"color: #008080; text-decoration-color: #008080\">INFO</span> -  Getting xpath for element\n",
       "</pre>\n"
      ],
      "text/plain": [
       "\u001b[1;2;37m2025\u001b[0m\u001b[2;37m-\u001b[0m\u001b[1;2;37m08\u001b[0m\u001b[2;37m-\u001b[0m\u001b[1;2;37m15\u001b[0m\u001b[2;37m \u001b[0m\u001b[1;2;37m12:43:30\u001b[0m \u001b[36mINFO\u001b[0m -  Getting xpath for element\n"
      ]
     },
     "metadata": {},
     "output_type": "display_data"
    },
    {
     "data": {
      "text/html": [
       "<pre style=\"white-space:pre;overflow-x:auto;line-height:normal;font-family:Menlo,'DejaVu Sans Mono',consolas,'Courier New',monospace\"><span style=\"color: #dfdfdf; text-decoration-color: #dfdfdf; font-weight: bold\">2025</span><span style=\"color: #dfdfdf; text-decoration-color: #dfdfdf\">-</span><span style=\"color: #dfdfdf; text-decoration-color: #dfdfdf; font-weight: bold\">08</span><span style=\"color: #dfdfdf; text-decoration-color: #dfdfdf\">-</span><span style=\"color: #dfdfdf; text-decoration-color: #dfdfdf; font-weight: bold\">15</span><span style=\"color: #dfdfdf; text-decoration-color: #dfdfdf\"> </span><span style=\"color: #dfdfdf; text-decoration-color: #dfdfdf; font-weight: bold\">12:43:30</span> <span style=\"color: #008080; text-decoration-color: #008080\">INFO</span> -  Getting xpath for element\n",
       "</pre>\n"
      ],
      "text/plain": [
       "\u001b[1;2;37m2025\u001b[0m\u001b[2;37m-\u001b[0m\u001b[1;2;37m08\u001b[0m\u001b[2;37m-\u001b[0m\u001b[1;2;37m15\u001b[0m\u001b[2;37m \u001b[0m\u001b[1;2;37m12:43:30\u001b[0m \u001b[36mINFO\u001b[0m -  Getting xpath for element\n"
      ]
     },
     "metadata": {},
     "output_type": "display_data"
    },
    {
     "data": {
      "text/html": [
       "<pre style=\"white-space:pre;overflow-x:auto;line-height:normal;font-family:Menlo,'DejaVu Sans Mono',consolas,'Courier New',monospace\"><span style=\"color: #dfdfdf; text-decoration-color: #dfdfdf; font-weight: bold\">2025</span><span style=\"color: #dfdfdf; text-decoration-color: #dfdfdf\">-</span><span style=\"color: #dfdfdf; text-decoration-color: #dfdfdf; font-weight: bold\">08</span><span style=\"color: #dfdfdf; text-decoration-color: #dfdfdf\">-</span><span style=\"color: #dfdfdf; text-decoration-color: #dfdfdf; font-weight: bold\">15</span><span style=\"color: #dfdfdf; text-decoration-color: #dfdfdf\"> </span><span style=\"color: #dfdfdf; text-decoration-color: #dfdfdf; font-weight: bold\">12:43:30</span> <span style=\"color: #008080; text-decoration-color: #008080\">INFO</span> -  Getting xpath for element\n",
       "</pre>\n"
      ],
      "text/plain": [
       "\u001b[1;2;37m2025\u001b[0m\u001b[2;37m-\u001b[0m\u001b[1;2;37m08\u001b[0m\u001b[2;37m-\u001b[0m\u001b[1;2;37m15\u001b[0m\u001b[2;37m \u001b[0m\u001b[1;2;37m12:43:30\u001b[0m \u001b[36mINFO\u001b[0m -  Getting xpath for element\n"
      ]
     },
     "metadata": {},
     "output_type": "display_data"
    },
    {
     "data": {
      "text/html": [
       "<pre style=\"white-space:pre;overflow-x:auto;line-height:normal;font-family:Menlo,'DejaVu Sans Mono',consolas,'Courier New',monospace\"><span style=\"color: #dfdfdf; text-decoration-color: #dfdfdf; font-weight: bold\">2025</span><span style=\"color: #dfdfdf; text-decoration-color: #dfdfdf\">-</span><span style=\"color: #dfdfdf; text-decoration-color: #dfdfdf; font-weight: bold\">08</span><span style=\"color: #dfdfdf; text-decoration-color: #dfdfdf\">-</span><span style=\"color: #dfdfdf; text-decoration-color: #dfdfdf; font-weight: bold\">15</span><span style=\"color: #dfdfdf; text-decoration-color: #dfdfdf\"> </span><span style=\"color: #dfdfdf; text-decoration-color: #dfdfdf; font-weight: bold\">12:43:30</span> <span style=\"color: #008080; text-decoration-color: #008080\">INFO</span> -  Getting xpath for element\n",
       "</pre>\n"
      ],
      "text/plain": [
       "\u001b[1;2;37m2025\u001b[0m\u001b[2;37m-\u001b[0m\u001b[1;2;37m08\u001b[0m\u001b[2;37m-\u001b[0m\u001b[1;2;37m15\u001b[0m\u001b[2;37m \u001b[0m\u001b[1;2;37m12:43:30\u001b[0m \u001b[36mINFO\u001b[0m -  Getting xpath for element\n"
      ]
     },
     "metadata": {},
     "output_type": "display_data"
    },
    {
     "data": {
      "text/html": [
       "<pre style=\"white-space:pre;overflow-x:auto;line-height:normal;font-family:Menlo,'DejaVu Sans Mono',consolas,'Courier New',monospace\"><span style=\"color: #dfdfdf; text-decoration-color: #dfdfdf; font-weight: bold\">2025</span><span style=\"color: #dfdfdf; text-decoration-color: #dfdfdf\">-</span><span style=\"color: #dfdfdf; text-decoration-color: #dfdfdf; font-weight: bold\">08</span><span style=\"color: #dfdfdf; text-decoration-color: #dfdfdf\">-</span><span style=\"color: #dfdfdf; text-decoration-color: #dfdfdf; font-weight: bold\">15</span><span style=\"color: #dfdfdf; text-decoration-color: #dfdfdf\"> </span><span style=\"color: #dfdfdf; text-decoration-color: #dfdfdf; font-weight: bold\">12:43:30</span> <span style=\"color: #008080; text-decoration-color: #008080\">INFO</span> -  found elements\n",
       "</pre>\n"
      ],
      "text/plain": [
       "\u001b[1;2;37m2025\u001b[0m\u001b[2;37m-\u001b[0m\u001b[1;2;37m08\u001b[0m\u001b[2;37m-\u001b[0m\u001b[1;2;37m15\u001b[0m\u001b[2;37m \u001b[0m\u001b[1;2;37m12:43:30\u001b[0m \u001b[36mINFO\u001b[0m -  found elements\n"
      ]
     },
     "metadata": {},
     "output_type": "display_data"
    },
    {
     "data": {
      "text/html": [
       "<pre style=\"white-space:pre;overflow-x:auto;line-height:normal;font-family:Menlo,'DejaVu Sans Mono',consolas,'Courier New',monospace\"><span style=\"color: #dfdfdf; text-decoration-color: #dfdfdf; font-weight: bold\">2025</span><span style=\"color: #dfdfdf; text-decoration-color: #dfdfdf\">-</span><span style=\"color: #dfdfdf; text-decoration-color: #dfdfdf; font-weight: bold\">08</span><span style=\"color: #dfdfdf; text-decoration-color: #dfdfdf\">-</span><span style=\"color: #dfdfdf; text-decoration-color: #dfdfdf; font-weight: bold\">15</span><span style=\"color: #dfdfdf; text-decoration-color: #dfdfdf\"> </span><span style=\"color: #dfdfdf; text-decoration-color: #dfdfdf; font-weight: bold\">12:43:30</span> <span style=\"color: #008080; text-decoration-color: #008080\">INFO</span> -  Performing act from an ObserveResult\n",
       "</pre>\n"
      ],
      "text/plain": [
       "\u001b[1;2;37m2025\u001b[0m\u001b[2;37m-\u001b[0m\u001b[1;2;37m08\u001b[0m\u001b[2;37m-\u001b[0m\u001b[1;2;37m15\u001b[0m\u001b[2;37m \u001b[0m\u001b[1;2;37m12:43:30\u001b[0m \u001b[36mINFO\u001b[0m -  Performing act from an ObserveResult\n"
      ]
     },
     "metadata": {},
     "output_type": "display_data"
    },
    {
     "data": {
      "text/html": [
       "<pre style=\"white-space:pre;overflow-x:auto;line-height:normal;font-family:Menlo,'DejaVu Sans Mono',consolas,'Courier New',monospace\"><span style=\"color: #dfdfdf; text-decoration-color: #dfdfdf; font-weight: bold\">2025</span><span style=\"color: #dfdfdf; text-decoration-color: #dfdfdf\">-</span><span style=\"color: #dfdfdf; text-decoration-color: #dfdfdf; font-weight: bold\">08</span><span style=\"color: #dfdfdf; text-decoration-color: #dfdfdf\">-</span><span style=\"color: #dfdfdf; text-decoration-color: #dfdfdf; font-weight: bold\">15</span><span style=\"color: #dfdfdf; text-decoration-color: #dfdfdf\"> </span><span style=\"color: #dfdfdf; text-decoration-color: #dfdfdf; font-weight: bold\">12:43:30</span> <span style=\"color: #008080; text-decoration-color: #008080\">INFO</span> -  click, checking for page navigation\n",
       "</pre>\n"
      ],
      "text/plain": [
       "\u001b[1;2;37m2025\u001b[0m\u001b[2;37m-\u001b[0m\u001b[1;2;37m08\u001b[0m\u001b[2;37m-\u001b[0m\u001b[1;2;37m15\u001b[0m\u001b[2;37m \u001b[0m\u001b[1;2;37m12:43:30\u001b[0m \u001b[36mINFO\u001b[0m -  click, checking for page navigation\n"
      ]
     },
     "metadata": {},
     "output_type": "display_data"
    },
    {
     "data": {
      "text/html": [
       "<pre style=\"white-space:pre;overflow-x:auto;line-height:normal;font-family:Menlo,'DejaVu Sans Mono',consolas,'Courier New',monospace\"><span style=\"color: #dfdfdf; text-decoration-color: #dfdfdf; font-weight: bold\">2025</span><span style=\"color: #dfdfdf; text-decoration-color: #dfdfdf\">-</span><span style=\"color: #dfdfdf; text-decoration-color: #dfdfdf; font-weight: bold\">08</span><span style=\"color: #dfdfdf; text-decoration-color: #dfdfdf\">-</span><span style=\"color: #dfdfdf; text-decoration-color: #dfdfdf; font-weight: bold\">15</span><span style=\"color: #dfdfdf; text-decoration-color: #dfdfdf\"> </span><span style=\"color: #dfdfdf; text-decoration-color: #dfdfdf; font-weight: bold\">12:43:31</span> <span style=\"color: #008080; text-decoration-color: #008080\">INFO</span> -  click complete\n",
       "</pre>\n"
      ],
      "text/plain": [
       "\u001b[1;2;37m2025\u001b[0m\u001b[2;37m-\u001b[0m\u001b[1;2;37m08\u001b[0m\u001b[2;37m-\u001b[0m\u001b[1;2;37m15\u001b[0m\u001b[2;37m \u001b[0m\u001b[1;2;37m12:43:31\u001b[0m \u001b[36mINFO\u001b[0m -  click complete\n"
      ]
     },
     "metadata": {},
     "output_type": "display_data"
    },
    {
     "data": {
      "text/html": [
       "<pre style=\"white-space:pre;overflow-x:auto;line-height:normal;font-family:Menlo,'DejaVu Sans Mono',consolas,'Courier New',monospace\"><span style=\"color: #dfdfdf; text-decoration-color: #dfdfdf; font-weight: bold\">2025</span><span style=\"color: #dfdfdf; text-decoration-color: #dfdfdf\">-</span><span style=\"color: #dfdfdf; text-decoration-color: #dfdfdf; font-weight: bold\">08</span><span style=\"color: #dfdfdf; text-decoration-color: #dfdfdf\">-</span><span style=\"color: #dfdfdf; text-decoration-color: #dfdfdf; font-weight: bold\">15</span><span style=\"color: #dfdfdf; text-decoration-color: #dfdfdf\"> </span><span style=\"color: #dfdfdf; text-decoration-color: #dfdfdf; font-weight: bold\">12:43:32</span> <span style=\"color: #008080; text-decoration-color: #008080\">INFO</span> -  finished waiting for <span style=\"font-weight: bold\">(</span>possible<span style=\"font-weight: bold\">)</span> page navigation\n",
       "</pre>\n"
      ],
      "text/plain": [
       "\u001b[1;2;37m2025\u001b[0m\u001b[2;37m-\u001b[0m\u001b[1;2;37m08\u001b[0m\u001b[2;37m-\u001b[0m\u001b[1;2;37m15\u001b[0m\u001b[2;37m \u001b[0m\u001b[1;2;37m12:43:32\u001b[0m \u001b[36mINFO\u001b[0m -  finished waiting for \u001b[1m(\u001b[0mpossible\u001b[1m)\u001b[0m page navigation\n"
      ]
     },
     "metadata": {},
     "output_type": "display_data"
    },
    {
     "data": {
      "text/html": [
       "<pre style=\"white-space:pre;overflow-x:auto;line-height:normal;font-family:Menlo,'DejaVu Sans Mono',consolas,'Courier New',monospace\"><span style=\"color: #dfdfdf; text-decoration-color: #dfdfdf; font-weight: bold\">2025</span><span style=\"color: #dfdfdf; text-decoration-color: #dfdfdf\">-</span><span style=\"color: #dfdfdf; text-decoration-color: #dfdfdf; font-weight: bold\">08</span><span style=\"color: #dfdfdf; text-decoration-color: #dfdfdf\">-</span><span style=\"color: #dfdfdf; text-decoration-color: #dfdfdf; font-weight: bold\">15</span><span style=\"color: #dfdfdf; text-decoration-color: #dfdfdf\"> </span><span style=\"color: #dfdfdf; text-decoration-color: #dfdfdf; font-weight: bold\">12:43:32</span> <span style=\"color: #008080; text-decoration-color: #008080\">INFO</span> -  new page detected with URL\n",
       "</pre>\n"
      ],
      "text/plain": [
       "\u001b[1;2;37m2025\u001b[0m\u001b[2;37m-\u001b[0m\u001b[1;2;37m08\u001b[0m\u001b[2;37m-\u001b[0m\u001b[1;2;37m15\u001b[0m\u001b[2;37m \u001b[0m\u001b[1;2;37m12:43:32\u001b[0m \u001b[36mINFO\u001b[0m -  new page detected with URL\n"
      ]
     },
     "metadata": {},
     "output_type": "display_data"
    },
    {
     "data": {
      "text/html": [
       "<pre style=\"white-space:pre;overflow-x:auto;line-height:normal;font-family:Menlo,'DejaVu Sans Mono',consolas,'Courier New',monospace\"><span style=\"color: #dfdfdf; text-decoration-color: #dfdfdf; font-weight: bold\">2025</span><span style=\"color: #dfdfdf; text-decoration-color: #dfdfdf\">-</span><span style=\"color: #dfdfdf; text-decoration-color: #dfdfdf; font-weight: bold\">08</span><span style=\"color: #dfdfdf; text-decoration-color: #dfdfdf\">-</span><span style=\"color: #dfdfdf; text-decoration-color: #dfdfdf; font-weight: bold\">15</span><span style=\"color: #dfdfdf; text-decoration-color: #dfdfdf\"> </span><span style=\"color: #dfdfdf; text-decoration-color: #dfdfdf; font-weight: bold\">12:43:34</span> <span style=\"color: #008080; text-decoration-color: #008080\">INFO</span> -  running extract\n",
       "</pre>\n"
      ],
      "text/plain": [
       "\u001b[1;2;37m2025\u001b[0m\u001b[2;37m-\u001b[0m\u001b[1;2;37m08\u001b[0m\u001b[2;37m-\u001b[0m\u001b[1;2;37m15\u001b[0m\u001b[2;37m \u001b[0m\u001b[1;2;37m12:43:34\u001b[0m \u001b[36mINFO\u001b[0m -  running extract\n"
      ]
     },
     "metadata": {},
     "output_type": "display_data"
    },
    {
     "data": {
      "text/html": [
       "<pre style=\"white-space:pre;overflow-x:auto;line-height:normal;font-family:Menlo,'DejaVu Sans Mono',consolas,'Courier New',monospace\"><span style=\"color: #dfdfdf; text-decoration-color: #dfdfdf; font-weight: bold\">2025</span><span style=\"color: #dfdfdf; text-decoration-color: #dfdfdf\">-</span><span style=\"color: #dfdfdf; text-decoration-color: #dfdfdf; font-weight: bold\">08</span><span style=\"color: #dfdfdf; text-decoration-color: #dfdfdf\">-</span><span style=\"color: #dfdfdf; text-decoration-color: #dfdfdf; font-weight: bold\">15</span><span style=\"color: #dfdfdf; text-decoration-color: #dfdfdf\"> </span><span style=\"color: #dfdfdf; text-decoration-color: #dfdfdf; font-weight: bold\">12:43:34</span> <span style=\"color: #008080; text-decoration-color: #008080\">INFO</span> -  starting extraction using a11y tree\n",
       "</pre>\n"
      ],
      "text/plain": [
       "\u001b[1;2;37m2025\u001b[0m\u001b[2;37m-\u001b[0m\u001b[1;2;37m08\u001b[0m\u001b[2;37m-\u001b[0m\u001b[1;2;37m15\u001b[0m\u001b[2;37m \u001b[0m\u001b[1;2;37m12:43:34\u001b[0m \u001b[36mINFO\u001b[0m -  starting extraction using a11y tree\n"
      ]
     },
     "metadata": {},
     "output_type": "display_data"
    },
    {
     "data": {
      "text/html": [
       "<pre style=\"white-space:pre;overflow-x:auto;line-height:normal;font-family:Menlo,'DejaVu Sans Mono',consolas,'Courier New',monospace\"><span style=\"color: #dfdfdf; text-decoration-color: #dfdfdf; font-weight: bold\">2025</span><span style=\"color: #dfdfdf; text-decoration-color: #dfdfdf\">-</span><span style=\"color: #dfdfdf; text-decoration-color: #dfdfdf; font-weight: bold\">08</span><span style=\"color: #dfdfdf; text-decoration-color: #dfdfdf\">-</span><span style=\"color: #dfdfdf; text-decoration-color: #dfdfdf; font-weight: bold\">15</span><span style=\"color: #dfdfdf; text-decoration-color: #dfdfdf\"> </span><span style=\"color: #dfdfdf; text-decoration-color: #dfdfdf; font-weight: bold\">12:43:35</span> <span style=\"color: #008080; text-decoration-color: #008080\">INFO</span> -  got accessibility tree in <span style=\"color: #008080; text-decoration-color: #008080; font-weight: bold\">9</span> ms\n",
       "</pre>\n"
      ],
      "text/plain": [
       "\u001b[1;2;37m2025\u001b[0m\u001b[2;37m-\u001b[0m\u001b[1;2;37m08\u001b[0m\u001b[2;37m-\u001b[0m\u001b[1;2;37m15\u001b[0m\u001b[2;37m \u001b[0m\u001b[1;2;37m12:43:35\u001b[0m \u001b[36mINFO\u001b[0m -  got accessibility tree in \u001b[1;36m9\u001b[0m ms\n"
      ]
     },
     "metadata": {},
     "output_type": "display_data"
    },
    {
     "data": {
      "text/html": [
       "<pre style=\"white-space:pre;overflow-x:auto;line-height:normal;font-family:Menlo,'DejaVu Sans Mono',consolas,'Courier New',monospace\"><span style=\"color: #dfdfdf; text-decoration-color: #dfdfdf; font-weight: bold\">2025</span><span style=\"color: #dfdfdf; text-decoration-color: #dfdfdf\">-</span><span style=\"color: #dfdfdf; text-decoration-color: #dfdfdf; font-weight: bold\">08</span><span style=\"color: #dfdfdf; text-decoration-color: #dfdfdf\">-</span><span style=\"color: #dfdfdf; text-decoration-color: #dfdfdf; font-weight: bold\">15</span><span style=\"color: #dfdfdf; text-decoration-color: #dfdfdf\"> </span><span style=\"color: #dfdfdf; text-decoration-color: #dfdfdf; font-weight: bold\">12:43:35</span> <span style=\"color: #008080; text-decoration-color: #008080\">INFO</span> -  Got accessibility tree data\n",
       "</pre>\n"
      ],
      "text/plain": [
       "\u001b[1;2;37m2025\u001b[0m\u001b[2;37m-\u001b[0m\u001b[1;2;37m08\u001b[0m\u001b[2;37m-\u001b[0m\u001b[1;2;37m15\u001b[0m\u001b[2;37m \u001b[0m\u001b[1;2;37m12:43:35\u001b[0m \u001b[36mINFO\u001b[0m -  Got accessibility tree data\n"
      ]
     },
     "metadata": {},
     "output_type": "display_data"
    },
    {
     "data": {
      "text/html": [
       "<pre style=\"white-space:pre;overflow-x:auto;line-height:normal;font-family:Menlo,'DejaVu Sans Mono',consolas,'Courier New',monospace\"><span style=\"color: #dfdfdf; text-decoration-color: #dfdfdf; font-weight: bold\">2025</span><span style=\"color: #dfdfdf; text-decoration-color: #dfdfdf\">-</span><span style=\"color: #dfdfdf; text-decoration-color: #dfdfdf; font-weight: bold\">08</span><span style=\"color: #dfdfdf; text-decoration-color: #dfdfdf\">-</span><span style=\"color: #dfdfdf; text-decoration-color: #dfdfdf; font-weight: bold\">15</span><span style=\"color: #dfdfdf; text-decoration-color: #dfdfdf\"> </span><span style=\"color: #dfdfdf; text-decoration-color: #dfdfdf; font-weight: bold\">12:43:37</span> <span style=\"color: #008080; text-decoration-color: #008080\">INFO</span> -  received extraction response\n",
       "</pre>\n"
      ],
      "text/plain": [
       "\u001b[1;2;37m2025\u001b[0m\u001b[2;37m-\u001b[0m\u001b[1;2;37m08\u001b[0m\u001b[2;37m-\u001b[0m\u001b[1;2;37m15\u001b[0m\u001b[2;37m \u001b[0m\u001b[1;2;37m12:43:37\u001b[0m \u001b[36mINFO\u001b[0m -  received extraction response\n"
      ]
     },
     "metadata": {},
     "output_type": "display_data"
    },
    {
     "data": {
      "text/html": [
       "<pre style=\"white-space:pre;overflow-x:auto;line-height:normal;font-family:Menlo,'DejaVu Sans Mono',consolas,'Courier New',monospace\"><span style=\"color: #dfdfdf; text-decoration-color: #dfdfdf; font-weight: bold\">2025</span><span style=\"color: #dfdfdf; text-decoration-color: #dfdfdf\">-</span><span style=\"color: #dfdfdf; text-decoration-color: #dfdfdf; font-weight: bold\">08</span><span style=\"color: #dfdfdf; text-decoration-color: #dfdfdf\">-</span><span style=\"color: #dfdfdf; text-decoration-color: #dfdfdf; font-weight: bold\">15</span><span style=\"color: #dfdfdf; text-decoration-color: #dfdfdf\"> </span><span style=\"color: #dfdfdf; text-decoration-color: #dfdfdf; font-weight: bold\">12:43:37</span> <span style=\"color: #008080; text-decoration-color: #008080\">INFO</span> -  extraction completed successfully\n",
       "</pre>\n"
      ],
      "text/plain": [
       "\u001b[1;2;37m2025\u001b[0m\u001b[2;37m-\u001b[0m\u001b[1;2;37m08\u001b[0m\u001b[2;37m-\u001b[0m\u001b[1;2;37m15\u001b[0m\u001b[2;37m \u001b[0m\u001b[1;2;37m12:43:37\u001b[0m \u001b[36mINFO\u001b[0m -  extraction completed successfully\n"
      ]
     },
     "metadata": {},
     "output_type": "display_data"
    },
    {
     "name": "stdout",
     "output_type": "stream",
     "text": [
      "Extracted: extraction='Quickstart'\n"
     ]
    }
   ],
   "source": [
    "from stagehand import Stagehand, StagehandConfig\n",
    "import asyncio\n",
    "import os\n",
    "\n",
    "async def main():\n",
    "    server_url = os.getenv(\"STAGEHAND_SERVER_URL\", \"https://api.stagehand.browserbase.com/v1\")\n",
    "    \n",
    "    config = StagehandConfig(\n",
    "        env=\"BROWSERBASE\",\n",
    "        api_key=BROWSERBASE_API_KEY,\n",
    "        project_id=BROWSERBASE_PROJECT_ID,\n",
    "        model_api_key=MODEL_API_KEY,\n",
    "        model_name=\"gpt-4o\",\n",
    "    )\n",
    "    \n",
    "    stagehand = Stagehand(config)\n",
    "    \n",
    "    # Set the server URL if it's not already set\n",
    "    if hasattr(stagehand, 'server_url'):\n",
    "        stagehand.server_url = server_url\n",
    "    \n",
    "    try:\n",
    "        await stagehand.init()\n",
    "        page = stagehand.page\n",
    "        \n",
    "        await page.goto(\"https://docs.stagehand.dev/\")\n",
    "        await page.act(\"click the quickstart link\")\n",
    "        \n",
    "        result = await page.extract(\"extract the main heading of the page\")\n",
    "        \n",
    "        print(f\"Extracted: {result}\")\n",
    "        \n",
    "    except Exception as e:\n",
    "        print(f\"Error occurred: {e}\")\n",
    "    finally:\n",
    "        try:\n",
    "            await stagehand.close()\n",
    "        except:\n",
    "            pass\n",
    "\n",
    "# Run the async main function in a notebook-safe way\n",
    "try:\n",
    "    loop = asyncio.get_running_loop()\n",
    "    import nest_asyncio\n",
    "    nest_asyncio.apply()\n",
    "    loop.run_until_complete(main())\n",
    "except RuntimeError:\n",
    "    asyncio.run(main())"
   ]
  },
  {
   "cell_type": "markdown",
   "metadata": {},
   "source": [
    "## 3. Extracting Structured Data with `extract`\n",
    "\n",
    "StageHand truly shines when it comes to data extraction. Instead of writing complex selectors (like XPath or CSS selectors), you can just describe the data you want.\n",
    "\n",
    "For structured output, we can use a **Pydantic** model to define the schema. Here, we'll navigate to the StageHand GitHub repository and extract the repository's name and star count."
   ]
  },
  {
   "cell_type": "code",
   "execution_count": 52,
   "metadata": {},
   "outputs": [
    {
     "name": "stdout",
     "output_type": "stream",
     "text": [
      "Navigated to: https://github.com/browserbase/stagehand\n"
     ]
    },
    {
     "data": {
      "text/html": [
       "<pre style=\"white-space:pre;overflow-x:auto;line-height:normal;font-family:Menlo,'DejaVu Sans Mono',consolas,'Courier New',monospace\"><span style=\"color: #dfdfdf; text-decoration-color: #dfdfdf; font-weight: bold\">2025</span><span style=\"color: #dfdfdf; text-decoration-color: #dfdfdf\">-</span><span style=\"color: #dfdfdf; text-decoration-color: #dfdfdf; font-weight: bold\">08</span><span style=\"color: #dfdfdf; text-decoration-color: #dfdfdf\">-</span><span style=\"color: #dfdfdf; text-decoration-color: #dfdfdf; font-weight: bold\">15</span><span style=\"color: #dfdfdf; text-decoration-color: #dfdfdf\"> </span><span style=\"color: #dfdfdf; text-decoration-color: #dfdfdf; font-weight: bold\">12:50:51</span> <span style=\"color: #008080; text-decoration-color: #008080\">INFO</span> -  running extract\n",
       "</pre>\n"
      ],
      "text/plain": [
       "\u001b[1;2;37m2025\u001b[0m\u001b[2;37m-\u001b[0m\u001b[1;2;37m08\u001b[0m\u001b[2;37m-\u001b[0m\u001b[1;2;37m15\u001b[0m\u001b[2;37m \u001b[0m\u001b[1;2;37m12:50:51\u001b[0m \u001b[36mINFO\u001b[0m -  running extract\n"
      ]
     },
     "metadata": {},
     "output_type": "display_data"
    },
    {
     "data": {
      "text/html": [
       "<pre style=\"white-space:pre;overflow-x:auto;line-height:normal;font-family:Menlo,'DejaVu Sans Mono',consolas,'Courier New',monospace\"><span style=\"color: #dfdfdf; text-decoration-color: #dfdfdf; font-weight: bold\">2025</span><span style=\"color: #dfdfdf; text-decoration-color: #dfdfdf\">-</span><span style=\"color: #dfdfdf; text-decoration-color: #dfdfdf; font-weight: bold\">08</span><span style=\"color: #dfdfdf; text-decoration-color: #dfdfdf\">-</span><span style=\"color: #dfdfdf; text-decoration-color: #dfdfdf; font-weight: bold\">15</span><span style=\"color: #dfdfdf; text-decoration-color: #dfdfdf\"> </span><span style=\"color: #dfdfdf; text-decoration-color: #dfdfdf; font-weight: bold\">12:50:51</span> <span style=\"color: #008080; text-decoration-color: #008080\">INFO</span> -  starting extraction using a11y tree\n",
       "</pre>\n"
      ],
      "text/plain": [
       "\u001b[1;2;37m2025\u001b[0m\u001b[2;37m-\u001b[0m\u001b[1;2;37m08\u001b[0m\u001b[2;37m-\u001b[0m\u001b[1;2;37m15\u001b[0m\u001b[2;37m \u001b[0m\u001b[1;2;37m12:50:51\u001b[0m \u001b[36mINFO\u001b[0m -  starting extraction using a11y tree\n"
      ]
     },
     "metadata": {},
     "output_type": "display_data"
    },
    {
     "data": {
      "text/html": [
       "<pre style=\"white-space:pre;overflow-x:auto;line-height:normal;font-family:Menlo,'DejaVu Sans Mono',consolas,'Courier New',monospace\"><span style=\"color: #dfdfdf; text-decoration-color: #dfdfdf; font-weight: bold\">2025</span><span style=\"color: #dfdfdf; text-decoration-color: #dfdfdf\">-</span><span style=\"color: #dfdfdf; text-decoration-color: #dfdfdf; font-weight: bold\">08</span><span style=\"color: #dfdfdf; text-decoration-color: #dfdfdf\">-</span><span style=\"color: #dfdfdf; text-decoration-color: #dfdfdf; font-weight: bold\">15</span><span style=\"color: #dfdfdf; text-decoration-color: #dfdfdf\"> </span><span style=\"color: #dfdfdf; text-decoration-color: #dfdfdf; font-weight: bold\">12:50:52</span> <span style=\"color: #008080; text-decoration-color: #008080\">INFO</span> -  got accessibility tree in <span style=\"color: #008080; text-decoration-color: #008080; font-weight: bold\">57</span> ms\n",
       "</pre>\n"
      ],
      "text/plain": [
       "\u001b[1;2;37m2025\u001b[0m\u001b[2;37m-\u001b[0m\u001b[1;2;37m08\u001b[0m\u001b[2;37m-\u001b[0m\u001b[1;2;37m15\u001b[0m\u001b[2;37m \u001b[0m\u001b[1;2;37m12:50:52\u001b[0m \u001b[36mINFO\u001b[0m -  got accessibility tree in \u001b[1;36m57\u001b[0m ms\n"
      ]
     },
     "metadata": {},
     "output_type": "display_data"
    },
    {
     "data": {
      "text/html": [
       "<pre style=\"white-space:pre;overflow-x:auto;line-height:normal;font-family:Menlo,'DejaVu Sans Mono',consolas,'Courier New',monospace\"><span style=\"color: #dfdfdf; text-decoration-color: #dfdfdf; font-weight: bold\">2025</span><span style=\"color: #dfdfdf; text-decoration-color: #dfdfdf\">-</span><span style=\"color: #dfdfdf; text-decoration-color: #dfdfdf; font-weight: bold\">08</span><span style=\"color: #dfdfdf; text-decoration-color: #dfdfdf\">-</span><span style=\"color: #dfdfdf; text-decoration-color: #dfdfdf; font-weight: bold\">15</span><span style=\"color: #dfdfdf; text-decoration-color: #dfdfdf\"> </span><span style=\"color: #dfdfdf; text-decoration-color: #dfdfdf; font-weight: bold\">12:50:52</span> <span style=\"color: #008080; text-decoration-color: #008080\">INFO</span> -  Got accessibility tree data\n",
       "</pre>\n"
      ],
      "text/plain": [
       "\u001b[1;2;37m2025\u001b[0m\u001b[2;37m-\u001b[0m\u001b[1;2;37m08\u001b[0m\u001b[2;37m-\u001b[0m\u001b[1;2;37m15\u001b[0m\u001b[2;37m \u001b[0m\u001b[1;2;37m12:50:52\u001b[0m \u001b[36mINFO\u001b[0m -  Got accessibility tree data\n"
      ]
     },
     "metadata": {},
     "output_type": "display_data"
    },
    {
     "data": {
      "text/html": [
       "<pre style=\"white-space:pre;overflow-x:auto;line-height:normal;font-family:Menlo,'DejaVu Sans Mono',consolas,'Courier New',monospace\"><span style=\"color: #dfdfdf; text-decoration-color: #dfdfdf; font-weight: bold\">2025</span><span style=\"color: #dfdfdf; text-decoration-color: #dfdfdf\">-</span><span style=\"color: #dfdfdf; text-decoration-color: #dfdfdf; font-weight: bold\">08</span><span style=\"color: #dfdfdf; text-decoration-color: #dfdfdf\">-</span><span style=\"color: #dfdfdf; text-decoration-color: #dfdfdf; font-weight: bold\">15</span><span style=\"color: #dfdfdf; text-decoration-color: #dfdfdf\"> </span><span style=\"color: #dfdfdf; text-decoration-color: #dfdfdf; font-weight: bold\">12:50:57</span> <span style=\"color: #008080; text-decoration-color: #008080\">INFO</span> -  received extraction response\n",
       "</pre>\n"
      ],
      "text/plain": [
       "\u001b[1;2;37m2025\u001b[0m\u001b[2;37m-\u001b[0m\u001b[1;2;37m08\u001b[0m\u001b[2;37m-\u001b[0m\u001b[1;2;37m15\u001b[0m\u001b[2;37m \u001b[0m\u001b[1;2;37m12:50:57\u001b[0m \u001b[36mINFO\u001b[0m -  received extraction response\n"
      ]
     },
     "metadata": {},
     "output_type": "display_data"
    },
    {
     "data": {
      "text/html": [
       "<pre style=\"white-space:pre;overflow-x:auto;line-height:normal;font-family:Menlo,'DejaVu Sans Mono',consolas,'Courier New',monospace\"><span style=\"color: #dfdfdf; text-decoration-color: #dfdfdf; font-weight: bold\">2025</span><span style=\"color: #dfdfdf; text-decoration-color: #dfdfdf\">-</span><span style=\"color: #dfdfdf; text-decoration-color: #dfdfdf; font-weight: bold\">08</span><span style=\"color: #dfdfdf; text-decoration-color: #dfdfdf\">-</span><span style=\"color: #dfdfdf; text-decoration-color: #dfdfdf; font-weight: bold\">15</span><span style=\"color: #dfdfdf; text-decoration-color: #dfdfdf\"> </span><span style=\"color: #dfdfdf; text-decoration-color: #dfdfdf; font-weight: bold\">12:50:57</span> <span style=\"color: #008080; text-decoration-color: #008080\">INFO</span> -  extraction completed successfully\n",
       "</pre>\n"
      ],
      "text/plain": [
       "\u001b[1;2;37m2025\u001b[0m\u001b[2;37m-\u001b[0m\u001b[1;2;37m08\u001b[0m\u001b[2;37m-\u001b[0m\u001b[1;2;37m15\u001b[0m\u001b[2;37m \u001b[0m\u001b[1;2;37m12:50:57\u001b[0m \u001b[36mINFO\u001b[0m -  extraction completed successfully\n"
      ]
     },
     "metadata": {},
     "output_type": "display_data"
    },
    {
     "name": "stdout",
     "output_type": "stream",
     "text": [
      "Raw extraction result: extraction='{\\n    \"name\": \"stagehand\",\\n    \"stars\": \"16.3k\"\\n}'\n",
      "✅ Structured Extraction Success!\n",
      "   Repository Name: stagehand\n",
      "   Stars: 16.3k\n",
      "Session closed.\n"
     ]
    }
   ],
   "source": [
    "import asyncio\n",
    "import os\n",
    "from pydantic import BaseModel, Field\n",
    "from stagehand import Stagehand, StagehandConfig\n",
    "\n",
    "# Define the data structure we want to extract\n",
    "class RepoInfo(BaseModel):\n",
    "    name: str = Field(description=\"The name of the repository\")\n",
    "    stars: str = Field(description=\"The star count of the repository\")\n",
    "\n",
    "async def main():\n",
    "    # Get the server URL - using the correct StageHand API endpoint\n",
    "    server_url = os.getenv(\"STAGEHAND_SERVER_URL\", \"https://api.stagehand.browserbase.com/v1\")\n",
    "    \n",
    "    config = StagehandConfig(\n",
    "        env=\"BROWSERBASE\",\n",
    "        api_key=BROWSERBASE_API_KEY,\n",
    "        project_id=BROWSERBASE_PROJECT_ID,\n",
    "        model_api_key=MODEL_API_KEY,\n",
    "        model_name=\"gpt-4o\",\n",
    "    )\n",
    "    \n",
    "    stagehand = Stagehand(config)\n",
    "    \n",
    "    # Set the server URL if it's not already set\n",
    "    if hasattr(stagehand, 'server_url'):\n",
    "        stagehand.server_url = server_url\n",
    "    \n",
    "    try:\n",
    "        await stagehand.init()\n",
    "        page = stagehand.page\n",
    "        \n",
    "        await page.goto(\"https://github.com/browserbase/stagehand\")\n",
    "        print(f\"Navigated to: {page.url}\")\n",
    "\n",
    "        # Method 1: Extract using structured format with specific instruction\n",
    "        result = await page.extract(\n",
    "            instruction=\"\"\"Extract the repository information and return it in this exact JSON format:\n",
    "            {\n",
    "                \"name\": \"repository name from the page\",\n",
    "                \"stars\": \"star count number with k suffix if applicable\"\n",
    "            }\n",
    "            \n",
    "            Only return the JSON object, nothing else.\"\"\"\n",
    "        )\n",
    "        \n",
    "        print(f\"Raw extraction result: {result}\")\n",
    "        \n",
    "        # Try to parse the result\n",
    "        try:\n",
    "            import json\n",
    "            if hasattr(result, 'extraction'):\n",
    "                data_str = result.extraction\n",
    "            else:\n",
    "                data_str = str(result)\n",
    "            \n",
    "            # Try to extract JSON from the string\n",
    "            if '{' in data_str and '}' in data_str:\n",
    "                start = data_str.find('{')\n",
    "                end = data_str.rfind('}') + 1\n",
    "                json_str = data_str[start:end]\n",
    "                data = json.loads(json_str)\n",
    "                \n",
    "                # Validate and print the extracted data\n",
    "                repo_data = RepoInfo(**data)\n",
    "                print(f\"✅ Structured Extraction Success!\")\n",
    "                print(f\"   Repository Name: {repo_data.name}\")\n",
    "                print(f\"   Stars: {repo_data.stars}\")\n",
    "            else:\n",
    "                print(f\"ℹ️ Extraction result (text format): {data_str}\")\n",
    "                \n",
    "        except Exception as parse_error:\n",
    "            print(f\"⚠️ Could not parse as JSON: {parse_error}\")\n",
    "            print(f\"   Raw result: {result}\")\n",
    "\n",
    "    except Exception as e:\n",
    "        print(f\"❌ Error occurred: {e}\")\n",
    "        import traceback\n",
    "        traceback.print_exc()\n",
    "    finally:\n",
    "        try:\n",
    "            await stagehand.close()\n",
    "        except:\n",
    "            pass\n",
    "        print(\"Session closed.\")\n",
    "\n",
    "# Run the async main function in a notebook-safe way\n",
    "try:\n",
    "    loop = asyncio.get_running_loop()\n",
    "    import nest_asyncio\n",
    "    nest_asyncio.apply()\n",
    "    loop.run_until_complete(main())\n",
    "except RuntimeError:\n",
    "    asyncio.run(main())"
   ]
  },
  {
   "cell_type": "markdown",
   "metadata": {},
   "source": [
    "## 4. Advanced Control with the StageHand Agent\n",
    "\n",
    "For more complex, multi-step workflows, you can use the StageHand **Agent**. The `agent.execute()` method can follow a higher-level instruction by breaking it down into smaller steps automatically.\n",
    "\n",
    "Let's try a research task: find the official documentation for StageHand and get its introductory sentence."
   ]
  },
  {
   "cell_type": "code",
   "execution_count": 55,
   "metadata": {},
   "outputs": [
    {
     "name": "stdout",
     "output_type": "stream",
     "text": [
      "✓ StageHand initialized successfully\n",
      "🤖 Performing multi-step automation...\n",
      "   ✓ Navigated to StageHand documentation\n",
      "   ✓ Navigated to StageHand documentation\n"
     ]
    },
    {
     "data": {
      "text/html": [
       "<pre style=\"white-space:pre;overflow-x:auto;line-height:normal;font-family:Menlo,'DejaVu Sans Mono',consolas,'Courier New',monospace\"><span style=\"color: #dfdfdf; text-decoration-color: #dfdfdf; font-weight: bold\">2025</span><span style=\"color: #dfdfdf; text-decoration-color: #dfdfdf\">-</span><span style=\"color: #dfdfdf; text-decoration-color: #dfdfdf; font-weight: bold\">08</span><span style=\"color: #dfdfdf; text-decoration-color: #dfdfdf\">-</span><span style=\"color: #dfdfdf; text-decoration-color: #dfdfdf; font-weight: bold\">15</span><span style=\"color: #dfdfdf; text-decoration-color: #dfdfdf\"> </span><span style=\"color: #dfdfdf; text-decoration-color: #dfdfdf; font-weight: bold\">12:52:41</span> <span style=\"color: #008080; text-decoration-color: #008080\">INFO</span> -  running extract\n",
       "</pre>\n"
      ],
      "text/plain": [
       "\u001b[1;2;37m2025\u001b[0m\u001b[2;37m-\u001b[0m\u001b[1;2;37m08\u001b[0m\u001b[2;37m-\u001b[0m\u001b[1;2;37m15\u001b[0m\u001b[2;37m \u001b[0m\u001b[1;2;37m12:52:41\u001b[0m \u001b[36mINFO\u001b[0m -  running extract\n"
      ]
     },
     "metadata": {},
     "output_type": "display_data"
    },
    {
     "data": {
      "text/html": [
       "<pre style=\"white-space:pre;overflow-x:auto;line-height:normal;font-family:Menlo,'DejaVu Sans Mono',consolas,'Courier New',monospace\"><span style=\"color: #dfdfdf; text-decoration-color: #dfdfdf; font-weight: bold\">2025</span><span style=\"color: #dfdfdf; text-decoration-color: #dfdfdf\">-</span><span style=\"color: #dfdfdf; text-decoration-color: #dfdfdf; font-weight: bold\">08</span><span style=\"color: #dfdfdf; text-decoration-color: #dfdfdf\">-</span><span style=\"color: #dfdfdf; text-decoration-color: #dfdfdf; font-weight: bold\">15</span><span style=\"color: #dfdfdf; text-decoration-color: #dfdfdf\"> </span><span style=\"color: #dfdfdf; text-decoration-color: #dfdfdf; font-weight: bold\">12:52:41</span> <span style=\"color: #008080; text-decoration-color: #008080\">INFO</span> -  starting extraction using a11y tree\n",
       "</pre>\n"
      ],
      "text/plain": [
       "\u001b[1;2;37m2025\u001b[0m\u001b[2;37m-\u001b[0m\u001b[1;2;37m08\u001b[0m\u001b[2;37m-\u001b[0m\u001b[1;2;37m15\u001b[0m\u001b[2;37m \u001b[0m\u001b[1;2;37m12:52:41\u001b[0m \u001b[36mINFO\u001b[0m -  starting extraction using a11y tree\n"
      ]
     },
     "metadata": {},
     "output_type": "display_data"
    },
    {
     "data": {
      "text/html": [
       "<pre style=\"white-space:pre;overflow-x:auto;line-height:normal;font-family:Menlo,'DejaVu Sans Mono',consolas,'Courier New',monospace\"><span style=\"color: #dfdfdf; text-decoration-color: #dfdfdf; font-weight: bold\">2025</span><span style=\"color: #dfdfdf; text-decoration-color: #dfdfdf\">-</span><span style=\"color: #dfdfdf; text-decoration-color: #dfdfdf; font-weight: bold\">08</span><span style=\"color: #dfdfdf; text-decoration-color: #dfdfdf\">-</span><span style=\"color: #dfdfdf; text-decoration-color: #dfdfdf; font-weight: bold\">15</span><span style=\"color: #dfdfdf; text-decoration-color: #dfdfdf\"> </span><span style=\"color: #dfdfdf; text-decoration-color: #dfdfdf; font-weight: bold\">12:52:42</span> <span style=\"color: #008080; text-decoration-color: #008080\">INFO</span> -  got accessibility tree in <span style=\"color: #008080; text-decoration-color: #008080; font-weight: bold\">7</span> ms\n",
       "</pre>\n"
      ],
      "text/plain": [
       "\u001b[1;2;37m2025\u001b[0m\u001b[2;37m-\u001b[0m\u001b[1;2;37m08\u001b[0m\u001b[2;37m-\u001b[0m\u001b[1;2;37m15\u001b[0m\u001b[2;37m \u001b[0m\u001b[1;2;37m12:52:42\u001b[0m \u001b[36mINFO\u001b[0m -  got accessibility tree in \u001b[1;36m7\u001b[0m ms\n"
      ]
     },
     "metadata": {},
     "output_type": "display_data"
    },
    {
     "data": {
      "text/html": [
       "<pre style=\"white-space:pre;overflow-x:auto;line-height:normal;font-family:Menlo,'DejaVu Sans Mono',consolas,'Courier New',monospace\"><span style=\"color: #dfdfdf; text-decoration-color: #dfdfdf; font-weight: bold\">2025</span><span style=\"color: #dfdfdf; text-decoration-color: #dfdfdf\">-</span><span style=\"color: #dfdfdf; text-decoration-color: #dfdfdf; font-weight: bold\">08</span><span style=\"color: #dfdfdf; text-decoration-color: #dfdfdf\">-</span><span style=\"color: #dfdfdf; text-decoration-color: #dfdfdf; font-weight: bold\">15</span><span style=\"color: #dfdfdf; text-decoration-color: #dfdfdf\"> </span><span style=\"color: #dfdfdf; text-decoration-color: #dfdfdf; font-weight: bold\">12:52:42</span> <span style=\"color: #008080; text-decoration-color: #008080\">INFO</span> -  Got accessibility tree data\n",
       "</pre>\n"
      ],
      "text/plain": [
       "\u001b[1;2;37m2025\u001b[0m\u001b[2;37m-\u001b[0m\u001b[1;2;37m08\u001b[0m\u001b[2;37m-\u001b[0m\u001b[1;2;37m15\u001b[0m\u001b[2;37m \u001b[0m\u001b[1;2;37m12:52:42\u001b[0m \u001b[36mINFO\u001b[0m -  Got accessibility tree data\n"
      ]
     },
     "metadata": {},
     "output_type": "display_data"
    },
    {
     "data": {
      "text/html": [
       "<pre style=\"white-space:pre;overflow-x:auto;line-height:normal;font-family:Menlo,'DejaVu Sans Mono',consolas,'Courier New',monospace\"><span style=\"color: #dfdfdf; text-decoration-color: #dfdfdf; font-weight: bold\">2025</span><span style=\"color: #dfdfdf; text-decoration-color: #dfdfdf\">-</span><span style=\"color: #dfdfdf; text-decoration-color: #dfdfdf; font-weight: bold\">08</span><span style=\"color: #dfdfdf; text-decoration-color: #dfdfdf\">-</span><span style=\"color: #dfdfdf; text-decoration-color: #dfdfdf; font-weight: bold\">15</span><span style=\"color: #dfdfdf; text-decoration-color: #dfdfdf\"> </span><span style=\"color: #dfdfdf; text-decoration-color: #dfdfdf; font-weight: bold\">12:52:42</span> <span style=\"color: #008080; text-decoration-color: #008080\">INFO</span> -  Warning: found <span style=\"color: #008080; text-decoration-color: #008080; font-weight: bold\">3</span> <span style=\"color: #800080; text-decoration-color: #800080; font-weight: bold\">iframe</span><span style=\"font-weight: bold\">(</span>s<span style=\"font-weight: bold\">)</span> on the page. If you wish to interact with iframe content, \n",
       "please make sure you are setting iframes: true\n",
       "</pre>\n"
      ],
      "text/plain": [
       "\u001b[1;2;37m2025\u001b[0m\u001b[2;37m-\u001b[0m\u001b[1;2;37m08\u001b[0m\u001b[2;37m-\u001b[0m\u001b[1;2;37m15\u001b[0m\u001b[2;37m \u001b[0m\u001b[1;2;37m12:52:42\u001b[0m \u001b[36mINFO\u001b[0m -  Warning: found \u001b[1;36m3\u001b[0m \u001b[1;35miframe\u001b[0m\u001b[1m(\u001b[0ms\u001b[1m)\u001b[0m on the page. If you wish to interact with iframe content, \n",
       "please make sure you are setting iframes: true\n"
      ]
     },
     "metadata": {},
     "output_type": "display_data"
    },
    {
     "data": {
      "text/html": [
       "<pre style=\"white-space:pre;overflow-x:auto;line-height:normal;font-family:Menlo,'DejaVu Sans Mono',consolas,'Courier New',monospace\"><span style=\"color: #dfdfdf; text-decoration-color: #dfdfdf; font-weight: bold\">2025</span><span style=\"color: #dfdfdf; text-decoration-color: #dfdfdf\">-</span><span style=\"color: #dfdfdf; text-decoration-color: #dfdfdf; font-weight: bold\">08</span><span style=\"color: #dfdfdf; text-decoration-color: #dfdfdf\">-</span><span style=\"color: #dfdfdf; text-decoration-color: #dfdfdf; font-weight: bold\">15</span><span style=\"color: #dfdfdf; text-decoration-color: #dfdfdf\"> </span><span style=\"color: #dfdfdf; text-decoration-color: #dfdfdf; font-weight: bold\">12:52:46</span> <span style=\"color: #008080; text-decoration-color: #008080\">INFO</span> -  received extraction response\n",
       "</pre>\n"
      ],
      "text/plain": [
       "\u001b[1;2;37m2025\u001b[0m\u001b[2;37m-\u001b[0m\u001b[1;2;37m08\u001b[0m\u001b[2;37m-\u001b[0m\u001b[1;2;37m15\u001b[0m\u001b[2;37m \u001b[0m\u001b[1;2;37m12:52:46\u001b[0m \u001b[36mINFO\u001b[0m -  received extraction response\n"
      ]
     },
     "metadata": {},
     "output_type": "display_data"
    },
    {
     "data": {
      "text/html": [
       "<pre style=\"white-space:pre;overflow-x:auto;line-height:normal;font-family:Menlo,'DejaVu Sans Mono',consolas,'Courier New',monospace\"><span style=\"color: #dfdfdf; text-decoration-color: #dfdfdf; font-weight: bold\">2025</span><span style=\"color: #dfdfdf; text-decoration-color: #dfdfdf\">-</span><span style=\"color: #dfdfdf; text-decoration-color: #dfdfdf; font-weight: bold\">08</span><span style=\"color: #dfdfdf; text-decoration-color: #dfdfdf\">-</span><span style=\"color: #dfdfdf; text-decoration-color: #dfdfdf; font-weight: bold\">15</span><span style=\"color: #dfdfdf; text-decoration-color: #dfdfdf\"> </span><span style=\"color: #dfdfdf; text-decoration-color: #dfdfdf; font-weight: bold\">12:52:46</span> <span style=\"color: #008080; text-decoration-color: #008080\">INFO</span> -  extraction completed successfully\n",
       "</pre>\n"
      ],
      "text/plain": [
       "\u001b[1;2;37m2025\u001b[0m\u001b[2;37m-\u001b[0m\u001b[1;2;37m08\u001b[0m\u001b[2;37m-\u001b[0m\u001b[1;2;37m15\u001b[0m\u001b[2;37m \u001b[0m\u001b[1;2;37m12:52:46\u001b[0m \u001b[36mINFO\u001b[0m -  extraction completed successfully\n"
      ]
     },
     "metadata": {},
     "output_type": "display_data"
    },
    {
     "name": "stdout",
     "output_type": "stream",
     "text": [
      "   ✓ Extracted introduction: extraction='**Main Heading:**\\nWhat is Stagehand?\\n\\n**First Description Paragraph:**\\nStagehand allows you to automate browsers with natural language and code.'\n"
     ]
    },
    {
     "data": {
      "text/html": [
       "<pre style=\"white-space:pre;overflow-x:auto;line-height:normal;font-family:Menlo,'DejaVu Sans Mono',consolas,'Courier New',monospace\"><span style=\"color: #dfdfdf; text-decoration-color: #dfdfdf; font-weight: bold\">2025</span><span style=\"color: #dfdfdf; text-decoration-color: #dfdfdf\">-</span><span style=\"color: #dfdfdf; text-decoration-color: #dfdfdf; font-weight: bold\">08</span><span style=\"color: #dfdfdf; text-decoration-color: #dfdfdf\">-</span><span style=\"color: #dfdfdf; text-decoration-color: #dfdfdf; font-weight: bold\">15</span><span style=\"color: #dfdfdf; text-decoration-color: #dfdfdf\"> </span><span style=\"color: #dfdfdf; text-decoration-color: #dfdfdf; font-weight: bold\">12:52:48</span> <span style=\"color: #008080; text-decoration-color: #008080\">INFO</span> -  running act\n",
       "</pre>\n"
      ],
      "text/plain": [
       "\u001b[1;2;37m2025\u001b[0m\u001b[2;37m-\u001b[0m\u001b[1;2;37m08\u001b[0m\u001b[2;37m-\u001b[0m\u001b[1;2;37m15\u001b[0m\u001b[2;37m \u001b[0m\u001b[1;2;37m12:52:48\u001b[0m \u001b[36mINFO\u001b[0m -  running act\n"
      ]
     },
     "metadata": {},
     "output_type": "display_data"
    },
    {
     "data": {
      "text/html": [
       "<pre style=\"white-space:pre;overflow-x:auto;line-height:normal;font-family:Menlo,'DejaVu Sans Mono',consolas,'Courier New',monospace\"><span style=\"color: #dfdfdf; text-decoration-color: #dfdfdf; font-weight: bold\">2025</span><span style=\"color: #dfdfdf; text-decoration-color: #dfdfdf\">-</span><span style=\"color: #dfdfdf; text-decoration-color: #dfdfdf; font-weight: bold\">08</span><span style=\"color: #dfdfdf; text-decoration-color: #dfdfdf\">-</span><span style=\"color: #dfdfdf; text-decoration-color: #dfdfdf; font-weight: bold\">15</span><span style=\"color: #dfdfdf; text-decoration-color: #dfdfdf\"> </span><span style=\"color: #dfdfdf; text-decoration-color: #dfdfdf; font-weight: bold\">12:52:48</span> <span style=\"color: #008080; text-decoration-color: #008080\">INFO</span> -  starting observation\n",
       "</pre>\n"
      ],
      "text/plain": [
       "\u001b[1;2;37m2025\u001b[0m\u001b[2;37m-\u001b[0m\u001b[1;2;37m08\u001b[0m\u001b[2;37m-\u001b[0m\u001b[1;2;37m15\u001b[0m\u001b[2;37m \u001b[0m\u001b[1;2;37m12:52:48\u001b[0m \u001b[36mINFO\u001b[0m -  starting observation\n"
      ]
     },
     "metadata": {},
     "output_type": "display_data"
    },
    {
     "data": {
      "text/html": [
       "<pre style=\"white-space:pre;overflow-x:auto;line-height:normal;font-family:Menlo,'DejaVu Sans Mono',consolas,'Courier New',monospace\"><span style=\"color: #dfdfdf; text-decoration-color: #dfdfdf; font-weight: bold\">2025</span><span style=\"color: #dfdfdf; text-decoration-color: #dfdfdf\">-</span><span style=\"color: #dfdfdf; text-decoration-color: #dfdfdf; font-weight: bold\">08</span><span style=\"color: #dfdfdf; text-decoration-color: #dfdfdf\">-</span><span style=\"color: #dfdfdf; text-decoration-color: #dfdfdf; font-weight: bold\">15</span><span style=\"color: #dfdfdf; text-decoration-color: #dfdfdf\"> </span><span style=\"color: #dfdfdf; text-decoration-color: #dfdfdf; font-weight: bold\">12:52:48</span> <span style=\"color: #008080; text-decoration-color: #008080\">INFO</span> -  Getting accessibility tree data\n",
       "</pre>\n"
      ],
      "text/plain": [
       "\u001b[1;2;37m2025\u001b[0m\u001b[2;37m-\u001b[0m\u001b[1;2;37m08\u001b[0m\u001b[2;37m-\u001b[0m\u001b[1;2;37m15\u001b[0m\u001b[2;37m \u001b[0m\u001b[1;2;37m12:52:48\u001b[0m \u001b[36mINFO\u001b[0m -  Getting accessibility tree data\n"
      ]
     },
     "metadata": {},
     "output_type": "display_data"
    },
    {
     "data": {
      "text/html": [
       "<pre style=\"white-space:pre;overflow-x:auto;line-height:normal;font-family:Menlo,'DejaVu Sans Mono',consolas,'Courier New',monospace\"><span style=\"color: #dfdfdf; text-decoration-color: #dfdfdf; font-weight: bold\">2025</span><span style=\"color: #dfdfdf; text-decoration-color: #dfdfdf\">-</span><span style=\"color: #dfdfdf; text-decoration-color: #dfdfdf; font-weight: bold\">08</span><span style=\"color: #dfdfdf; text-decoration-color: #dfdfdf\">-</span><span style=\"color: #dfdfdf; text-decoration-color: #dfdfdf; font-weight: bold\">15</span><span style=\"color: #dfdfdf; text-decoration-color: #dfdfdf\"> </span><span style=\"color: #dfdfdf; text-decoration-color: #dfdfdf; font-weight: bold\">12:52:49</span> <span style=\"color: #008080; text-decoration-color: #008080\">INFO</span> -  got accessibility tree in <span style=\"color: #008080; text-decoration-color: #008080; font-weight: bold\">8</span> ms\n",
       "</pre>\n"
      ],
      "text/plain": [
       "\u001b[1;2;37m2025\u001b[0m\u001b[2;37m-\u001b[0m\u001b[1;2;37m08\u001b[0m\u001b[2;37m-\u001b[0m\u001b[1;2;37m15\u001b[0m\u001b[2;37m \u001b[0m\u001b[1;2;37m12:52:49\u001b[0m \u001b[36mINFO\u001b[0m -  got accessibility tree in \u001b[1;36m8\u001b[0m ms\n"
      ]
     },
     "metadata": {},
     "output_type": "display_data"
    },
    {
     "data": {
      "text/html": [
       "<pre style=\"white-space:pre;overflow-x:auto;line-height:normal;font-family:Menlo,'DejaVu Sans Mono',consolas,'Courier New',monospace\"><span style=\"color: #dfdfdf; text-decoration-color: #dfdfdf; font-weight: bold\">2025</span><span style=\"color: #dfdfdf; text-decoration-color: #dfdfdf\">-</span><span style=\"color: #dfdfdf; text-decoration-color: #dfdfdf; font-weight: bold\">08</span><span style=\"color: #dfdfdf; text-decoration-color: #dfdfdf\">-</span><span style=\"color: #dfdfdf; text-decoration-color: #dfdfdf; font-weight: bold\">15</span><span style=\"color: #dfdfdf; text-decoration-color: #dfdfdf\"> </span><span style=\"color: #dfdfdf; text-decoration-color: #dfdfdf; font-weight: bold\">12:52:51</span> <span style=\"color: #008080; text-decoration-color: #008080\">INFO</span> -  Warning: found <span style=\"color: #008080; text-decoration-color: #008080; font-weight: bold\">3</span> <span style=\"color: #800080; text-decoration-color: #800080; font-weight: bold\">iframe</span><span style=\"font-weight: bold\">(</span>s<span style=\"font-weight: bold\">)</span> on the page. If you wish to interact with iframe content, \n",
       "please make sure you are setting iframes: true\n",
       "</pre>\n"
      ],
      "text/plain": [
       "\u001b[1;2;37m2025\u001b[0m\u001b[2;37m-\u001b[0m\u001b[1;2;37m08\u001b[0m\u001b[2;37m-\u001b[0m\u001b[1;2;37m15\u001b[0m\u001b[2;37m \u001b[0m\u001b[1;2;37m12:52:51\u001b[0m \u001b[36mINFO\u001b[0m -  Warning: found \u001b[1;36m3\u001b[0m \u001b[1;35miframe\u001b[0m\u001b[1m(\u001b[0ms\u001b[1m)\u001b[0m on the page. If you wish to interact with iframe content, \n",
       "please make sure you are setting iframes: true\n"
      ]
     },
     "metadata": {},
     "output_type": "display_data"
    },
    {
     "data": {
      "text/html": [
       "<pre style=\"white-space:pre;overflow-x:auto;line-height:normal;font-family:Menlo,'DejaVu Sans Mono',consolas,'Courier New',monospace\"><span style=\"color: #dfdfdf; text-decoration-color: #dfdfdf; font-weight: bold\">2025</span><span style=\"color: #dfdfdf; text-decoration-color: #dfdfdf\">-</span><span style=\"color: #dfdfdf; text-decoration-color: #dfdfdf; font-weight: bold\">08</span><span style=\"color: #dfdfdf; text-decoration-color: #dfdfdf\">-</span><span style=\"color: #dfdfdf; text-decoration-color: #dfdfdf; font-weight: bold\">15</span><span style=\"color: #dfdfdf; text-decoration-color: #dfdfdf\"> </span><span style=\"color: #dfdfdf; text-decoration-color: #dfdfdf; font-weight: bold\">12:52:51</span> <span style=\"color: #008080; text-decoration-color: #008080\">INFO</span> -  Getting xpath for element\n",
       "</pre>\n"
      ],
      "text/plain": [
       "\u001b[1;2;37m2025\u001b[0m\u001b[2;37m-\u001b[0m\u001b[1;2;37m08\u001b[0m\u001b[2;37m-\u001b[0m\u001b[1;2;37m15\u001b[0m\u001b[2;37m \u001b[0m\u001b[1;2;37m12:52:51\u001b[0m \u001b[36mINFO\u001b[0m -  Getting xpath for element\n"
      ]
     },
     "metadata": {},
     "output_type": "display_data"
    },
    {
     "data": {
      "text/html": [
       "<pre style=\"white-space:pre;overflow-x:auto;line-height:normal;font-family:Menlo,'DejaVu Sans Mono',consolas,'Courier New',monospace\"><span style=\"color: #dfdfdf; text-decoration-color: #dfdfdf; font-weight: bold\">2025</span><span style=\"color: #dfdfdf; text-decoration-color: #dfdfdf\">-</span><span style=\"color: #dfdfdf; text-decoration-color: #dfdfdf; font-weight: bold\">08</span><span style=\"color: #dfdfdf; text-decoration-color: #dfdfdf\">-</span><span style=\"color: #dfdfdf; text-decoration-color: #dfdfdf; font-weight: bold\">15</span><span style=\"color: #dfdfdf; text-decoration-color: #dfdfdf\"> </span><span style=\"color: #dfdfdf; text-decoration-color: #dfdfdf; font-weight: bold\">12:52:51</span> <span style=\"color: #008080; text-decoration-color: #008080\">INFO</span> -  Getting xpath for element\n",
       "</pre>\n"
      ],
      "text/plain": [
       "\u001b[1;2;37m2025\u001b[0m\u001b[2;37m-\u001b[0m\u001b[1;2;37m08\u001b[0m\u001b[2;37m-\u001b[0m\u001b[1;2;37m15\u001b[0m\u001b[2;37m \u001b[0m\u001b[1;2;37m12:52:51\u001b[0m \u001b[36mINFO\u001b[0m -  Getting xpath for element\n"
      ]
     },
     "metadata": {},
     "output_type": "display_data"
    },
    {
     "data": {
      "text/html": [
       "<pre style=\"white-space:pre;overflow-x:auto;line-height:normal;font-family:Menlo,'DejaVu Sans Mono',consolas,'Courier New',monospace\"><span style=\"color: #dfdfdf; text-decoration-color: #dfdfdf; font-weight: bold\">2025</span><span style=\"color: #dfdfdf; text-decoration-color: #dfdfdf\">-</span><span style=\"color: #dfdfdf; text-decoration-color: #dfdfdf; font-weight: bold\">08</span><span style=\"color: #dfdfdf; text-decoration-color: #dfdfdf\">-</span><span style=\"color: #dfdfdf; text-decoration-color: #dfdfdf; font-weight: bold\">15</span><span style=\"color: #dfdfdf; text-decoration-color: #dfdfdf\"> </span><span style=\"color: #dfdfdf; text-decoration-color: #dfdfdf; font-weight: bold\">12:52:51</span> <span style=\"color: #008080; text-decoration-color: #008080\">INFO</span> -  Getting xpath for element\n",
       "</pre>\n"
      ],
      "text/plain": [
       "\u001b[1;2;37m2025\u001b[0m\u001b[2;37m-\u001b[0m\u001b[1;2;37m08\u001b[0m\u001b[2;37m-\u001b[0m\u001b[1;2;37m15\u001b[0m\u001b[2;37m \u001b[0m\u001b[1;2;37m12:52:51\u001b[0m \u001b[36mINFO\u001b[0m -  Getting xpath for element\n"
      ]
     },
     "metadata": {},
     "output_type": "display_data"
    },
    {
     "data": {
      "text/html": [
       "<pre style=\"white-space:pre;overflow-x:auto;line-height:normal;font-family:Menlo,'DejaVu Sans Mono',consolas,'Courier New',monospace\"><span style=\"color: #dfdfdf; text-decoration-color: #dfdfdf; font-weight: bold\">2025</span><span style=\"color: #dfdfdf; text-decoration-color: #dfdfdf\">-</span><span style=\"color: #dfdfdf; text-decoration-color: #dfdfdf; font-weight: bold\">08</span><span style=\"color: #dfdfdf; text-decoration-color: #dfdfdf\">-</span><span style=\"color: #dfdfdf; text-decoration-color: #dfdfdf; font-weight: bold\">15</span><span style=\"color: #dfdfdf; text-decoration-color: #dfdfdf\"> </span><span style=\"color: #dfdfdf; text-decoration-color: #dfdfdf; font-weight: bold\">12:52:51</span> <span style=\"color: #008080; text-decoration-color: #008080\">INFO</span> -  Getting xpath for element\n",
       "</pre>\n"
      ],
      "text/plain": [
       "\u001b[1;2;37m2025\u001b[0m\u001b[2;37m-\u001b[0m\u001b[1;2;37m08\u001b[0m\u001b[2;37m-\u001b[0m\u001b[1;2;37m15\u001b[0m\u001b[2;37m \u001b[0m\u001b[1;2;37m12:52:51\u001b[0m \u001b[36mINFO\u001b[0m -  Getting xpath for element\n"
      ]
     },
     "metadata": {},
     "output_type": "display_data"
    },
    {
     "data": {
      "text/html": [
       "<pre style=\"white-space:pre;overflow-x:auto;line-height:normal;font-family:Menlo,'DejaVu Sans Mono',consolas,'Courier New',monospace\"><span style=\"color: #dfdfdf; text-decoration-color: #dfdfdf; font-weight: bold\">2025</span><span style=\"color: #dfdfdf; text-decoration-color: #dfdfdf\">-</span><span style=\"color: #dfdfdf; text-decoration-color: #dfdfdf; font-weight: bold\">08</span><span style=\"color: #dfdfdf; text-decoration-color: #dfdfdf\">-</span><span style=\"color: #dfdfdf; text-decoration-color: #dfdfdf; font-weight: bold\">15</span><span style=\"color: #dfdfdf; text-decoration-color: #dfdfdf\"> </span><span style=\"color: #dfdfdf; text-decoration-color: #dfdfdf; font-weight: bold\">12:52:51</span> <span style=\"color: #008080; text-decoration-color: #008080\">INFO</span> -  Getting xpath for element\n",
       "</pre>\n"
      ],
      "text/plain": [
       "\u001b[1;2;37m2025\u001b[0m\u001b[2;37m-\u001b[0m\u001b[1;2;37m08\u001b[0m\u001b[2;37m-\u001b[0m\u001b[1;2;37m15\u001b[0m\u001b[2;37m \u001b[0m\u001b[1;2;37m12:52:51\u001b[0m \u001b[36mINFO\u001b[0m -  Getting xpath for element\n"
      ]
     },
     "metadata": {},
     "output_type": "display_data"
    },
    {
     "data": {
      "text/html": [
       "<pre style=\"white-space:pre;overflow-x:auto;line-height:normal;font-family:Menlo,'DejaVu Sans Mono',consolas,'Courier New',monospace\"><span style=\"color: #dfdfdf; text-decoration-color: #dfdfdf; font-weight: bold\">2025</span><span style=\"color: #dfdfdf; text-decoration-color: #dfdfdf\">-</span><span style=\"color: #dfdfdf; text-decoration-color: #dfdfdf; font-weight: bold\">08</span><span style=\"color: #dfdfdf; text-decoration-color: #dfdfdf\">-</span><span style=\"color: #dfdfdf; text-decoration-color: #dfdfdf; font-weight: bold\">15</span><span style=\"color: #dfdfdf; text-decoration-color: #dfdfdf\"> </span><span style=\"color: #dfdfdf; text-decoration-color: #dfdfdf; font-weight: bold\">12:52:51</span> <span style=\"color: #008080; text-decoration-color: #008080\">INFO</span> -  found elements\n",
       "</pre>\n"
      ],
      "text/plain": [
       "\u001b[1;2;37m2025\u001b[0m\u001b[2;37m-\u001b[0m\u001b[1;2;37m08\u001b[0m\u001b[2;37m-\u001b[0m\u001b[1;2;37m15\u001b[0m\u001b[2;37m \u001b[0m\u001b[1;2;37m12:52:51\u001b[0m \u001b[36mINFO\u001b[0m -  found elements\n"
      ]
     },
     "metadata": {},
     "output_type": "display_data"
    },
    {
     "data": {
      "text/html": [
       "<pre style=\"white-space:pre;overflow-x:auto;line-height:normal;font-family:Menlo,'DejaVu Sans Mono',consolas,'Courier New',monospace\"><span style=\"color: #dfdfdf; text-decoration-color: #dfdfdf; font-weight: bold\">2025</span><span style=\"color: #dfdfdf; text-decoration-color: #dfdfdf\">-</span><span style=\"color: #dfdfdf; text-decoration-color: #dfdfdf; font-weight: bold\">08</span><span style=\"color: #dfdfdf; text-decoration-color: #dfdfdf\">-</span><span style=\"color: #dfdfdf; text-decoration-color: #dfdfdf; font-weight: bold\">15</span><span style=\"color: #dfdfdf; text-decoration-color: #dfdfdf\"> </span><span style=\"color: #dfdfdf; text-decoration-color: #dfdfdf; font-weight: bold\">12:52:51</span> <span style=\"color: #008080; text-decoration-color: #008080\">INFO</span> -  Performing act from an ObserveResult\n",
       "</pre>\n"
      ],
      "text/plain": [
       "\u001b[1;2;37m2025\u001b[0m\u001b[2;37m-\u001b[0m\u001b[1;2;37m08\u001b[0m\u001b[2;37m-\u001b[0m\u001b[1;2;37m15\u001b[0m\u001b[2;37m \u001b[0m\u001b[1;2;37m12:52:51\u001b[0m \u001b[36mINFO\u001b[0m -  Performing act from an ObserveResult\n"
      ]
     },
     "metadata": {},
     "output_type": "display_data"
    },
    {
     "data": {
      "text/html": [
       "<pre style=\"white-space:pre;overflow-x:auto;line-height:normal;font-family:Menlo,'DejaVu Sans Mono',consolas,'Courier New',monospace\"><span style=\"color: #dfdfdf; text-decoration-color: #dfdfdf; font-weight: bold\">2025</span><span style=\"color: #dfdfdf; text-decoration-color: #dfdfdf\">-</span><span style=\"color: #dfdfdf; text-decoration-color: #dfdfdf; font-weight: bold\">08</span><span style=\"color: #dfdfdf; text-decoration-color: #dfdfdf\">-</span><span style=\"color: #dfdfdf; text-decoration-color: #dfdfdf; font-weight: bold\">15</span><span style=\"color: #dfdfdf; text-decoration-color: #dfdfdf\"> </span><span style=\"color: #dfdfdf; text-decoration-color: #dfdfdf; font-weight: bold\">12:52:51</span> <span style=\"color: #008080; text-decoration-color: #008080\">INFO</span> -  click, checking for page navigation\n",
       "</pre>\n"
      ],
      "text/plain": [
       "\u001b[1;2;37m2025\u001b[0m\u001b[2;37m-\u001b[0m\u001b[1;2;37m08\u001b[0m\u001b[2;37m-\u001b[0m\u001b[1;2;37m15\u001b[0m\u001b[2;37m \u001b[0m\u001b[1;2;37m12:52:51\u001b[0m \u001b[36mINFO\u001b[0m -  click, checking for page navigation\n"
      ]
     },
     "metadata": {},
     "output_type": "display_data"
    },
    {
     "data": {
      "text/html": [
       "<pre style=\"white-space:pre;overflow-x:auto;line-height:normal;font-family:Menlo,'DejaVu Sans Mono',consolas,'Courier New',monospace\"><span style=\"color: #dfdfdf; text-decoration-color: #dfdfdf; font-weight: bold\">2025</span><span style=\"color: #dfdfdf; text-decoration-color: #dfdfdf\">-</span><span style=\"color: #dfdfdf; text-decoration-color: #dfdfdf; font-weight: bold\">08</span><span style=\"color: #dfdfdf; text-decoration-color: #dfdfdf\">-</span><span style=\"color: #dfdfdf; text-decoration-color: #dfdfdf; font-weight: bold\">15</span><span style=\"color: #dfdfdf; text-decoration-color: #dfdfdf\"> </span><span style=\"color: #dfdfdf; text-decoration-color: #dfdfdf; font-weight: bold\">12:52:52</span> <span style=\"color: #008080; text-decoration-color: #008080\">INFO</span> -  click complete\n",
       "</pre>\n"
      ],
      "text/plain": [
       "\u001b[1;2;37m2025\u001b[0m\u001b[2;37m-\u001b[0m\u001b[1;2;37m08\u001b[0m\u001b[2;37m-\u001b[0m\u001b[1;2;37m15\u001b[0m\u001b[2;37m \u001b[0m\u001b[1;2;37m12:52:52\u001b[0m \u001b[36mINFO\u001b[0m -  click complete\n"
      ]
     },
     "metadata": {},
     "output_type": "display_data"
    },
    {
     "data": {
      "text/html": [
       "<pre style=\"white-space:pre;overflow-x:auto;line-height:normal;font-family:Menlo,'DejaVu Sans Mono',consolas,'Courier New',monospace\"><span style=\"color: #dfdfdf; text-decoration-color: #dfdfdf; font-weight: bold\">2025</span><span style=\"color: #dfdfdf; text-decoration-color: #dfdfdf\">-</span><span style=\"color: #dfdfdf; text-decoration-color: #dfdfdf; font-weight: bold\">08</span><span style=\"color: #dfdfdf; text-decoration-color: #dfdfdf\">-</span><span style=\"color: #dfdfdf; text-decoration-color: #dfdfdf; font-weight: bold\">15</span><span style=\"color: #dfdfdf; text-decoration-color: #dfdfdf\"> </span><span style=\"color: #dfdfdf; text-decoration-color: #dfdfdf; font-weight: bold\">12:52:53</span> <span style=\"color: #008080; text-decoration-color: #008080\">INFO</span> -  finished waiting for <span style=\"font-weight: bold\">(</span>possible<span style=\"font-weight: bold\">)</span> page navigation\n",
       "</pre>\n"
      ],
      "text/plain": [
       "\u001b[1;2;37m2025\u001b[0m\u001b[2;37m-\u001b[0m\u001b[1;2;37m08\u001b[0m\u001b[2;37m-\u001b[0m\u001b[1;2;37m15\u001b[0m\u001b[2;37m \u001b[0m\u001b[1;2;37m12:52:53\u001b[0m \u001b[36mINFO\u001b[0m -  finished waiting for \u001b[1m(\u001b[0mpossible\u001b[1m)\u001b[0m page navigation\n"
      ]
     },
     "metadata": {},
     "output_type": "display_data"
    },
    {
     "data": {
      "text/html": [
       "<pre style=\"white-space:pre;overflow-x:auto;line-height:normal;font-family:Menlo,'DejaVu Sans Mono',consolas,'Courier New',monospace\"><span style=\"color: #dfdfdf; text-decoration-color: #dfdfdf; font-weight: bold\">2025</span><span style=\"color: #dfdfdf; text-decoration-color: #dfdfdf\">-</span><span style=\"color: #dfdfdf; text-decoration-color: #dfdfdf; font-weight: bold\">08</span><span style=\"color: #dfdfdf; text-decoration-color: #dfdfdf\">-</span><span style=\"color: #dfdfdf; text-decoration-color: #dfdfdf; font-weight: bold\">15</span><span style=\"color: #dfdfdf; text-decoration-color: #dfdfdf\"> </span><span style=\"color: #dfdfdf; text-decoration-color: #dfdfdf; font-weight: bold\">12:52:53</span> <span style=\"color: #008080; text-decoration-color: #008080\">INFO</span> -  new page detected with URL\n",
       "</pre>\n"
      ],
      "text/plain": [
       "\u001b[1;2;37m2025\u001b[0m\u001b[2;37m-\u001b[0m\u001b[1;2;37m08\u001b[0m\u001b[2;37m-\u001b[0m\u001b[1;2;37m15\u001b[0m\u001b[2;37m \u001b[0m\u001b[1;2;37m12:52:53\u001b[0m \u001b[36mINFO\u001b[0m -  new page detected with URL\n"
      ]
     },
     "metadata": {},
     "output_type": "display_data"
    },
    {
     "name": "stdout",
     "output_type": "stream",
     "text": [
      "   ✓ Clicked on getting started\n"
     ]
    },
    {
     "data": {
      "text/html": [
       "<pre style=\"white-space:pre;overflow-x:auto;line-height:normal;font-family:Menlo,'DejaVu Sans Mono',consolas,'Courier New',monospace\"><span style=\"color: #dfdfdf; text-decoration-color: #dfdfdf; font-weight: bold\">2025</span><span style=\"color: #dfdfdf; text-decoration-color: #dfdfdf\">-</span><span style=\"color: #dfdfdf; text-decoration-color: #dfdfdf; font-weight: bold\">08</span><span style=\"color: #dfdfdf; text-decoration-color: #dfdfdf\">-</span><span style=\"color: #dfdfdf; text-decoration-color: #dfdfdf; font-weight: bold\">15</span><span style=\"color: #dfdfdf; text-decoration-color: #dfdfdf\"> </span><span style=\"color: #dfdfdf; text-decoration-color: #dfdfdf; font-weight: bold\">12:52:55</span> <span style=\"color: #008080; text-decoration-color: #008080\">INFO</span> -  running extract\n",
       "</pre>\n"
      ],
      "text/plain": [
       "\u001b[1;2;37m2025\u001b[0m\u001b[2;37m-\u001b[0m\u001b[1;2;37m08\u001b[0m\u001b[2;37m-\u001b[0m\u001b[1;2;37m15\u001b[0m\u001b[2;37m \u001b[0m\u001b[1;2;37m12:52:55\u001b[0m \u001b[36mINFO\u001b[0m -  running extract\n"
      ]
     },
     "metadata": {},
     "output_type": "display_data"
    },
    {
     "data": {
      "text/html": [
       "<pre style=\"white-space:pre;overflow-x:auto;line-height:normal;font-family:Menlo,'DejaVu Sans Mono',consolas,'Courier New',monospace\"><span style=\"color: #dfdfdf; text-decoration-color: #dfdfdf; font-weight: bold\">2025</span><span style=\"color: #dfdfdf; text-decoration-color: #dfdfdf\">-</span><span style=\"color: #dfdfdf; text-decoration-color: #dfdfdf; font-weight: bold\">08</span><span style=\"color: #dfdfdf; text-decoration-color: #dfdfdf\">-</span><span style=\"color: #dfdfdf; text-decoration-color: #dfdfdf; font-weight: bold\">15</span><span style=\"color: #dfdfdf; text-decoration-color: #dfdfdf\"> </span><span style=\"color: #dfdfdf; text-decoration-color: #dfdfdf; font-weight: bold\">12:52:55</span> <span style=\"color: #008080; text-decoration-color: #008080\">INFO</span> -  starting extraction using a11y tree\n",
       "</pre>\n"
      ],
      "text/plain": [
       "\u001b[1;2;37m2025\u001b[0m\u001b[2;37m-\u001b[0m\u001b[1;2;37m08\u001b[0m\u001b[2;37m-\u001b[0m\u001b[1;2;37m15\u001b[0m\u001b[2;37m \u001b[0m\u001b[1;2;37m12:52:55\u001b[0m \u001b[36mINFO\u001b[0m -  starting extraction using a11y tree\n"
      ]
     },
     "metadata": {},
     "output_type": "display_data"
    },
    {
     "data": {
      "text/html": [
       "<pre style=\"white-space:pre;overflow-x:auto;line-height:normal;font-family:Menlo,'DejaVu Sans Mono',consolas,'Courier New',monospace\"><span style=\"color: #dfdfdf; text-decoration-color: #dfdfdf; font-weight: bold\">2025</span><span style=\"color: #dfdfdf; text-decoration-color: #dfdfdf\">-</span><span style=\"color: #dfdfdf; text-decoration-color: #dfdfdf; font-weight: bold\">08</span><span style=\"color: #dfdfdf; text-decoration-color: #dfdfdf\">-</span><span style=\"color: #dfdfdf; text-decoration-color: #dfdfdf; font-weight: bold\">15</span><span style=\"color: #dfdfdf; text-decoration-color: #dfdfdf\"> </span><span style=\"color: #dfdfdf; text-decoration-color: #dfdfdf; font-weight: bold\">12:52:56</span> <span style=\"color: #008080; text-decoration-color: #008080\">INFO</span> -  got accessibility tree in <span style=\"color: #008080; text-decoration-color: #008080; font-weight: bold\">6</span> ms\n",
       "</pre>\n"
      ],
      "text/plain": [
       "\u001b[1;2;37m2025\u001b[0m\u001b[2;37m-\u001b[0m\u001b[1;2;37m08\u001b[0m\u001b[2;37m-\u001b[0m\u001b[1;2;37m15\u001b[0m\u001b[2;37m \u001b[0m\u001b[1;2;37m12:52:56\u001b[0m \u001b[36mINFO\u001b[0m -  got accessibility tree in \u001b[1;36m6\u001b[0m ms\n"
      ]
     },
     "metadata": {},
     "output_type": "display_data"
    },
    {
     "data": {
      "text/html": [
       "<pre style=\"white-space:pre;overflow-x:auto;line-height:normal;font-family:Menlo,'DejaVu Sans Mono',consolas,'Courier New',monospace\"><span style=\"color: #dfdfdf; text-decoration-color: #dfdfdf; font-weight: bold\">2025</span><span style=\"color: #dfdfdf; text-decoration-color: #dfdfdf\">-</span><span style=\"color: #dfdfdf; text-decoration-color: #dfdfdf; font-weight: bold\">08</span><span style=\"color: #dfdfdf; text-decoration-color: #dfdfdf\">-</span><span style=\"color: #dfdfdf; text-decoration-color: #dfdfdf; font-weight: bold\">15</span><span style=\"color: #dfdfdf; text-decoration-color: #dfdfdf\"> </span><span style=\"color: #dfdfdf; text-decoration-color: #dfdfdf; font-weight: bold\">12:52:56</span> <span style=\"color: #008080; text-decoration-color: #008080\">INFO</span> -  Got accessibility tree data\n",
       "</pre>\n"
      ],
      "text/plain": [
       "\u001b[1;2;37m2025\u001b[0m\u001b[2;37m-\u001b[0m\u001b[1;2;37m08\u001b[0m\u001b[2;37m-\u001b[0m\u001b[1;2;37m15\u001b[0m\u001b[2;37m \u001b[0m\u001b[1;2;37m12:52:56\u001b[0m \u001b[36mINFO\u001b[0m -  Got accessibility tree data\n"
      ]
     },
     "metadata": {},
     "output_type": "display_data"
    },
    {
     "data": {
      "text/html": [
       "<pre style=\"white-space:pre;overflow-x:auto;line-height:normal;font-family:Menlo,'DejaVu Sans Mono',consolas,'Courier New',monospace\"><span style=\"color: #dfdfdf; text-decoration-color: #dfdfdf; font-weight: bold\">2025</span><span style=\"color: #dfdfdf; text-decoration-color: #dfdfdf\">-</span><span style=\"color: #dfdfdf; text-decoration-color: #dfdfdf; font-weight: bold\">08</span><span style=\"color: #dfdfdf; text-decoration-color: #dfdfdf\">-</span><span style=\"color: #dfdfdf; text-decoration-color: #dfdfdf; font-weight: bold\">15</span><span style=\"color: #dfdfdf; text-decoration-color: #dfdfdf\"> </span><span style=\"color: #dfdfdf; text-decoration-color: #dfdfdf; font-weight: bold\">12:53:00</span> <span style=\"color: #008080; text-decoration-color: #008080\">INFO</span> -  received extraction response\n",
       "</pre>\n"
      ],
      "text/plain": [
       "\u001b[1;2;37m2025\u001b[0m\u001b[2;37m-\u001b[0m\u001b[1;2;37m08\u001b[0m\u001b[2;37m-\u001b[0m\u001b[1;2;37m15\u001b[0m\u001b[2;37m \u001b[0m\u001b[1;2;37m12:53:00\u001b[0m \u001b[36mINFO\u001b[0m -  received extraction response\n"
      ]
     },
     "metadata": {},
     "output_type": "display_data"
    },
    {
     "data": {
      "text/html": [
       "<pre style=\"white-space:pre;overflow-x:auto;line-height:normal;font-family:Menlo,'DejaVu Sans Mono',consolas,'Courier New',monospace\"><span style=\"color: #dfdfdf; text-decoration-color: #dfdfdf; font-weight: bold\">2025</span><span style=\"color: #dfdfdf; text-decoration-color: #dfdfdf\">-</span><span style=\"color: #dfdfdf; text-decoration-color: #dfdfdf; font-weight: bold\">08</span><span style=\"color: #dfdfdf; text-decoration-color: #dfdfdf\">-</span><span style=\"color: #dfdfdf; text-decoration-color: #dfdfdf; font-weight: bold\">15</span><span style=\"color: #dfdfdf; text-decoration-color: #dfdfdf\"> </span><span style=\"color: #dfdfdf; text-decoration-color: #dfdfdf; font-weight: bold\">12:53:00</span> <span style=\"color: #008080; text-decoration-color: #008080\">INFO</span> -  extraction completed successfully\n",
       "</pre>\n"
      ],
      "text/plain": [
       "\u001b[1;2;37m2025\u001b[0m\u001b[2;37m-\u001b[0m\u001b[1;2;37m08\u001b[0m\u001b[2;37m-\u001b[0m\u001b[1;2;37m15\u001b[0m\u001b[2;37m \u001b[0m\u001b[1;2;37m12:53:00\u001b[0m \u001b[36mINFO\u001b[0m -  extraction completed successfully\n"
      ]
     },
     "metadata": {},
     "output_type": "display_data"
    },
    {
     "name": "stdout",
     "output_type": "stream",
     "text": [
      "   ✓ Extracted getting started info: extraction='**Main Heading:**\\nQuickstart\\n\\n**First Paragraph:**\\nYou can get started with Stagehand in just 1 minute! Choose your preferred language below.'\n",
      "\n",
      "🎉 Multi-step automation completed successfully!\n",
      "This demonstrates how StageHand can perform complex, multi-step workflows\n",
      "by chaining together goto(), act(), and extract() operations.\n",
      "Session closed.\n"
     ]
    }
   ],
   "source": [
    "import asyncio\n",
    "import os\n",
    "from stagehand import Stagehand, StagehandConfig\n",
    "\n",
    "async def main():\n",
    "    # Initialize StageHand with correct API endpoint\n",
    "    server_url = os.getenv(\"STAGEHAND_SERVER_URL\", \"https://api.stagehand.browserbase.com/v1\")\n",
    "    \n",
    "    config = StagehandConfig(\n",
    "        env=\"BROWSERBASE\",\n",
    "        api_key=BROWSERBASE_API_KEY,\n",
    "        project_id=BROWSERBASE_PROJECT_ID,\n",
    "        model_api_key=MODEL_API_KEY,\n",
    "        model_name=\"gpt-4o\",\n",
    "    )\n",
    "    \n",
    "    stagehand = Stagehand(config)\n",
    "    \n",
    "    # Set the server URL if it's not already set\n",
    "    if hasattr(stagehand, 'server_url'):\n",
    "        stagehand.server_url = server_url\n",
    "    \n",
    "    try:\n",
    "        await stagehand.init()\n",
    "        print(\"✓ StageHand initialized successfully\")\n",
    "        \n",
    "        page = stagehand.page\n",
    "        \n",
    "        # Demonstrate multi-step automation (agent-like behavior using page methods)\n",
    "        print(\"🤖 Performing multi-step automation...\")\n",
    "        \n",
    "        # Step 1: Navigate to StageHand docs\n",
    "        await page.goto(\"https://docs.stagehand.dev/\")\n",
    "        print(\"   ✓ Navigated to StageHand documentation\")\n",
    "        \n",
    "        # Step 2: Extract the main introduction\n",
    "        intro = await page.extract(\"extract the main heading and first description paragraph\")\n",
    "        print(f\"   ✓ Extracted introduction: {intro}\")\n",
    "        \n",
    "        # Step 3: Try to navigate to getting started\n",
    "        await page.act(\"click on the getting started or quickstart link\")\n",
    "        print(\"   ✓ Clicked on getting started\")\n",
    "        \n",
    "        # Step 4: Extract information from the new page\n",
    "        getting_started_info = await page.extract(\"extract the main heading and first paragraph from this page\")\n",
    "        print(f\"   ✓ Extracted getting started info: {getting_started_info}\")\n",
    "        \n",
    "        print(\"\\n🎉 Multi-step automation completed successfully!\")\n",
    "        print(\"This demonstrates how StageHand can perform complex, multi-step workflows\")\n",
    "        print(\"by chaining together goto(), act(), and extract() operations.\")\n",
    "\n",
    "    except Exception as e:\n",
    "        print(f\"❌ Error occurred: {e}\")\n",
    "        import traceback\n",
    "        traceback.print_exc()\n",
    "            \n",
    "    finally:\n",
    "        try:\n",
    "            await stagehand.close()\n",
    "        except:\n",
    "            pass\n",
    "        print(\"Session closed.\")\n",
    "\n",
    "# Run the async main function in a notebook-safe way\n",
    "try:\n",
    "    loop = asyncio.get_running_loop()\n",
    "    import nest_asyncio\n",
    "    nest_asyncio.apply()\n",
    "    loop.run_until_complete(main())\n",
    "except RuntimeError:\n",
    "    asyncio.run(main())"
   ]
  },
  {
   "cell_type": "markdown",
   "metadata": {},
   "source": [
    "## Conclusion and Next Steps\n",
    "\n",
    "Congratulations! 🎉 You've learned the fundamentals of StageHand.\n",
    "\n",
    "We've covered:\n",
    "- **Setting up** StageHand and managing API keys.\n",
    "- **Basic navigation and actions** with `goto` and `act`.\n",
    "- **Structured data extraction** with `extract` and Pydantic.\n",
    "- **Executing complex tasks** with the StageHand `agent`.\n",
    "\n",
    "StageHand is a versatile tool for building reliable browser automations. From web scraping and data entry to testing and research, it empowers you to automate browser tasks with simple, natural language commands.\n",
    "\n",
    "To dive deeper, check out the Official StageHand Documentation."
   ]
  }
 ],
 "metadata": {
  "kernelspec": {
   "display_name": "3.10.14",
   "language": "python",
   "name": "python3"
  },
  "language_info": {
   "codemirror_mode": {
    "name": "ipython",
    "version": 3
   },
   "file_extension": ".py",
   "mimetype": "text/x-python",
   "name": "python",
   "nbconvert_exporter": "python",
   "pygments_lexer": "ipython3",
   "version": "3.10.14"
  }
 },
 "nbformat": 4,
 "nbformat_minor": 4
}
