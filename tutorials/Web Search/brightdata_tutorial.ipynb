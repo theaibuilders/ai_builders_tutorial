{
 "cells": [
  {
   "cell_type": "markdown",
   "metadata": {},
   "source": [
    "# BrightData: Structured Web Data Extraction with LangChain\n",
    "\n",
    "Welcome to this advanced tutorial on using **[BrightData](https://get.brightdata.com/aibuilders)'s Scraper APIs** within the **LangChain** framework. \n",
    "\n",
    "Instead of just scraping raw HTML, we'll learn how to extract clean, structured JSON data directly from complex websites like LinkedIn. We'll then use a Large Language Model (LLM) to interpret and act upon this structured data."
   ]
  },
  {
   "cell_type": "markdown",
   "metadata": {},
   "source": [
    "## 1. Core Concepts: Beyond Raw Scraping\n",
    "\n",
    "**BrightData Scraper APIs** are powerful, pre-built collectors designed to pull specific types of data from major websites. For example, instead of writing a scraper for a LinkedIn profile, you simply tell the API, \"get me the profile data from this URL,\" and it returns a clean JSON object.\n",
    "\n",
    "The `langchain-brightdata` integration packages this functionality into a LangChain **Tool**. A Tool is a component that an LLM can use to interact with the outside world. In our case, the `BrightDataWebScraperAPI` tool allows an AI agent to look up structured data from the web."
   ]
  },
  {
   "cell_type": "markdown",
   "metadata": {},
   "source": [
    "## 2. Setup\n",
    "\n",
    "First, let's install the necessary libraries. We'll need `langchain`, the BrightData and OpenAI integrations, and `python-dotenv` for our API keys."
   ]
  },
  {
   "cell_type": "code",
   "execution_count": 21,
   "metadata": {},
   "outputs": [],
   "source": [
    "# Uncomment to install the required packages\n",
    "# !pip install langchain langchain-brightdata langchain-openai python-dotenv"
   ]
  },
  {
   "cell_type": "markdown",
   "metadata": {},
   "source": [
    "Next, create a file named `.env` in the same directory as this notebook. This file will securely store your API keys.\n",
    "\n",
    "Your `.env` file should look like this:"
   ]
  },
  {
   "cell_type": "code",
   "execution_count": null,
   "metadata": {},
   "outputs": [],
   "source": [
    "BRIGHT_DATA_API_KEY=your_brightdata_api_key\n",
    "OPENAI_API_KEY=your_openai_api_key"
   ]
  },
  {
   "cell_type": "markdown",
   "metadata": {},
   "source": [
    "\n",
    "**Note**: The variable name in the `.env` file is `BRIGHT_DATA_API_KEY`, which the tool will look for automatically.\n",
    "\n",
    "You can find your `BRIGHT_DATA_API_KEY` in the [Bright Data dashboard](https://get.brightdata.com/aibuilders)"
   ]
  },
  {
   "cell_type": "markdown",
   "metadata": {},
   "source": [
    "## 3. Initializing and Using the Scraper Tool\n",
    "\n",
    "Here's the code you provided. We'll load our API keys and initialize the `BrightDataWebScraperAPI` as a tool. We then invoke it to get structured data from a LinkedIn profile. The `dataset_type` parameter is crucial—it tells BrightData what kind of data to extract."
   ]
  },
  {
   "cell_type": "code",
   "execution_count": 31,
   "metadata": {},
   "outputs": [
    {
     "name": "stdout",
     "output_type": "stream",
     "text": [
      "Extracting data from LinkedIn profile...\n",
      "Data extraction completed successfully!\n"
     ]
    }
   ],
   "source": [
    "import os\n",
    "import json\n",
    "from dotenv import load_dotenv\n",
    "from langchain_brightdata import BrightDataWebScraperAPI\n",
    "\n",
    "# Load API keys from .env file\n",
    "load_dotenv()\n",
    "\n",
    "# The tool automatically finds the BRIGHT_DATA_API_KEY in your environment variables\n",
    "scraper_tool = BrightDataWebScraperAPI()\n",
    "\n",
    "# Invoke the tool to get structured data from a LinkedIn profile\n",
    "print(\"Extracting data from LinkedIn profile...\")\n",
    "linkedin_data = scraper_tool.invoke(\n",
    "    {\"url\": \"https://www.linkedin.com/in/williamhgates/\", \"dataset_type\": \"linkedin_person_profile\"}\n",
    " )\n",
    "\n",
    "# Remove unwanted fields from the result before storing\n",
    "fields_to_remove = ['people_also_viewed', 'activity', 'similar_profiles']\n",
    "\n",
    "if isinstance(linkedin_data, list) and len(linkedin_data) > 0 and isinstance(linkedin_data[0], dict):\n",
    "    data_to_print = dict(linkedin_data[0])\n",
    "elif isinstance(linkedin_data, dict):\n",
    "    data_to_print = dict(linkedin_data)\n",
    "else:\n",
    "    data_to_print = {}\n",
    "\n",
    "for field in fields_to_remove:\n",
    "    data_to_print.pop(field, None)\n",
    "\n",
    "# Store the cleaned data for later use\n",
    "profile_data = data_to_print\n",
    "print(\"Data extraction completed successfully!\")"
   ]
  },
  {
   "cell_type": "code",
   "execution_count": 32,
   "metadata": {},
   "outputs": [
    {
     "name": "stdout",
     "output_type": "stream",
     "text": [
      "Profile Data:\n",
      "{\n",
      "  \"id\": \"williamhgates\",\n",
      "  \"name\": \"Bill Gates\",\n",
      "  \"city\": \"Seattle, Washington, United States\",\n",
      "  \"country_code\": \"US\",\n",
      "  \"position\": \"Chair, Gates Foundation and Founder, Breakthrough Energy\",\n",
      "  \"about\": \"Chair of the Gates Foundation. Founder of Breakthrough Energy. Co-founder of Microsoft. Voracious reader. Avid traveler. Active blogger.\",\n",
      "  \"current_company\": {\n",
      "    \"name\": \"Gates Foundation\",\n",
      "    \"company_id\": \"gates-foundation\",\n",
      "    \"title\": \"Co-chair\",\n",
      "    \"location\": null\n",
      "  },\n",
      "  \"experience\": [\n",
      "    {\n",
      "      \"title\": \"Co-chair\",\n",
      "      \"description_html\": null,\n",
      "      \"start_date\": \"2000\",\n",
      "      \"end_date\": \"Present\",\n",
      "      \"company\": \"Gates Foundation\",\n",
      "      \"company_id\": \"gates-foundation\",\n",
      "      \"url\": \"https://www.linkedin.com/company/gates-foundation\",\n",
      "      \"company_logo_url\": \"https://media.licdn.com/dms/image/v2/D560BAQEgMqqFTd40Tg/company-logo_100_100/company-logo_100_100/0/1736784969376/bill__melinda_gates_foundation_logo?e=2147483647&v=beta&t=2JH2cMcZms60vPAMbvVZyMeYXosQ1Jjy5axDlyeQ1Ww\"\n",
      "    },\n",
      "    {\n",
      "      \"title\": \"Founder\",\n",
      "      \"description_html\": null,\n",
      "      \"start_date\": \"2015\",\n",
      "      \"end_date\": \"Present\",\n",
      "      \"company\": \"Breakthrough Energy\",\n",
      "      \"company_id\": \"breakthrough-energy\",\n",
      "      \"url\": \"https://www.linkedin.com/company/breakthrough-energy\",\n",
      "      \"company_logo_url\": \"https://media.licdn.com/dms/image/v2/C4D0BAQGwD9vNu044FA/company-logo_100_100/company-logo_100_100/0/1630531940051/breakthrough_energy_ventures_logo?e=2147483647&v=beta&t=nL8eeluwraYnfTTnHApCodLZnaRGV8WtyNeFI_XhJ-M\"\n",
      "    },\n",
      "    {\n",
      "      \"title\": \"Co-founder\",\n",
      "      \"description_html\": null,\n",
      "      \"start_date\": \"1975\",\n",
      "      \"end_date\": \"Present\",\n",
      "      \"company\": \"Microsoft\",\n",
      "      \"company_id\": \"microsoft\",\n",
      "      \"url\": \"https://www.linkedin.com/company/microsoft\",\n",
      "      \"company_logo_url\": \"https://media.licdn.com/dms/image/v2/D560BAQH32RJQCl3dDQ/company-logo_100_100/B56ZYQ0mrGGoAU-/0/1744038948046/microsoft_logo?e=2147483647&v=beta&t=rr_7_bFRKp6umQxIHErPOZHtR8dMPIYeTjlKFdotJBY\"\n",
      "    }\n",
      "  ],\n",
      "  \"url\": \"https://www.linkedin.com/in/williamhgates/\",\n",
      "  \"educations_details\": \"Harvard University\",\n",
      "  \"education\": [\n",
      "    {\n",
      "      \"title\": \"Harvard University\",\n",
      "      \"url\": \"https://www.linkedin.com/school/harvard-university/?trk=public_profile_school_profile-section-card_image-click\",\n",
      "      \"start_year\": \"1973\",\n",
      "      \"end_year\": \"1975\",\n",
      "      \"description\": null,\n",
      "      \"description_html\": null,\n",
      "      \"institute_logo_url\": \"https://media.licdn.com/dms/image/v2/C4E0BAQF5t62bcL0e9g/company-logo_100_100/company-logo_100_100/0/1631318058235?e=2147483647&v=beta&t=Ye1klXowyo8TIcnkhTlmORgiA5ZywvooNihDMnx5urQ\"\n",
      "    },\n",
      "    {\n",
      "      \"title\": \"Lakeside School\",\n",
      "      \"url\": \"https://www.linkedin.com/school/lakeside-school/?trk=public_profile_school_profile-section-card_image-click\",\n",
      "      \"description\": null,\n",
      "      \"description_html\": null,\n",
      "      \"institute_logo_url\": \"https://media.licdn.com/dms/image/v2/D560BAQGFmOQmzpxg9A/company-logo_100_100/company-logo_100_100/0/1683732883164/lakeside_school_logo?e=2147483647&v=beta&t=EmadOLH7MckKZvCCrgmAOikCRtzVRtqqN4PJi35CNyo\"\n",
      "    }\n",
      "  ],\n",
      "  \"avatar\": \"https://media.licdn.com/dms/image/v2/D5603AQF-RYZP55jmXA/profile-displayphoto-shrink_200_200/B56ZRi8g.aGsAY-/0/1736826818802?e=2147483647&v=beta&t=bKWfN6UwwtiCqFWsG7rBELbd48qJOAMLdxhBzzkJV0k\",\n",
      "  \"followers\": 38381729,\n",
      "  \"connections\": 8,\n",
      "  \"current_company_company_id\": \"gates-foundation\",\n",
      "  \"current_company_name\": \"Gates Foundation\",\n",
      "  \"location\": \"Seattle\",\n",
      "  \"input_url\": \"https://www.linkedin.com/in/williamhgates/\",\n",
      "  \"linkedin_id\": \"williamhgates\",\n",
      "  \"linkedin_num_id\": \"251749025\",\n",
      "  \"banner_image\": \"https://media.licdn.com/dms/image/v2/D5616AQEjhPbTCeblYg/profile-displaybackgroundimage-shrink_200_800/B56ZcytR5SGsAc-/0/1748902420393?e=2147483647&v=beta&t=a-tBeZkxzWTHWYY6MAjxt0oTEuxlW33EUkK3gm5_te4\",\n",
      "  \"honors_and_awards\": null,\n",
      "  \"default_avatar\": false,\n",
      "  \"memorialized_account\": false,\n",
      "  \"bio_links\": [\n",
      "    {\n",
      "      \"title\": \"Blog\",\n",
      "      \"link\": \"https://gatesnot.es/sourcecode-li\"\n",
      "    }\n",
      "  ],\n",
      "  \"first_name\": \"Bill\",\n",
      "  \"last_name\": \"Gates\",\n",
      "  \"timestamp\": \"2025-08-06T04:01:50.054Z\",\n",
      "  \"input\": {\n",
      "    \"url\": \"https://www.linkedin.com/in/williamhgates/\"\n",
      "  }\n",
      "}\n"
     ]
    }
   ],
   "source": [
    "print(\"Profile Data:\")\n",
    "print(json.dumps(profile_data, indent=2))"
   ]
  },
  {
   "cell_type": "markdown",
   "metadata": {},
   "source": [
    "## 4. Processing Structured Data with an LLM\n",
    "\n",
    "Now for the fun part! We have clean, structured data. We don't need to parse HTML or clean up text. We can feed this data directly to an LLM for intelligent processing.\n",
    "\n",
    "Let's ask an LLM to write a short, professional biography based on the structured data we just extracted."
   ]
  },
  {
   "cell_type": "code",
   "execution_count": 35,
   "metadata": {},
   "outputs": [
    {
     "name": "stdout",
     "output_type": "stream",
     "text": [
      "Generating biography with LLM...\n"
     ]
    },
    {
     "data": {
      "text/markdown": [
       "Bill Gates, Chair of the Gates Foundation and Founder of Breakthrough Energy, is a renowned philanthropist and technology pioneer. As the co-founder of Microsoft, he has revolutionized the digital landscape. With a passion for innovation and social impact, Gates continues to drive positive change worldwide."
      ],
      "text/plain": [
       "<IPython.core.display.Markdown object>"
      ]
     },
     "metadata": {},
     "output_type": "display_data"
    }
   ],
   "source": [
    "from langchain_openai import ChatOpenAI\n",
    "from langchain.prompts import PromptTemplate\n",
    "from langchain.chains import LLMChain\n",
    "from IPython.display import display, Markdown\n",
    "\n",
    "# 1. Initialize the LLM\n",
    "llm = ChatOpenAI(model_name=\"gpt-3.5-turbo\", temperature=0.7)\n",
    "\n",
    "# 2. Create a Prompt Template that accepts our structured data\n",
    "prompt_template = PromptTemplate(\n",
    "    input_variables=[\"profile_json\"],\n",
    "    template=\"\"\"\n",
    "    Based on the following JSON data from a LinkedIn profile, please write a concise, one-paragraph professional biography for this person within 50 words.\n",
    "    \n",
    "    JSON Data:\n",
    "    {profile_json}\n",
    "    \n",
    "    Professional Biography:\n",
    "    \"\"\"\n",
    ")\n",
    "\n",
    "# 3. Create an LLM Chain\n",
    "bio_chain = LLMChain(llm=llm, prompt=prompt_template)\n",
    "\n",
    "# 4. Run the chain with our extracted data\n",
    "print(\"Generating biography with LLM...\")\n",
    "professional_bio = bio_chain.run(profile_json=json.dumps(profile_data, indent=2))\n",
    "\n",
    "display(Markdown(professional_bio))"
   ]
  },
  {
   "cell_type": "markdown",
   "metadata": {},
   "source": [
    "## 5. Conclusion\n",
    "\n",
    "In this notebook, we leveled up our data collection strategy. By using BrightData's Scraper APIs through LangChain, we completely bypassed the messy step of parsing raw HTML. We jumped straight from a URL to clean, structured JSON data, which we then used to power an intelligent LLM task.\n",
    "\n",
    "This workflow is incredibly efficient for tasks involving:\n",
    "* **Recruitment**: Analyzing candidate profiles.\n",
    "* **Market Research**: Aggregating product data from e-commerce sites.\n",
    "* **Lead Generation**: Collecting information about companies and their key personnel.\n",
    "\n",
    "Learn more about Bright Data's AI offerings at [Bright Data AI offerings](https://get.brightdata.com/aibuilders)."
   ]
  }
 ],
 "metadata": {
  "kernelspec": {
   "display_name": "3.10.14",
   "language": "python",
   "name": "python3"
  },
  "language_info": {
   "codemirror_mode": {
    "name": "ipython",
    "version": 3
   },
   "file_extension": ".py",
   "mimetype": "text/x-python",
   "name": "python",
   "nbconvert_exporter": "python",
   "pygments_lexer": "ipython3",
   "version": "3.10.14"
  }
 },
 "nbformat": 4,
 "nbformat_minor": 4
}
