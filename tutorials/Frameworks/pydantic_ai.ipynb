{
 "cells": [
  {
   "cell_type": "markdown",
   "metadata": {},
   "source": [
    "# Pydantic AI: Building Intelligent Applications with Structured Data\n",
    "\n",
    "Welcome to this tutorial on Pydantic AI! This notebook will guide you through the essential concepts of Pydantic AI, a powerful Python library that combines the capabilities of large language models (LLMs) with the data validation and structuring features of Pydantic. By the end of this tutorial, you'll be able to build intelligent applications that produce reliable and predictable outputs."
   ]
  },
  {
   "cell_type": "markdown",
   "metadata": {},
   "source": [
    "## 1. Setup\n",
    "\n",
    "First, let's install the necessary libraries. We'll need `pydantic-ai` for the core functionality and `python-dotenv` to manage our API keys."
   ]
  },
  {
   "cell_type": "code",
   "execution_count": null,
   "metadata": {},
   "outputs": [],
   "source": [
    "#!pip install pydantic-ai python-dotenv nest_asyncio -q"
   ]
  },
  {
   "cell_type": "markdown",
   "metadata": {},
   "source": [
    "Next, create a `.env` file in the same directory as this notebook and add your API keys. For this tutorial, we'll use OpenAI's GPT-4, but Pydantic AI supports various other models."
   ]
  },
  {
   "cell_type": "code",
   "execution_count": null,
   "metadata": {},
   "outputs": [],
   "source": [
    "# In your .env file:\n",
    "# OPENAI_API_KEY=\"your-openai-api-key\""
   ]
  },
  {
   "cell_type": "markdown",
   "metadata": {},
   "source": [
    "Now, let's load the API key from the `.env` file."
   ]
  },
  {
   "cell_type": "code",
   "execution_count": 3,
   "metadata": {},
   "outputs": [],
   "source": [
    "import os\n",
    "from dotenv import load_dotenv\n",
    "\n",
    "load_dotenv()\n",
    "\n",
    "openai_api_key = os.getenv(\"OPENAI_API_KEY\")"
   ]
  },
  {
   "cell_type": "markdown",
   "metadata": {},
   "source": [
    "## 2. Basic Usage: Structured Output\n",
    "\n",
    "One of the key features of Pydantic AI is its ability to produce structured output from LLMs. Let's start with a simple example of extracting information about a person from a sentence."
   ]
  },
  {
   "cell_type": "code",
   "execution_count": 7,
   "metadata": {},
   "outputs": [
    {
     "name": "stdout",
     "output_type": "stream",
     "text": [
      "name='John' age=25\n"
     ]
    }
   ],
   "source": [
    "from pydantic import BaseModel\n",
    "from pydantic_ai import Agent\n",
    "import nest_asyncio\n",
    "\n",
    "# Apply nest_asyncio to handle event loop issues in Jupyter notebooks\n",
    "nest_asyncio.apply()\n",
    "\n",
    "class Person(BaseModel):\n",
    "    name: str\n",
    "    age: int\n",
    "\n",
    "agent = Agent(\"openai:gpt-4o-mini\", output_type=Person)\n",
    "\n",
    "result = agent.run_sync(\"John is 25 years old.\")\n",
    "\n",
    "print(result.output)"
   ]
  },
  {
   "cell_type": "markdown",
   "metadata": {},
   "source": [
    "As you can see, the `Agent` automatically extracts the name and age and returns a `Person` object. This is incredibly useful for building applications that require reliable and predictable data."
   ]
  },
  {
   "cell_type": "markdown",
   "metadata": {},
   "source": [
    "## 3. Working with Tools\n",
    "\n",
    "Pydantic AI allows you to define tools that your agent can use to perform actions or retrieve information from external sources. Let's create a simple tool that gets the current weather."
   ]
  },
  {
   "cell_type": "code",
   "execution_count": 9,
   "metadata": {},
   "outputs": [
    {
     "name": "stdout",
     "output_type": "stream",
     "text": [
      "The weather in San Francisco is currently sunny.\n"
     ]
    }
   ],
   "source": [
    "from pydantic_ai import Agent, RunContext\n",
    "import nest_asyncio\n",
    "\n",
    "nest_asyncio.apply()\n",
    "\n",
    "def get_weather(city: str) -> str:\n",
    "    \"\"\"Gets the current weather for a given city.\"\"\"\n",
    "    if city == \"San Francisco\":\n",
    "        return \"The weather in San Francisco is sunny.\"\n",
    "    else:\n",
    "        return f\"I don't know the weather in {city}.\"\n",
    "\n",
    "agent = Agent(\n",
    "    \"openai:gpt-4o-mini\",\n",
    "    system_prompt=\"You are a helpful assistant.\",\n",
    "    tools=[get_weather]\n",
    ")\n",
    "\n",
    "result = agent.run_sync(\"What is the weather in San Francisco?\")\n",
    "\n",
    "print(result.output)"
   ]
  },
  {
   "cell_type": "markdown",
   "metadata": {},
   "source": [
    "## 4. Building a Simple RAG Agent\n",
    "\n",
    "Retrieval-Augmented Generation (RAG) is a technique that enhances LLM responses by providing them with relevant information from a knowledge base. Let's build a simple RAG agent that can answer questions about Pydantic AI."
   ]
  },
  {
   "cell_type": "code",
   "execution_count": 10,
   "metadata": {},
   "outputs": [
    {
     "name": "stdout",
     "output_type": "stream",
     "text": [
      "In Pydantic AI, tools are functions that an agent can use to perform actions or retrieve information.\n"
     ]
    }
   ],
   "source": [
    "from pydantic_ai import Agent, RunContext\n",
    "import nest_asyncio\n",
    "\n",
    "nest_asyncio.apply()\n",
    "\n",
    "# In a real-world application, this would be a database or a document store.\n",
    "knowledge_base = {\n",
    "    \"What is Pydantic AI?\": \"Pydantic AI is a Python library that combines LLMs with Pydantic for structured data output.\",\n",
    "    \"What are tools in Pydantic AI?\": \"Tools are functions that an agent can use to perform actions or get information.\"\n",
    "}\n",
    "\n",
    "def retrieve_information(query: str) -> str:\n",
    "    \"\"\"Retrieves information from the knowledge base.\"\"\"\n",
    "    return knowledge_base.get(query, \"I don't have information on that topic.\")\n",
    "\n",
    "agent = Agent(\n",
    "    \"openai:gpt-4o-mini\",\n",
    "    system_prompt=\"You are a Pydantic AI expert. Use the retrieve_information tool to answer questions.\",\n",
    "    tools=[retrieve_information]\n",
    ")\n",
    "\n",
    "result = agent.run_sync(\"What are tools in Pydantic AI?\")\n",
    "\n",
    "print(result.output)"
   ]
  },
  {
   "cell_type": "markdown",
   "metadata": {},
   "source": [
    "## 5. Conclusion\n",
    "\n",
    "In this tutorial, you've learned the basics of Pydantic AI, including:\n",
    "\n",
    "* How to set up your environment and load API keys.\n",
    "* How to get structured output from LLMs using Pydantic models.\n",
    "* How to create and use tools with your agents.\n",
    "* How to build a simple RAG agent.\n",
    "\n",
    "Pydantic AI is a powerful tool for building robust and reliable AI applications. To learn more, check out the official documentation and explore the examples in the Pydantic AI GitHub repository."
   ]
  }
 ],
 "metadata": {
  "kernelspec": {
   "display_name": "3.10.14",
   "language": "python",
   "name": "python3"
  },
  "language_info": {
   "codemirror_mode": {
    "name": "ipython",
    "version": 3
   },
   "file_extension": ".py",
   "mimetype": "text/x-python",
   "name": "python",
   "nbconvert_exporter": "python",
   "pygments_lexer": "ipython3",
   "version": "3.10.14"
  }
 },
 "nbformat": 4,
 "nbformat_minor": 4
}
