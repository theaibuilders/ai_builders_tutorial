{
 "cells": [
  {
   "cell_type": "markdown",
   "metadata": {},
   "source": [
    "# Strands Agents: Simplify AI Agents Development with Model-driven Approach\n",
    "\n",
    "Welcome to this tutorial on Strands Agents! Strands is a powerful, open-source Python SDK from AWS that simplifies the creation of AI agents. It's designed to be model-agnostic, allowing you to use various Large Language Models (LLMs) like those from **Amazon Bedrock**, OpenAI, Anthropic, and even local models.\n",
    "\n",
    "In this notebook, we will cover the fundamental concepts of Strands Agents and build a simple yet functional agent that can use tools to perform tasks.\n",
    "\n",
    "**What you will learn:**\n",
    "\n",
    "* **Core Concepts:** Understand the key components of a Strands Agent: `Agent`, `Model`, and `Tools`.\n",
    "* **Basic Agent Creation:** Create a simple agent and interact with it using Amazon Bedrock.\n",
    "* **Using Tools:** Equip your agent with built-in and custom tools to extend its capabilities.\n",
    "* **Environment Variables:** Securely manage your AWS credentials using a `.env` file.\n",
    "* **A Practical Example:** Build a \"Research Assistant\" agent that can search the web.\n",
    "\n",
    "Let's get started! 🚀"
   ]
  },
  {
   "cell_type": "code",
   "execution_count": 1,
   "metadata": {},
   "outputs": [],
   "source": [
    "# First, let's install the necessary packages.\n",
    "# - strands-agents: The core SDK.\n",
    "# - strands-agents-tools: A collection of pre-built tools.\n",
    "# - python-dotenv: To load our API keys from a .env file.\n",
    "# - boto3: The AWS SDK for Python, required for Amazon Bedrock.\n",
    "\n",
    "#%pip install strands-agents strands-agents-tools python-dotenv boto3 -q"
   ]
  },
  {
   "cell_type": "markdown",
   "metadata": {},
   "source": [
    "## Setting Up AWS Credentials\n",
    "\n",
    "To use Amazon Bedrock models, you'll need AWS credentials. It's a best practice to keep these credentials out of your code. We'll use a `.env` file to store them securely.\n",
    "\n",
    "1.  **Create a file named `.env`** in the same directory as this notebook.\n",
    "2.  **Add your AWS credentials** to the `.env` file in the following format:\n",
    "\n",
    "    ```\n",
    "    AWS_ACCESS_KEY_ID=\"your_aws_access_key_id\"\n",
    "    AWS_SECRET_ACCESS_KEY=\"your_aws_secret_access_key\"\n",
    "    AWS_DEFAULT_REGION=\"us-west-2\"  # or your preferred region\n",
    "    ```\n",
    "\n",
    "For this tutorial, we will be using Amazon Bedrock with Claude 3 Haiku. You can get AWS credentials from the [AWS IAM Console](https://console.aws.amazon.com/iam/).\n"
   ]
  },
  {
   "cell_type": "code",
   "execution_count": 7,
   "metadata": {},
   "outputs": [
    {
     "name": "stdout",
     "output_type": "stream",
     "text": [
      "✅ AWS credentials loaded successfully!\n"
     ]
    }
   ],
   "source": [
    "import os\n",
    "from dotenv import load_dotenv\n",
    "\n",
    "# Load the environment variables from the .env file\n",
    "load_dotenv()\n",
    "\n",
    "# We'll check if the AWS credentials are loaded.\n",
    "if \"AWS_ACCESS_KEY_ID\" in os.environ and \"AWS_SECRET_ACCESS_KEY\" in os.environ:\n",
    "    print(\"✅ AWS credentials loaded successfully!\")\n",
    "else:\n",
    "    print(\"⚠️ AWS credentials not f ound. Please check your .env file.\")"
   ]
  },
  {
   "cell_type": "markdown",
   "metadata": {},
   "source": [
    "## Core Concepts: The Agent, Model, and Tools\n",
    "\n",
    "A Strands Agent is composed of three main parts:\n",
    "\n",
    "1.  **Model:** The LLM that powers the agent's reasoning and decision-making. Strands is model-agnostic, so you can easily switch between models from different providers.\n",
    "2.  **Tools:** Functions that the agent can use to interact with the outside world, like searching the web, using a calculator, or accessing a database.\n",
    "3.  **Prompt:** A set of instructions that tells the agent what to do.\n",
    "\n",
    "Let's create our first agent. We'll start with a simple agent that doesn't have any tools yet. We will use the `BedrockModel` and specify a Claude model from Amazon Bedrock.\n"
   ]
  },
  {
   "cell_type": "code",
   "execution_count": null,
   "metadata": {},
   "outputs": [
    {
     "name": "stdout",
     "output_type": "stream",
     "text": [
      "Hi there! I'm Claude, an AI created by Anthropic to be helpful, honest, and harmless. I can help with all sorts of tasks like:\n",
      "\n",
      "- Writing and editing\n",
      "- Analysis and research\n",
      "- Math and coding\n",
      "- Answering questions\n",
      "- Creative brainstorming\n",
      "- Problem-solving\n",
      "\n",
      "I aim to be direct, substantive, and ethical in my responses. I won't help with anything harmful, and I'll be upfront if I'm unsure about something. What would you like assistance with today?"
     ]
    }
   ],
   "source": [
    "from strands import Agent\n",
    "from strands.models.bedrock import BedrockModel\n",
    "import os\n",
    "\n",
    "# 1. Define the model\n",
    "# We are using the BedrockModel with Claude 3 Sonnet.\n",
    "# You must have model access enabled for this model ID in your AWS account's Bedrock console.\n",
    "model = BedrockModel(\n",
    "    model_id=\"anthropic.claude-3-5-haiku-20241022-v1:0\",\n",
    "    region_name=os.environ.get(\"AWS_DEFAULT_REGION\", \"us-west-2\") # Uses the region from .env or defaults to us-west-2\n",
    ")\n",
    "\n",
    "# 2. Define the agent\n",
    "# We'll give it a system prompt to define its personality.\n",
    "agent = Agent(\n",
    "    model=model,\n",
    "    system_prompt=\"You are a friendly and helpful assistant.\"\n",
    ")\n",
    "\n",
    "# 3. Interact with the agent\n",
    "response = agent(\"Hello! What can you do?\")"
   ]
  },
  {
   "cell_type": "markdown",
   "metadata": {},
   "source": [
    "## Extending Capabilities with Tools\n",
    "\n",
    "Our agent is not very useful yet because it can't do anything other than talk. Let's give it some tools! Strands provides a variety of pre-built tools in the `strands-agents-tools` package. We'll give our agent a `calculator` and the ability to get the `current_time`.\n",
    "\n",
    "You can also create your own custom tools by simply decorating a Python function with `@tool`. Let's see how this works in practice.\n"
   ]
  },
  {
   "cell_type": "code",
   "execution_count": 10,
   "metadata": {},
   "outputs": [
    {
     "name": "stdout",
     "output_type": "stream",
     "text": [
      "I'll help you calculate that using the calculator tool.\n",
      "Tool #1: calculator\n"
     ]
    },
    {
     "data": {
      "text/html": [
       "<pre style=\"white-space:pre;overflow-x:auto;line-height:normal;font-family:Menlo,'DejaVu Sans Mono',consolas,'Courier New',monospace\"><span style=\"color: #000080; text-decoration-color: #000080\">╭────────────────────────────────────────────── </span><span style=\"color: #000080; text-decoration-color: #000080; font-weight: bold\">Calculation Result</span><span style=\"color: #000080; text-decoration-color: #000080\"> ───────────────────────────────────────────────╮</span>\n",
       "<span style=\"color: #000080; text-decoration-color: #000080\">│</span>                                                                                                                 <span style=\"color: #000080; text-decoration-color: #000080\">│</span>\n",
       "<span style=\"color: #000080; text-decoration-color: #000080\">│</span>  ╭───────────┬─────────────────────╮                                                                            <span style=\"color: #000080; text-decoration-color: #000080\">│</span>\n",
       "<span style=\"color: #000080; text-decoration-color: #000080\">│</span>  │<span style=\"color: #008080; text-decoration-color: #008080\"> Operation </span>│<span style=\"color: #008000; text-decoration-color: #008000\"> Evaluate Expression </span>│                                                                            <span style=\"color: #000080; text-decoration-color: #000080\">│</span>\n",
       "<span style=\"color: #000080; text-decoration-color: #000080\">│</span>  │<span style=\"color: #008080; text-decoration-color: #008080\"> Input     </span>│<span style=\"color: #008000; text-decoration-color: #008000\"> 25 * 8              </span>│                                                                            <span style=\"color: #000080; text-decoration-color: #000080\">│</span>\n",
       "<span style=\"color: #000080; text-decoration-color: #000080\">│</span>  │<span style=\"color: #008080; text-decoration-color: #008080\"> Result    </span>│<span style=\"color: #008000; text-decoration-color: #008000\"> 200                 </span>│                                                                            <span style=\"color: #000080; text-decoration-color: #000080\">│</span>\n",
       "<span style=\"color: #000080; text-decoration-color: #000080\">│</span>  ╰───────────┴─────────────────────╯                                                                            <span style=\"color: #000080; text-decoration-color: #000080\">│</span>\n",
       "<span style=\"color: #000080; text-decoration-color: #000080\">│</span>                                                                                                                 <span style=\"color: #000080; text-decoration-color: #000080\">│</span>\n",
       "<span style=\"color: #000080; text-decoration-color: #000080\">╰─────────────────────────────────────────────────────────────────────────────────────────────────────────────────╯</span>\n",
       "</pre>\n"
      ],
      "text/plain": [
       "\u001b[34m╭─\u001b[0m\u001b[34m─────────────────────────────────────────────\u001b[0m\u001b[34m \u001b[0m\u001b[1;34mCalculation Result\u001b[0m\u001b[34m \u001b[0m\u001b[34m──────────────────────────────────────────────\u001b[0m\u001b[34m─╮\u001b[0m\n",
       "\u001b[34m│\u001b[0m                                                                                                                 \u001b[34m│\u001b[0m\n",
       "\u001b[34m│\u001b[0m  ╭───────────┬─────────────────────╮                                                                            \u001b[34m│\u001b[0m\n",
       "\u001b[34m│\u001b[0m  │\u001b[36m \u001b[0m\u001b[36mOperation\u001b[0m\u001b[36m \u001b[0m│\u001b[32m \u001b[0m\u001b[32mEvaluate Expression\u001b[0m\u001b[32m \u001b[0m│                                                                            \u001b[34m│\u001b[0m\n",
       "\u001b[34m│\u001b[0m  │\u001b[36m \u001b[0m\u001b[36mInput    \u001b[0m\u001b[36m \u001b[0m│\u001b[32m \u001b[0m\u001b[32m25 * 8             \u001b[0m\u001b[32m \u001b[0m│                                                                            \u001b[34m│\u001b[0m\n",
       "\u001b[34m│\u001b[0m  │\u001b[36m \u001b[0m\u001b[36mResult   \u001b[0m\u001b[36m \u001b[0m│\u001b[32m \u001b[0m\u001b[32m200                \u001b[0m\u001b[32m \u001b[0m│                                                                            \u001b[34m│\u001b[0m\n",
       "\u001b[34m│\u001b[0m  ╰───────────┴─────────────────────╯                                                                            \u001b[34m│\u001b[0m\n",
       "\u001b[34m│\u001b[0m                                                                                                                 \u001b[34m│\u001b[0m\n",
       "\u001b[34m╰─────────────────────────────────────────────────────────────────────────────────────────────────────────────────╯\u001b[0m\n"
      ]
     },
     "metadata": {},
     "output_type": "display_data"
    },
    {
     "name": "stdout",
     "output_type": "stream",
     "text": [
      "The result of 25 * 8 is 200.--------------------\n",
      "I'll use the say_hello tool to greet the world.\n",
      "Tool #2: say_hello\n",
      "There you go! A friendly hello to the world.--------------------\n",
      "I'll retrieve the current time using the current_time tool. Since no specific timezone was mentioned, it will default to UTC.\n",
      "Tool #3: current_time\n",
      "The current time in UTC is 2025-08-20T15:16:46.884773+00:00. This is in ISO 8601 format, which includes the date, time, and timezone offset.\n",
      "\n",
      "Would you like me to show the time in a specific timezone?"
     ]
    }
   ],
   "source": [
    "from strands import tool\n",
    "from strands_tools import calculator, current_time\n",
    "import datetime\n",
    "\n",
    "# Let's create a custom tool to say hello.\n",
    "@tool\n",
    "def say_hello(name: str) -> str:\n",
    "    \"\"\"A tool to say hello to a person.\"\"\"\n",
    "    return f\"Hello, {name}!\"\n",
    "\n",
    "# Create a new agent with the built-in and custom tools.\n",
    "agent_with_tools = Agent(\n",
    "    model=model,\n",
    "    system_prompt=\"You are a helpful assistant that can use tools.\",\n",
    "    tools=[calculator, current_time, say_hello]\n",
    ")\n",
    "\n",
    "# Now, let's ask the agent a question that requires a tool.\n",
    "response_calculator = agent_with_tools(\"What is 25 * 8?\")\n",
    "\n",
    "print(\"-\" * 20)\n",
    "\n",
    "# And another one that uses our custom tool.\n",
    "response_hello = agent_with_tools(\"Say hello to the world.\")\n",
    "\n",
    "print(\"-\" * 20)\n",
    "\n",
    "# And one that uses the current_time tool.\n",
    "response_time = agent_with_tools(\"What time is it?\")"
   ]
  },
  {
   "cell_type": "markdown",
   "metadata": {},
   "source": [
    "## A Practical Example: The Research Assistant\n",
    "\n",
    "Now, let's build a more practical agent. We'll create a \"Research Assistant\" that can search the web to answer questions. For this, we'll use an `http_request` tool which allows the agent to make HTTP requests to fetch information from the web.\n",
    "\n",
    "We will also see how the agent can use multiple tools in a sequence to answer a more complex question that requires both research and calculation.\n"
   ]
  },
  {
   "cell_type": "code",
   "execution_count": 15,
   "metadata": {},
   "outputs": [
    {
     "name": "stdout",
     "output_type": "stream",
     "text": [
      "Let me search for the latest information about Strands Agents.\n",
      "Tool #1: http_request\n"
     ]
    },
    {
     "data": {
      "text/html": [
       "<pre style=\"white-space:pre;overflow-x:auto;line-height:normal;font-family:Menlo,'DejaVu Sans Mono',consolas,'Courier New',monospace\"><span style=\"color: #000080; text-decoration-color: #000080\">╭───────────────────────────────────── </span><span style=\"color: #000080; text-decoration-color: #000080; font-weight: bold\">🚀 HTTP Request Preview: GET /search</span><span style=\"color: #000080; text-decoration-color: #000080\"> ──────────────────────────────────────╮</span>\n",
       "<span style=\"color: #000080; text-decoration-color: #000080\">│</span>                                                                                                                 <span style=\"color: #000080; text-decoration-color: #000080\">│</span>\n",
       "<span style=\"color: #000080; text-decoration-color: #000080\">│</span>  <span style=\"color: #008080; text-decoration-color: #008080\"> Method  </span> <span style=\"color: #c0c0c0; text-decoration-color: #c0c0c0\"> GET                                                                                               </span>  <span style=\"color: #000080; text-decoration-color: #000080\">│</span>\n",
       "<span style=\"color: #000080; text-decoration-color: #000080\">│</span>  <span style=\"color: #008080; text-decoration-color: #008080\"> URL     </span> <span style=\"color: #c0c0c0; text-decoration-color: #c0c0c0\"> https://www.google.com/search?q=Strands+Agents+latest+news                                        </span>  <span style=\"color: #000080; text-decoration-color: #000080\">│</span>\n",
       "<span style=\"color: #000080; text-decoration-color: #000080\">│</span>  <span style=\"color: #008080; text-decoration-color: #008080\"> Headers </span> <span style=\"color: #c0c0c0; text-decoration-color: #c0c0c0\"> {'User-Agent': 'Mozilla/5.0 (Windows NT 10.0; Win64; x64) AppleWebKit/537.36 (KHTML, like Gecko)  </span>  <span style=\"color: #000080; text-decoration-color: #000080\">│</span>\n",
       "<span style=\"color: #000080; text-decoration-color: #000080\">│</span>  <span style=\"color: #008080; text-decoration-color: #008080\">         </span> <span style=\"color: #c0c0c0; text-decoration-color: #c0c0c0\"> Chrome/91.0.4472.124 Safari/537.36'}                                                              </span>  <span style=\"color: #000080; text-decoration-color: #000080\">│</span>\n",
       "<span style=\"color: #000080; text-decoration-color: #000080\">│</span>                                                                                                                 <span style=\"color: #000080; text-decoration-color: #000080\">│</span>\n",
       "<span style=\"color: #000080; text-decoration-color: #000080\">╰─────────────────────────────────────────────────────────────────────────────────────────────────────────────────╯</span>\n",
       "</pre>\n"
      ],
      "text/plain": [
       "\u001b[34m╭─\u001b[0m\u001b[34m────────────────────────────────────\u001b[0m\u001b[34m \u001b[0m\u001b[1;34m🚀 HTTP Request Preview: GET /search\u001b[0m\u001b[34m \u001b[0m\u001b[34m─────────────────────────────────────\u001b[0m\u001b[34m─╮\u001b[0m\n",
       "\u001b[34m│\u001b[0m                                                                                                                 \u001b[34m│\u001b[0m\n",
       "\u001b[34m│\u001b[0m  \u001b[36m \u001b[0m\u001b[36mMethod \u001b[0m\u001b[36m \u001b[0m \u001b[37m \u001b[0m\u001b[37mGET                                                                                              \u001b[0m\u001b[37m \u001b[0m  \u001b[34m│\u001b[0m\n",
       "\u001b[34m│\u001b[0m  \u001b[36m \u001b[0m\u001b[36mURL    \u001b[0m\u001b[36m \u001b[0m \u001b[37m \u001b[0m\u001b[37mhttps://www.google.com/search?q=Strands+Agents+latest+news                                       \u001b[0m\u001b[37m \u001b[0m  \u001b[34m│\u001b[0m\n",
       "\u001b[34m│\u001b[0m  \u001b[36m \u001b[0m\u001b[36mHeaders\u001b[0m\u001b[36m \u001b[0m \u001b[37m \u001b[0m\u001b[37m{'User-Agent': 'Mozilla/5.0 (Windows NT 10.0; Win64; x64) AppleWebKit/537.36 (KHTML, like Gecko) \u001b[0m\u001b[37m \u001b[0m  \u001b[34m│\u001b[0m\n",
       "\u001b[34m│\u001b[0m  \u001b[36m         \u001b[0m \u001b[37m \u001b[0m\u001b[37mChrome/91.0.4472.124 Safari/537.36'}                                                             \u001b[0m\u001b[37m \u001b[0m  \u001b[34m│\u001b[0m\n",
       "\u001b[34m│\u001b[0m                                                                                                                 \u001b[34m│\u001b[0m\n",
       "\u001b[34m╰─────────────────────────────────────────────────────────────────────────────────────────────────────────────────╯\u001b[0m\n"
      ]
     },
     "metadata": {},
     "output_type": "display_data"
    },
    {
     "data": {
      "text/html": [
       "<pre style=\"white-space:pre;overflow-x:auto;line-height:normal;font-family:Menlo,'DejaVu Sans Mono',consolas,'Courier New',monospace\"><span style=\"color: #000080; text-decoration-color: #000080\">Sending request...</span>\n",
       "</pre>\n"
      ],
      "text/plain": [
       "\u001b[34mSending request...\u001b[0m\n"
      ]
     },
     "metadata": {},
     "output_type": "display_data"
    },
    {
     "data": {
      "text/html": [
       "<pre style=\"white-space:pre;overflow-x:auto;line-height:normal;font-family:Menlo,'DejaVu Sans Mono',consolas,'Courier New',monospace\"><span style=\"color: #800000; text-decoration-color: #800000\">╭───────────────────────────────────────────── </span><span style=\"color: #800000; text-decoration-color: #800000; font-weight: bold\">❌ HTTP Response: 0 </span><span style=\"color: #800000; text-decoration-color: #800000\"> ──────────────────────────────────────────────╮</span>\n",
       "<span style=\"color: #800000; text-decoration-color: #800000\">│</span> <span style=\"color: #000080; text-decoration-color: #000080\">                                                                                                               </span> <span style=\"color: #800000; text-decoration-color: #800000\">│</span>\n",
       "<span style=\"color: #800000; text-decoration-color: #800000\">│</span> <span style=\"color: #000080; text-decoration-color: #000080\"> </span>                                                                                                             <span style=\"color: #000080; text-decoration-color: #000080\"> </span> <span style=\"color: #800000; text-decoration-color: #800000\">│</span>\n",
       "<span style=\"color: #800000; text-decoration-color: #800000\">│</span> <span style=\"color: #000080; text-decoration-color: #000080\"> </span>  <span style=\"color: #008080; text-decoration-color: #008080\"> Status       </span>  <span style=\"color: #800000; text-decoration-color: #800000\">429 Too Many Requests                                                                   </span>   <span style=\"color: #000080; text-decoration-color: #000080\"> </span> <span style=\"color: #800000; text-decoration-color: #800000\">│</span>\n",
       "<span style=\"color: #800000; text-decoration-color: #800000\">│</span> <span style=\"color: #000080; text-decoration-color: #000080\"> </span>  <span style=\"color: #008080; text-decoration-color: #008080\"> URL          </span>  https://www.google.com/sorry/index?continue=https://www.google.com/search%3Fq%3DStrands…   <span style=\"color: #000080; text-decoration-color: #000080\"> </span> <span style=\"color: #800000; text-decoration-color: #800000\">│</span>\n",
       "<span style=\"color: #800000; text-decoration-color: #800000\">│</span> <span style=\"color: #000080; text-decoration-color: #000080\"> </span>  <span style=\"color: #008080; text-decoration-color: #008080\"> Content-Type </span>  text/html                                                                                  <span style=\"color: #000080; text-decoration-color: #000080\"> </span> <span style=\"color: #800000; text-decoration-color: #800000\">│</span>\n",
       "<span style=\"color: #800000; text-decoration-color: #800000\">│</span> <span style=\"color: #000080; text-decoration-color: #000080\"> </span>  <span style=\"color: #008080; text-decoration-color: #008080\"> Size         </span>  3,217 bytes (3.1 KB)                                                                       <span style=\"color: #000080; text-decoration-color: #000080\"> </span> <span style=\"color: #800000; text-decoration-color: #800000\">│</span>\n",
       "<span style=\"color: #800000; text-decoration-color: #800000\">│</span> <span style=\"color: #000080; text-decoration-color: #000080\"> </span>                                                                                                             <span style=\"color: #000080; text-decoration-color: #000080\"> </span> <span style=\"color: #800000; text-decoration-color: #800000\">│</span>\n",
       "<span style=\"color: #800000; text-decoration-color: #800000\">│</span> <span style=\"color: #000080; text-decoration-color: #000080\">                                                                                                               </span> <span style=\"color: #800000; text-decoration-color: #800000\">│</span>\n",
       "<span style=\"color: #800000; text-decoration-color: #800000\">╰─────────────────────────────────────────────────────────────────────────────────────────────────────────────────╯</span>\n",
       "</pre>\n"
      ],
      "text/plain": [
       "\u001b[31m╭─\u001b[0m\u001b[31m────────────────────────────────────────────\u001b[0m\u001b[31m \u001b[0m\u001b[1;31m❌ HTTP Response: 0 \u001b[0m\u001b[31m \u001b[0m\u001b[31m─────────────────────────────────────────────\u001b[0m\u001b[31m─╮\u001b[0m\n",
       "\u001b[31m│\u001b[0m \u001b[34m                                                                                                               \u001b[0m \u001b[31m│\u001b[0m\n",
       "\u001b[31m│\u001b[0m \u001b[34m \u001b[0m                                                                                                             \u001b[34m \u001b[0m \u001b[31m│\u001b[0m\n",
       "\u001b[31m│\u001b[0m \u001b[34m \u001b[0m  \u001b[36m \u001b[0m\u001b[36mStatus      \u001b[0m\u001b[36m \u001b[0m  \u001b[31m429 Too Many Requests                                                                   \u001b[0m   \u001b[34m \u001b[0m \u001b[31m│\u001b[0m\n",
       "\u001b[31m│\u001b[0m \u001b[34m \u001b[0m  \u001b[36m \u001b[0m\u001b[36mURL         \u001b[0m\u001b[36m \u001b[0m  https://www.google.com/sorry/index?continue=https://www.google.com/search%3Fq%3DStrands…   \u001b[34m \u001b[0m \u001b[31m│\u001b[0m\n",
       "\u001b[31m│\u001b[0m \u001b[34m \u001b[0m  \u001b[36m \u001b[0m\u001b[36mContent-Type\u001b[0m\u001b[36m \u001b[0m  text/html                                                                                  \u001b[34m \u001b[0m \u001b[31m│\u001b[0m\n",
       "\u001b[31m│\u001b[0m \u001b[34m \u001b[0m  \u001b[36m \u001b[0m\u001b[36mSize        \u001b[0m\u001b[36m \u001b[0m  3,217 bytes (3.1 KB)                                                                       \u001b[34m \u001b[0m \u001b[31m│\u001b[0m\n",
       "\u001b[31m│\u001b[0m \u001b[34m \u001b[0m                                                                                                             \u001b[34m \u001b[0m \u001b[31m│\u001b[0m\n",
       "\u001b[31m│\u001b[0m \u001b[34m                                                                                                               \u001b[0m \u001b[31m│\u001b[0m\n",
       "\u001b[31m╰─────────────────────────────────────────────────────────────────────────────────────────────────────────────────╯\u001b[0m\n"
      ]
     },
     "metadata": {},
     "output_type": "display_data"
    },
    {
     "data": {
      "text/html": [
       "<pre style=\"white-space:pre;overflow-x:auto;line-height:normal;font-family:Menlo,'DejaVu Sans Mono',consolas,'Courier New',monospace\"><span style=\"color: #000080; text-decoration-color: #000080\">╭─────── </span><span style=\"color: #000080; text-decoration-color: #000080; font-weight: bold\">Redirect Information</span><span style=\"color: #000080; text-decoration-color: #000080\"> ───────╮</span>\n",
       "<span style=\"color: #000080; text-decoration-color: #000080\">│</span>                                    <span style=\"color: #000080; text-decoration-color: #000080\">│</span>\n",
       "<span style=\"color: #000080; text-decoration-color: #000080\">│</span> <span style=\"color: #808000; text-decoration-color: #808000\">Followed 1 redirect(s): </span><span style=\"color: #008080; text-decoration-color: #008080\">302 -&gt; 429</span> <span style=\"color: #000080; text-decoration-color: #000080\">│</span>\n",
       "<span style=\"color: #000080; text-decoration-color: #000080\">│</span>                                    <span style=\"color: #000080; text-decoration-color: #000080\">│</span>\n",
       "<span style=\"color: #000080; text-decoration-color: #000080\">╰────────────────────────────────────╯</span>\n",
       "</pre>\n"
      ],
      "text/plain": [
       "\u001b[34m╭─\u001b[0m\u001b[34m──────\u001b[0m\u001b[34m \u001b[0m\u001b[1;34mRedirect Information\u001b[0m\u001b[34m \u001b[0m\u001b[34m──────\u001b[0m\u001b[34m─╮\u001b[0m\n",
       "\u001b[34m│\u001b[0m                                    \u001b[34m│\u001b[0m\n",
       "\u001b[34m│\u001b[0m \u001b[33mFollowed 1 redirect(s): \u001b[0m\u001b[36m302 -> 429\u001b[0m \u001b[34m│\u001b[0m\n",
       "\u001b[34m│\u001b[0m                                    \u001b[34m│\u001b[0m\n",
       "\u001b[34m╰────────────────────────────────────╯\u001b[0m\n"
      ]
     },
     "metadata": {},
     "output_type": "display_data"
    },
    {
     "name": "stdout",
     "output_type": "stream",
     "text": [
      "I apologize, but I encountered a search restriction. Let me try another approach.\n",
      "Tool #2: http_request\n"
     ]
    },
    {
     "data": {
      "text/html": [
       "<pre style=\"white-space:pre;overflow-x:auto;line-height:normal;font-family:Menlo,'DejaVu Sans Mono',consolas,'Courier New',monospace\"><span style=\"color: #000080; text-decoration-color: #000080\">╭───────────────────────────────────── </span><span style=\"color: #000080; text-decoration-color: #000080; font-weight: bold\">🚀 HTTP Request Preview: GET /search</span><span style=\"color: #000080; text-decoration-color: #000080\"> ──────────────────────────────────────╮</span>\n",
       "<span style=\"color: #000080; text-decoration-color: #000080\">│</span>                                                                                                                 <span style=\"color: #000080; text-decoration-color: #000080\">│</span>\n",
       "<span style=\"color: #000080; text-decoration-color: #000080\">│</span>  <span style=\"color: #008080; text-decoration-color: #008080\"> Method  </span> <span style=\"color: #c0c0c0; text-decoration-color: #c0c0c0\"> GET                                                                                               </span>  <span style=\"color: #000080; text-decoration-color: #000080\">│</span>\n",
       "<span style=\"color: #000080; text-decoration-color: #000080\">│</span>  <span style=\"color: #008080; text-decoration-color: #008080\"> URL     </span> <span style=\"color: #c0c0c0; text-decoration-color: #c0c0c0\"> https://news.google.com/search?q=Strands%20Agents&amp;hl=en-US&amp;gl=US&amp;ceid=US%3Aen                     </span>  <span style=\"color: #000080; text-decoration-color: #000080\">│</span>\n",
       "<span style=\"color: #000080; text-decoration-color: #000080\">│</span>  <span style=\"color: #008080; text-decoration-color: #008080\"> Headers </span> <span style=\"color: #c0c0c0; text-decoration-color: #c0c0c0\"> {'User-Agent': 'Mozilla/5.0 (Windows NT 10.0; Win64; x64) AppleWebKit/537.36 (KHTML, like Gecko)  </span>  <span style=\"color: #000080; text-decoration-color: #000080\">│</span>\n",
       "<span style=\"color: #000080; text-decoration-color: #000080\">│</span>  <span style=\"color: #008080; text-decoration-color: #008080\">         </span> <span style=\"color: #c0c0c0; text-decoration-color: #c0c0c0\"> Chrome/91.0.4472.124 Safari/537.36'}                                                              </span>  <span style=\"color: #000080; text-decoration-color: #000080\">│</span>\n",
       "<span style=\"color: #000080; text-decoration-color: #000080\">│</span>                                                                                                                 <span style=\"color: #000080; text-decoration-color: #000080\">│</span>\n",
       "<span style=\"color: #000080; text-decoration-color: #000080\">╰─────────────────────────────────────────────────────────────────────────────────────────────────────────────────╯</span>\n",
       "</pre>\n"
      ],
      "text/plain": [
       "\u001b[34m╭─\u001b[0m\u001b[34m────────────────────────────────────\u001b[0m\u001b[34m \u001b[0m\u001b[1;34m🚀 HTTP Request Preview: GET /search\u001b[0m\u001b[34m \u001b[0m\u001b[34m─────────────────────────────────────\u001b[0m\u001b[34m─╮\u001b[0m\n",
       "\u001b[34m│\u001b[0m                                                                                                                 \u001b[34m│\u001b[0m\n",
       "\u001b[34m│\u001b[0m  \u001b[36m \u001b[0m\u001b[36mMethod \u001b[0m\u001b[36m \u001b[0m \u001b[37m \u001b[0m\u001b[37mGET                                                                                              \u001b[0m\u001b[37m \u001b[0m  \u001b[34m│\u001b[0m\n",
       "\u001b[34m│\u001b[0m  \u001b[36m \u001b[0m\u001b[36mURL    \u001b[0m\u001b[36m \u001b[0m \u001b[37m \u001b[0m\u001b[37mhttps://news.google.com/search?q=Strands%20Agents&hl=en-US&gl=US&ceid=US%3Aen                    \u001b[0m\u001b[37m \u001b[0m  \u001b[34m│\u001b[0m\n",
       "\u001b[34m│\u001b[0m  \u001b[36m \u001b[0m\u001b[36mHeaders\u001b[0m\u001b[36m \u001b[0m \u001b[37m \u001b[0m\u001b[37m{'User-Agent': 'Mozilla/5.0 (Windows NT 10.0; Win64; x64) AppleWebKit/537.36 (KHTML, like Gecko) \u001b[0m\u001b[37m \u001b[0m  \u001b[34m│\u001b[0m\n",
       "\u001b[34m│\u001b[0m  \u001b[36m         \u001b[0m \u001b[37m \u001b[0m\u001b[37mChrome/91.0.4472.124 Safari/537.36'}                                                             \u001b[0m\u001b[37m \u001b[0m  \u001b[34m│\u001b[0m\n",
       "\u001b[34m│\u001b[0m                                                                                                                 \u001b[34m│\u001b[0m\n",
       "\u001b[34m╰─────────────────────────────────────────────────────────────────────────────────────────────────────────────────╯\u001b[0m\n"
      ]
     },
     "metadata": {},
     "output_type": "display_data"
    },
    {
     "data": {
      "text/html": [
       "<pre style=\"white-space:pre;overflow-x:auto;line-height:normal;font-family:Menlo,'DejaVu Sans Mono',consolas,'Courier New',monospace\"><span style=\"color: #000080; text-decoration-color: #000080\">Sending request...</span>\n",
       "</pre>\n"
      ],
      "text/plain": [
       "\u001b[34mSending request...\u001b[0m\n"
      ]
     },
     "metadata": {},
     "output_type": "display_data"
    },
    {
     "data": {
      "text/html": [
       "<pre style=\"white-space:pre;overflow-x:auto;line-height:normal;font-family:Menlo,'DejaVu Sans Mono',consolas,'Courier New',monospace\"><span style=\"color: #008000; text-decoration-color: #008000\">╭─────────────────────────────────────────── </span><span style=\"color: #008000; text-decoration-color: #008000; font-weight: bold\">✅ HTTP Response: 200 OK</span><span style=\"color: #008000; text-decoration-color: #008000\"> ────────────────────────────────────────────╮</span>\n",
       "<span style=\"color: #008000; text-decoration-color: #008000\">│</span> <span style=\"color: #000080; text-decoration-color: #000080\">                                                                                                               </span> <span style=\"color: #008000; text-decoration-color: #008000\">│</span>\n",
       "<span style=\"color: #008000; text-decoration-color: #008000\">│</span> <span style=\"color: #000080; text-decoration-color: #000080\"> </span>                                                                                                             <span style=\"color: #000080; text-decoration-color: #000080\"> </span> <span style=\"color: #008000; text-decoration-color: #008000\">│</span>\n",
       "<span style=\"color: #008000; text-decoration-color: #008000\">│</span> <span style=\"color: #000080; text-decoration-color: #000080\"> </span>  <span style=\"color: #008080; text-decoration-color: #008080\"> Status       </span>  <span style=\"color: #008000; text-decoration-color: #008000\">200 OK                                                                       </span>              <span style=\"color: #000080; text-decoration-color: #000080\"> </span> <span style=\"color: #008000; text-decoration-color: #008000\">│</span>\n",
       "<span style=\"color: #008000; text-decoration-color: #008000\">│</span> <span style=\"color: #000080; text-decoration-color: #000080\"> </span>  <span style=\"color: #008080; text-decoration-color: #008080\"> URL          </span>  https://news.google.com/search?q=Strands%20Agents&amp;hl=en-US&amp;gl=US&amp;ceid=US%3Aen              <span style=\"color: #000080; text-decoration-color: #000080\"> </span> <span style=\"color: #008000; text-decoration-color: #008000\">│</span>\n",
       "<span style=\"color: #008000; text-decoration-color: #008000\">│</span> <span style=\"color: #000080; text-decoration-color: #000080\"> </span>  <span style=\"color: #008080; text-decoration-color: #008080\"> Content-Type </span>  text/html; charset=utf-8                                                                   <span style=\"color: #000080; text-decoration-color: #000080\"> </span> <span style=\"color: #008000; text-decoration-color: #008000\">│</span>\n",
       "<span style=\"color: #008000; text-decoration-color: #008000\">│</span> <span style=\"color: #000080; text-decoration-color: #000080\"> </span>  <span style=\"color: #008080; text-decoration-color: #008080\"> Size         </span>  1,872,725 bytes (1828.8 KB)                                                                <span style=\"color: #000080; text-decoration-color: #000080\"> </span> <span style=\"color: #008000; text-decoration-color: #008000\">│</span>\n",
       "<span style=\"color: #008000; text-decoration-color: #008000\">│</span> <span style=\"color: #000080; text-decoration-color: #000080\"> </span>                                                                                                             <span style=\"color: #000080; text-decoration-color: #000080\"> </span> <span style=\"color: #008000; text-decoration-color: #008000\">│</span>\n",
       "<span style=\"color: #008000; text-decoration-color: #008000\">│</span> <span style=\"color: #000080; text-decoration-color: #000080\">                                                                                                               </span> <span style=\"color: #008000; text-decoration-color: #008000\">│</span>\n",
       "<span style=\"color: #008000; text-decoration-color: #008000\">╰─────────────────────────────────────────────────────────────────────────────────────────────────────────────────╯</span>\n",
       "</pre>\n"
      ],
      "text/plain": [
       "\u001b[32m╭─\u001b[0m\u001b[32m──────────────────────────────────────────\u001b[0m\u001b[32m \u001b[0m\u001b[1;32m✅ HTTP Response: 200 OK\u001b[0m\u001b[32m \u001b[0m\u001b[32m───────────────────────────────────────────\u001b[0m\u001b[32m─╮\u001b[0m\n",
       "\u001b[32m│\u001b[0m \u001b[34m                                                                                                               \u001b[0m \u001b[32m│\u001b[0m\n",
       "\u001b[32m│\u001b[0m \u001b[34m \u001b[0m                                                                                                             \u001b[34m \u001b[0m \u001b[32m│\u001b[0m\n",
       "\u001b[32m│\u001b[0m \u001b[34m \u001b[0m  \u001b[36m \u001b[0m\u001b[36mStatus      \u001b[0m\u001b[36m \u001b[0m  \u001b[32m200 OK                                                                       \u001b[0m              \u001b[34m \u001b[0m \u001b[32m│\u001b[0m\n",
       "\u001b[32m│\u001b[0m \u001b[34m \u001b[0m  \u001b[36m \u001b[0m\u001b[36mURL         \u001b[0m\u001b[36m \u001b[0m  https://news.google.com/search?q=Strands%20Agents&hl=en-US&gl=US&ceid=US%3Aen              \u001b[34m \u001b[0m \u001b[32m│\u001b[0m\n",
       "\u001b[32m│\u001b[0m \u001b[34m \u001b[0m  \u001b[36m \u001b[0m\u001b[36mContent-Type\u001b[0m\u001b[36m \u001b[0m  text/html; charset=utf-8                                                                   \u001b[34m \u001b[0m \u001b[32m│\u001b[0m\n",
       "\u001b[32m│\u001b[0m \u001b[34m \u001b[0m  \u001b[36m \u001b[0m\u001b[36mSize        \u001b[0m\u001b[36m \u001b[0m  1,872,725 bytes (1828.8 KB)                                                                \u001b[34m \u001b[0m \u001b[32m│\u001b[0m\n",
       "\u001b[32m│\u001b[0m \u001b[34m \u001b[0m                                                                                                             \u001b[34m \u001b[0m \u001b[32m│\u001b[0m\n",
       "\u001b[32m│\u001b[0m \u001b[34m                                                                                                               \u001b[0m \u001b[32m│\u001b[0m\n",
       "\u001b[32m╰─────────────────────────────────────────────────────────────────────────────────────────────────────────────────╯\u001b[0m\n"
      ]
     },
     "metadata": {},
     "output_type": "display_data"
    },
    {
     "data": {
      "text/html": [
       "<pre style=\"white-space:pre;overflow-x:auto;line-height:normal;font-family:Menlo,'DejaVu Sans Mono',consolas,'Courier New',monospace\"><span style=\"font-style: italic\">                                                 Response Headers                                                  </span>\n",
       "╭──────────────────────────────┬──────────────────────────────────────────────────────────────────────────────────╮\n",
       "│<span style=\"font-weight: bold\"> Header                       </span>│<span style=\"font-weight: bold\"> Value                                                                            </span>│\n",
       "├──────────────────────────────┼──────────────────────────────────────────────────────────────────────────────────┤\n",
       "│<span style=\"color: #008080; text-decoration-color: #008080\"> Content-Type                 </span>│<span style=\"color: #008000; text-decoration-color: #008000\"> text/html; charset=utf-8                                                         </span>│\n",
       "│<span style=\"color: #008080; text-decoration-color: #008080\"> Vary                         </span>│<span style=\"color: #008000; text-decoration-color: #008000\"> Sec-Fetch-Dest, Sec-Fetch-Mode, Sec-Fetch-Site                                   </span>│\n",
       "│<span style=\"color: #008080; text-decoration-color: #008080\"> x-ua-compatible              </span>│<span style=\"color: #008000; text-decoration-color: #008000\"> IE=edge                                                                          </span>│\n",
       "│<span style=\"color: #008080; text-decoration-color: #008080\"> Cache-Control                </span>│<span style=\"color: #008000; text-decoration-color: #008000\"> no-cache, no-store, max-age=0, must-revalidate                                   </span>│\n",
       "│<span style=\"color: #008080; text-decoration-color: #008080\"> Pragma                       </span>│<span style=\"color: #008000; text-decoration-color: #008000\"> no-cache                                                                         </span>│\n",
       "│<span style=\"color: #008080; text-decoration-color: #008080\"> Expires                      </span>│<span style=\"color: #008000; text-decoration-color: #008000\"> Mon, 01 Jan 1990 00:00:00 GMT                                                    </span>│\n",
       "│<span style=\"color: #008080; text-decoration-color: #008080\"> Date                         </span>│<span style=\"color: #008000; text-decoration-color: #008000\"> Wed, 20 Aug 2025 15:20:47 GMT                                                    </span>│\n",
       "│<span style=\"color: #008080; text-decoration-color: #008080\"> P3P                          </span>│<span style=\"color: #008000; text-decoration-color: #008000\"> CP=\"This is not a P3P policy! See g.co/p3phelp for more info.\"                   </span>│\n",
       "│<span style=\"color: #008080; text-decoration-color: #008080\"> Strict-Transport-Security    </span>│<span style=\"color: #008000; text-decoration-color: #008000\"> max-age=31536000                                                                 </span>│\n",
       "│<span style=\"color: #008080; text-decoration-color: #008080\"> Permissions-Policy           </span>│<span style=\"color: #008000; text-decoration-color: #008000\"> ch-ua-arch=*, ch-ua-bitness=*, ch-ua-full-version=*, ch-ua-full-version-list=*,  </span>│\n",
       "│<span style=\"color: #008080; text-decoration-color: #008080\">                              </span>│<span style=\"color: #008000; text-decoration-color: #008000\"> ch-ua-model=*, ch-ua...                                                          </span>│\n",
       "│<span style=\"color: #008080; text-decoration-color: #008080\"> Content-Security-Policy      </span>│<span style=\"color: #008000; text-decoration-color: #008000\"> require-trusted-types-for 'script';report-uri /_/DotsSplashUi/cspreport,         </span>│\n",
       "│<span style=\"color: #008080; text-decoration-color: #008080\">                              </span>│<span style=\"color: #008000; text-decoration-color: #008000\"> script-src 'report-sample' ...                                                   </span>│\n",
       "│<span style=\"color: #008080; text-decoration-color: #008080\"> Cross-Origin-Resource-Policy </span>│<span style=\"color: #008000; text-decoration-color: #008000\"> same-site                                                                        </span>│\n",
       "│<span style=\"color: #008080; text-decoration-color: #008080\"> Cross-Origin-Opener-Policy   </span>│<span style=\"color: #008000; text-decoration-color: #008000\"> same-origin-allow-popups                                                         </span>│\n",
       "│<span style=\"color: #008080; text-decoration-color: #008080\"> Accept-CH                    </span>│<span style=\"color: #008000; text-decoration-color: #008000\"> Sec-CH-UA-Arch, Sec-CH-UA-Bitness, Sec-CH-UA-Full-Version,                       </span>│\n",
       "│<span style=\"color: #008080; text-decoration-color: #008080\">                              </span>│<span style=\"color: #008000; text-decoration-color: #008000\"> Sec-CH-UA-Full-Version-List, Sec-CH-UA-Mo...                                     </span>│\n",
       "│<span style=\"color: #008080; text-decoration-color: #008080\"> reporting-endpoints          </span>│<span style=\"color: #008000; text-decoration-color: #008000\"> default=\"/_/DotsSplashUi/web-reports?context=eJzjCtDikmJw05Bi-LxjBmvrzXOsU4HYUO… </span>│\n",
       "│<span style=\"color: #008080; text-decoration-color: #008080\"> Content-Encoding             </span>│<span style=\"color: #008000; text-decoration-color: #008000\"> gzip                                                                             </span>│\n",
       "│<span style=\"color: #008080; text-decoration-color: #008080\"> Server                       </span>│<span style=\"color: #008000; text-decoration-color: #008000\"> ESF                                                                              </span>│\n",
       "│<span style=\"color: #008080; text-decoration-color: #008080\"> X-XSS-Protection             </span>│<span style=\"color: #008000; text-decoration-color: #008000\"> 0                                                                                </span>│\n",
       "│<span style=\"color: #008080; text-decoration-color: #008080\"> X-Frame-Options              </span>│<span style=\"color: #008000; text-decoration-color: #008000\"> SAMEORIGIN                                                                       </span>│\n",
       "│<span style=\"color: #008080; text-decoration-color: #008080\"> X-Content-Type-Options       </span>│<span style=\"color: #008000; text-decoration-color: #008000\"> nosniff                                                                          </span>│\n",
       "│<span style=\"color: #008080; text-decoration-color: #008080\"> Set-Cookie                   </span>│<span style=\"color: #008000; text-decoration-color: #008000\"> NID=525=NSo5kQFb7PWES_-_tdnOE2IPqhzD7gSB80f96ntDH5Rhqe9zzlMw-2QBpZ4QAQUj0nm0krj… </span>│\n",
       "│<span style=\"color: #008080; text-decoration-color: #008080\"> Alt-Svc                      </span>│<span style=\"color: #008000; text-decoration-color: #008000\"> h3=\":443\"; ma=2592000,h3-29=\":443\"; ma=2592000                                   </span>│\n",
       "│<span style=\"color: #008080; text-decoration-color: #008080\"> Transfer-Encoding            </span>│<span style=\"color: #008000; text-decoration-color: #008000\"> chunked                                                                          </span>│\n",
       "╰──────────────────────────────┴──────────────────────────────────────────────────────────────────────────────────╯\n",
       "</pre>\n"
      ],
      "text/plain": [
       "\u001b[3m                                                 Response Headers                                                  \u001b[0m\n",
       "╭──────────────────────────────┬──────────────────────────────────────────────────────────────────────────────────╮\n",
       "│\u001b[1m \u001b[0m\u001b[1mHeader                      \u001b[0m\u001b[1m \u001b[0m│\u001b[1m \u001b[0m\u001b[1mValue                                                                           \u001b[0m\u001b[1m \u001b[0m│\n",
       "├──────────────────────────────┼──────────────────────────────────────────────────────────────────────────────────┤\n",
       "│\u001b[36m \u001b[0m\u001b[36mContent-Type                \u001b[0m\u001b[36m \u001b[0m│\u001b[32m \u001b[0m\u001b[32mtext/html; charset=utf-8                                                        \u001b[0m\u001b[32m \u001b[0m│\n",
       "│\u001b[36m \u001b[0m\u001b[36mVary                        \u001b[0m\u001b[36m \u001b[0m│\u001b[32m \u001b[0m\u001b[32mSec-Fetch-Dest, Sec-Fetch-Mode, Sec-Fetch-Site                                  \u001b[0m\u001b[32m \u001b[0m│\n",
       "│\u001b[36m \u001b[0m\u001b[36mx-ua-compatible             \u001b[0m\u001b[36m \u001b[0m│\u001b[32m \u001b[0m\u001b[32mIE=edge                                                                         \u001b[0m\u001b[32m \u001b[0m│\n",
       "│\u001b[36m \u001b[0m\u001b[36mCache-Control               \u001b[0m\u001b[36m \u001b[0m│\u001b[32m \u001b[0m\u001b[32mno-cache, no-store, max-age=0, must-revalidate                                  \u001b[0m\u001b[32m \u001b[0m│\n",
       "│\u001b[36m \u001b[0m\u001b[36mPragma                      \u001b[0m\u001b[36m \u001b[0m│\u001b[32m \u001b[0m\u001b[32mno-cache                                                                        \u001b[0m\u001b[32m \u001b[0m│\n",
       "│\u001b[36m \u001b[0m\u001b[36mExpires                     \u001b[0m\u001b[36m \u001b[0m│\u001b[32m \u001b[0m\u001b[32mMon, 01 Jan 1990 00:00:00 GMT                                                   \u001b[0m\u001b[32m \u001b[0m│\n",
       "│\u001b[36m \u001b[0m\u001b[36mDate                        \u001b[0m\u001b[36m \u001b[0m│\u001b[32m \u001b[0m\u001b[32mWed, 20 Aug 2025 15:20:47 GMT                                                   \u001b[0m\u001b[32m \u001b[0m│\n",
       "│\u001b[36m \u001b[0m\u001b[36mP3P                         \u001b[0m\u001b[36m \u001b[0m│\u001b[32m \u001b[0m\u001b[32mCP=\"This is not a P3P policy! See g.co/p3phelp for more info.\"                  \u001b[0m\u001b[32m \u001b[0m│\n",
       "│\u001b[36m \u001b[0m\u001b[36mStrict-Transport-Security   \u001b[0m\u001b[36m \u001b[0m│\u001b[32m \u001b[0m\u001b[32mmax-age=31536000                                                                \u001b[0m\u001b[32m \u001b[0m│\n",
       "│\u001b[36m \u001b[0m\u001b[36mPermissions-Policy          \u001b[0m\u001b[36m \u001b[0m│\u001b[32m \u001b[0m\u001b[32mch-ua-arch=*, ch-ua-bitness=*, ch-ua-full-version=*, ch-ua-full-version-list=*, \u001b[0m\u001b[32m \u001b[0m│\n",
       "│\u001b[36m                              \u001b[0m│\u001b[32m \u001b[0m\u001b[32mch-ua-model=*, ch-ua...                                                         \u001b[0m\u001b[32m \u001b[0m│\n",
       "│\u001b[36m \u001b[0m\u001b[36mContent-Security-Policy     \u001b[0m\u001b[36m \u001b[0m│\u001b[32m \u001b[0m\u001b[32mrequire-trusted-types-for 'script';report-uri /_/DotsSplashUi/cspreport,        \u001b[0m\u001b[32m \u001b[0m│\n",
       "│\u001b[36m                              \u001b[0m│\u001b[32m \u001b[0m\u001b[32mscript-src 'report-sample' ...                                                  \u001b[0m\u001b[32m \u001b[0m│\n",
       "│\u001b[36m \u001b[0m\u001b[36mCross-Origin-Resource-Policy\u001b[0m\u001b[36m \u001b[0m│\u001b[32m \u001b[0m\u001b[32msame-site                                                                       \u001b[0m\u001b[32m \u001b[0m│\n",
       "│\u001b[36m \u001b[0m\u001b[36mCross-Origin-Opener-Policy  \u001b[0m\u001b[36m \u001b[0m│\u001b[32m \u001b[0m\u001b[32msame-origin-allow-popups                                                        \u001b[0m\u001b[32m \u001b[0m│\n",
       "│\u001b[36m \u001b[0m\u001b[36mAccept-CH                   \u001b[0m\u001b[36m \u001b[0m│\u001b[32m \u001b[0m\u001b[32mSec-CH-UA-Arch, Sec-CH-UA-Bitness, Sec-CH-UA-Full-Version,                      \u001b[0m\u001b[32m \u001b[0m│\n",
       "│\u001b[36m                              \u001b[0m│\u001b[32m \u001b[0m\u001b[32mSec-CH-UA-Full-Version-List, Sec-CH-UA-Mo...                                    \u001b[0m\u001b[32m \u001b[0m│\n",
       "│\u001b[36m \u001b[0m\u001b[36mreporting-endpoints         \u001b[0m\u001b[36m \u001b[0m│\u001b[32m \u001b[0m\u001b[32mdefault=\"/_/DotsSplashUi/web-reports?context=eJzjCtDikmJw05Bi-LxjBmvrzXOsU4HYUO…\u001b[0m\u001b[32m \u001b[0m│\n",
       "│\u001b[36m \u001b[0m\u001b[36mContent-Encoding            \u001b[0m\u001b[36m \u001b[0m│\u001b[32m \u001b[0m\u001b[32mgzip                                                                            \u001b[0m\u001b[32m \u001b[0m│\n",
       "│\u001b[36m \u001b[0m\u001b[36mServer                      \u001b[0m\u001b[36m \u001b[0m│\u001b[32m \u001b[0m\u001b[32mESF                                                                             \u001b[0m\u001b[32m \u001b[0m│\n",
       "│\u001b[36m \u001b[0m\u001b[36mX-XSS-Protection            \u001b[0m\u001b[36m \u001b[0m│\u001b[32m \u001b[0m\u001b[32m0                                                                               \u001b[0m\u001b[32m \u001b[0m│\n",
       "│\u001b[36m \u001b[0m\u001b[36mX-Frame-Options             \u001b[0m\u001b[36m \u001b[0m│\u001b[32m \u001b[0m\u001b[32mSAMEORIGIN                                                                      \u001b[0m\u001b[32m \u001b[0m│\n",
       "│\u001b[36m \u001b[0m\u001b[36mX-Content-Type-Options      \u001b[0m\u001b[36m \u001b[0m│\u001b[32m \u001b[0m\u001b[32mnosniff                                                                         \u001b[0m\u001b[32m \u001b[0m│\n",
       "│\u001b[36m \u001b[0m\u001b[36mSet-Cookie                  \u001b[0m\u001b[36m \u001b[0m│\u001b[32m \u001b[0m\u001b[32mNID=525=NSo5kQFb7PWES_-_tdnOE2IPqhzD7gSB80f96ntDH5Rhqe9zzlMw-2QBpZ4QAQUj0nm0krj…\u001b[0m\u001b[32m \u001b[0m│\n",
       "│\u001b[36m \u001b[0m\u001b[36mAlt-Svc                     \u001b[0m\u001b[36m \u001b[0m│\u001b[32m \u001b[0m\u001b[32mh3=\":443\"; ma=2592000,h3-29=\":443\"; ma=2592000                                  \u001b[0m\u001b[32m \u001b[0m│\n",
       "│\u001b[36m \u001b[0m\u001b[36mTransfer-Encoding           \u001b[0m\u001b[36m \u001b[0m│\u001b[32m \u001b[0m\u001b[32mchunked                                                                         \u001b[0m\u001b[32m \u001b[0m│\n",
       "╰──────────────────────────────┴──────────────────────────────────────────────────────────────────────────────────╯\n"
      ]
     },
     "metadata": {},
     "output_type": "display_data"
    },
    {
     "name": "stderr",
     "output_type": "stream",
     "text": [
      "bedrock threw context window overflow error\n"
     ]
    },
    {
     "name": "stdout",
     "output_type": "stream",
     "text": [
      "I apologize, but I'm unable to retrieve current news about Strands Agents through web search at the moment. This could be due to several reasons:\n",
      "\n",
      "1. Strands Agents might be a relatively niche or specialized topic.\n",
      "2. There might be recent changes or restrictions in web searching.\n",
      "3. The search terms might be too specific or not yielding recent results.\n",
      "\n",
      "To provide you with accurate information, I recommend:\n",
      "- Checking the official Strands Agents website\n",
      "- Looking for recent press releases or company announcements\n",
      "- Consulting industry-specific news sources or forums\n",
      "- Directly contacting the company for the most up-to-date information\n",
      "\n",
      "If you have more context about Strands Agents (such as what industry they're in, what type of company or service they provide), I can help you refine the search strategy or suggest specific sources to check for the latest news.--------------------\n",
      "I'll help you calculate the final price using the calculator.\n",
      "Tool #3: calculator\n"
     ]
    },
    {
     "data": {
      "text/html": [
       "<pre style=\"white-space:pre;overflow-x:auto;line-height:normal;font-family:Menlo,'DejaVu Sans Mono',consolas,'Courier New',monospace\"><span style=\"color: #000080; text-decoration-color: #000080\">╭────────────────────────────────────────────── </span><span style=\"color: #000080; text-decoration-color: #000080; font-weight: bold\">Calculation Result</span><span style=\"color: #000080; text-decoration-color: #000080\"> ───────────────────────────────────────────────╮</span>\n",
       "<span style=\"color: #000080; text-decoration-color: #000080\">│</span>                                                                                                                 <span style=\"color: #000080; text-decoration-color: #000080\">│</span>\n",
       "<span style=\"color: #000080; text-decoration-color: #000080\">│</span>  ╭───────────┬─────────────────────╮                                                                            <span style=\"color: #000080; text-decoration-color: #000080\">│</span>\n",
       "<span style=\"color: #000080; text-decoration-color: #000080\">│</span>  │<span style=\"color: #008080; text-decoration-color: #008080\"> Operation </span>│<span style=\"color: #008000; text-decoration-color: #008000\"> Evaluate Expression </span>│                                                                            <span style=\"color: #000080; text-decoration-color: #000080\">│</span>\n",
       "<span style=\"color: #000080; text-decoration-color: #000080\">│</span>  │<span style=\"color: #008080; text-decoration-color: #008080\"> Input     </span>│<span style=\"color: #008000; text-decoration-color: #008000\"> 199 * (1 - 0.15)    </span>│                                                                            <span style=\"color: #000080; text-decoration-color: #000080\">│</span>\n",
       "<span style=\"color: #000080; text-decoration-color: #000080\">│</span>  │<span style=\"color: #008080; text-decoration-color: #008080\"> Result    </span>│<span style=\"color: #008000; text-decoration-color: #008000\"> 169.1500000004      </span>│                                                                            <span style=\"color: #000080; text-decoration-color: #000080\">│</span>\n",
       "<span style=\"color: #000080; text-decoration-color: #000080\">│</span>  ╰───────────┴─────────────────────╯                                                                            <span style=\"color: #000080; text-decoration-color: #000080\">│</span>\n",
       "<span style=\"color: #000080; text-decoration-color: #000080\">│</span>                                                                                                                 <span style=\"color: #000080; text-decoration-color: #000080\">│</span>\n",
       "<span style=\"color: #000080; text-decoration-color: #000080\">╰─────────────────────────────────────────────────────────────────────────────────────────────────────────────────╯</span>\n",
       "</pre>\n"
      ],
      "text/plain": [
       "\u001b[34m╭─\u001b[0m\u001b[34m─────────────────────────────────────────────\u001b[0m\u001b[34m \u001b[0m\u001b[1;34mCalculation Result\u001b[0m\u001b[34m \u001b[0m\u001b[34m──────────────────────────────────────────────\u001b[0m\u001b[34m─╮\u001b[0m\n",
       "\u001b[34m│\u001b[0m                                                                                                                 \u001b[34m│\u001b[0m\n",
       "\u001b[34m│\u001b[0m  ╭───────────┬─────────────────────╮                                                                            \u001b[34m│\u001b[0m\n",
       "\u001b[34m│\u001b[0m  │\u001b[36m \u001b[0m\u001b[36mOperation\u001b[0m\u001b[36m \u001b[0m│\u001b[32m \u001b[0m\u001b[32mEvaluate Expression\u001b[0m\u001b[32m \u001b[0m│                                                                            \u001b[34m│\u001b[0m\n",
       "\u001b[34m│\u001b[0m  │\u001b[36m \u001b[0m\u001b[36mInput    \u001b[0m\u001b[36m \u001b[0m│\u001b[32m \u001b[0m\u001b[32m199 * (1 - 0.15)   \u001b[0m\u001b[32m \u001b[0m│                                                                            \u001b[34m│\u001b[0m\n",
       "\u001b[34m│\u001b[0m  │\u001b[36m \u001b[0m\u001b[36mResult   \u001b[0m\u001b[36m \u001b[0m│\u001b[32m \u001b[0m\u001b[32m169.1500000004     \u001b[0m\u001b[32m \u001b[0m│                                                                            \u001b[34m│\u001b[0m\n",
       "\u001b[34m│\u001b[0m  ╰───────────┴─────────────────────╯                                                                            \u001b[34m│\u001b[0m\n",
       "\u001b[34m│\u001b[0m                                                                                                                 \u001b[34m│\u001b[0m\n",
       "\u001b[34m╰─────────────────────────────────────────────────────────────────────────────────────────────────────────────────╯\u001b[0m\n"
      ]
     },
     "metadata": {},
     "output_type": "display_data"
    },
    {
     "name": "stdout",
     "output_type": "stream",
     "text": [
      "Let me break down the calculation:\n",
      "- Original price: $199\n",
      "- Discount percentage: 15%\n",
      "- Discount amount: $199 * 0.15 = $29.85\n",
      "- Final price: $199 - $29.85 = $169.15\n",
      "\n",
      "So the final price after the 15% discount is $169.15."
     ]
    }
   ],
   "source": [
    "from strands_tools import http_request\n",
    "\n",
    "# Create our Research Assistant agent\n",
    "research_assistant = Agent(\n",
    "    model=model,\n",
    "    system_prompt=\"You are a research assistant. Your job is to use the web search tool to answer questions accurately.\",\n",
    "    tools=[http_request, calculator] # Give it the web search and calculator tools\n",
    ")\n",
    "\n",
    "# Let's ask a research question.\n",
    "research_response = research_assistant(\"What is the latest news about Strands Agents?\")\n",
    "\n",
    "print(\"-\" * 20)\n",
    "\n",
    "# A more complex question that might require search and calculation.\n",
    "complex_response = research_assistant(\"If a product costs $199 and is on a 15% discount, what is the final price?\")"
   ]
  },
  {
   "cell_type": "markdown",
   "metadata": {},
   "source": [
    "## Congratulations!\n",
    "\n",
    "You've successfully built your first Strands Agents using Amazon Bedrock!\n",
    "\n",
    "In this tutorial, you learned how to:\n",
    "\n",
    "* Create a Strands Agent with a specified **Bedrock model**.\n",
    "* Use built-in tools and create your own custom tools.\n",
    "* Manage **AWS credentials** securely with a `.env` file.\n",
    "* Build a practical \"Research Assistant\" agent.\n",
    "\n",
    "This is just the beginning of what you can do with Strands Agents. You can explore more advanced concepts like multi-agent orchestration, state management, and more in the official documentation.\n",
    "\n",
    "Happy building! 🚀"
   ]
  }
 ],
 "metadata": {
  "kernelspec": {
   "display_name": "3.10.14",
   "language": "python",
   "name": "python3"
  },
  "language_info": {
   "codemirror_mode": {
    "name": "ipython",
    "version": 3
   },
   "file_extension": ".py",
   "mimetype": "text/x-python",
   "name": "python",
   "nbconvert_exporter": "python",
   "pygments_lexer": "ipython3",
   "version": "3.10.14"
  }
 },
 "nbformat": 4,
 "nbformat_minor": 4
}
