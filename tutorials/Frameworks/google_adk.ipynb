{
 "cells": [
  {
   "cell_type": "markdown",
   "metadata": {},
   "source": [
    "# Google ADK: Modular AI Agent Development from Scratch\n",
    "\n",
    "Welcome to this tutorial on the Google Agent Development Kit (ADK)! 🚀\n",
    "\n",
    "ADK is a Python framework for building, deploying, and managing sophisticated AI agents. It provides the building blocks to create agents that can reason, use tools, and collaborate as a team.\n",
    "\n",
    "In this notebook, we'll build a simple but powerful \"Agent Team\" for a weather assistant. We will cover:\n",
    "\n",
    "* **Agents & Tools**: The core reasoning engines and their capabilities.\n",
    "* **Agent-to-Agent Communication**: How to make agents collaborate and delegate tasks.\n",
    "* **Session Management**: How to manage conversational state and memory."
   ]
  },
  {
   "cell_type": "markdown",
   "metadata": {},
   "source": [
    "## Step 1: Setup and API Keys\n",
    "\n",
    "First, let's install the necessary libraries and set up our API keys. We'll use a `.env` file to securely manage them.\n",
    "\n",
    "1.  Install the required packages:\n",
    "    ```bash\n",
    "    pip install google-adk python-dotenv\n",
    "    ```\n",
    "2.  Create a file named `.env` in the same directory as this notebook and add your Google API key:\n",
    "    ```\n",
    "    GOOGLE_API_KEY=\"YOUR_GEMINI_API_KEY\"\n",
    "    ```\n",
    "Now, let's load the key in our notebook."
   ]
  },
  {
   "cell_type": "code",
   "execution_count": 26,
   "metadata": {},
   "outputs": [
    {
     "name": "stdout",
     "output_type": "stream",
     "text": [
      "Successfully loaded API key.\n",
      "Using model: gemini-2.5-flash\n"
     ]
    }
   ],
   "source": [
    "import os\n",
    "import asyncio\n",
    "from dotenv import load_dotenv\n",
    "import logging\n",
    "\n",
    "# Load environment variables from .env file\n",
    "load_dotenv()\n",
    "\n",
    "GOOGLE_API_KEY = os.getenv(\"GOOGLE_API_KEY\")\n",
    "\n",
    "# Configure ADK to use the API key directly\n",
    "os.environ[\"GOOGLE_GENAI_USE_VERTEXAI\"] = \"False\"\n",
    "\n",
    "# Define the default model to use across the notebook\n",
    "MODEL = \"gemini-2.5-flash\"\n",
    "\n",
    "# Suppress verbose SDK warning about non-text parts when tools/structured outputs are present\n",
    "class _SuppressNonTextParts(logging.Filter):\n",
    "    def filter(self, record: logging.LogRecord) -> bool:\n",
    "        try:\n",
    "            msg = record.getMessage()\n",
    "        except Exception:\n",
    "            msg = str(record.msg)\n",
    "        return \"non-text parts in the response\" not in msg\n",
    "\n",
    "for _name in (\"google\", \"google.genai\"):\n",
    "    _logger = logging.getLogger(_name)\n",
    "    _logger.addFilter(_SuppressNonTextParts())\n",
    "\n",
    "if not GOOGLE_API_KEY:\n",
    "    print(\"API key not found. Please create a .env file and add your GOOGLE_API_KEY.\")\n",
    "else:\n",
    "    print(\"Successfully loaded API key.\")\n",
    "    print(f\"Using model: {MODEL}\")"
   ]
  },
  {
   "cell_type": "markdown",
   "metadata": {},
   "source": [
    "## Step 2: Define Tools and Specialist Agents\n",
    "\n",
    "**Tools** are Python functions that give agents their capabilities. An agent's LLM relies on the function's **docstring** to understand what the tool does and when to use it, making clear docstrings essential.\n",
    "\n",
    "A robust approach for complex tasks is to build an **Agent Team** with multiple, specialized agents. We'll create two specialist agents: one for weather and another for greetings."
   ]
  },
  {
   "cell_type": "code",
   "execution_count": 27,
   "metadata": {},
   "outputs": [
    {
     "name": "stdout",
     "output_type": "stream",
     "text": [
      "✅ Specialist agents and tools defined.\n"
     ]
    }
   ],
   "source": [
    "from google.adk.agents import Agent\n",
    "from typing import Optional\n",
    "\n",
    "# --- Define Tools ---\n",
    "def get_weather(city: str) -> dict:\n",
    "    \"\"\"Retrieves the current weather report for a specified city.\"\"\"\n",
    "    print(f\"--- Tool: get_weather called for city: {city} ---\")\n",
    "    mock_db = {\n",
    "        \"new york\": {\"report\": \"The weather in New York is sunny with a temperature of 25°C.\"},\n",
    "        \"london\": {\"report\": \"It's cloudy in London with a temperature of 15°C.\"},\n",
    "    }\n",
    "    return mock_db.get(city.lower(), {\"report\": f\"Sorry, I don't have weather for {city}.\"})\n",
    "\n",
    "\n",
    "def say_hello(name: Optional[str] = None) -> str:\n",
    "    \"\"\"Provides a simple friendly greeting.\"\"\"\n",
    "    print(f\"--- Tool: say_hello called ---\")\n",
    "    return f\"Hello, {name}!\" if name else \"Hello there!\"\n",
    "\n",
    "# --- Define Specialist Agents ---\n",
    "weather_agent = Agent(\n",
    "    name=\"WeatherAgent\",\n",
    "    model=MODEL,\n",
    "    description=(\n",
    "        \"Provides weather information for specific cities. Use this for any query that mentions weather, \"\n",
    "        \"forecast, temperature, rain, sun, or a city/location.\"\n",
    "    ),\n",
    "    instruction=(\n",
    "        \"You are a helpful weather assistant. Always use the get_weather tool to obtain information. \"\n",
    "        \"Respond concisely with the weather report.\"\n",
    "    ),\n",
    "    tools=[get_weather],\n",
    ")\n",
    "\n",
    "greeting_agent = Agent(\n",
    "    name=\"GreetingAgent\",\n",
    "    model=MODEL,\n",
    "    description=(\n",
    "        \"Handles only pure greetings such as 'hi', 'hello', or 'hey' with no other request. \"\n",
    "        \"Do not handle any other topics (e.g., weather).\"\n",
    "    ),\n",
    "    instruction=(\n",
    "        \"You are the Greeting Agent. Respond ONLY to standalone greetings (hi/hello/hey) with a short greeting. \"\n",
    "        \"If the user asks about anything else (e.g., weather, cities, temperatures, or questions), do NOT answer; \"\n",
    "        \"leave it to other agents.\"\n",
    "    ),\n",
    "    tools=[say_hello],\n",
    ")\n",
    "\n",
    "print(\"✅ Specialist agents and tools defined.\")"
   ]
  },
  {
   "cell_type": "markdown",
   "metadata": {},
   "source": [
    "## Step 3: Build the Agent Team with a Root Agent\n",
    "\n",
    "Next, we create a **root agent** that acts as a manager. This agent receives user requests and, based on its instructions and the `description` of its sub-agents, decides whether to handle the request itself or **delegate** it to the appropriate specialist.\n",
    "\n",
    "By providing a list of `sub_agents` to the root agent, ADK enables this automatic delegation, which is a key feature for building modular and scalable agent systems."
   ]
  },
  {
   "cell_type": "code",
   "execution_count": 28,
   "metadata": {},
   "outputs": [
    {
     "name": "stdout",
     "output_type": "stream",
     "text": [
      "✅ Root Agent 'RootAgent' created with sub-agents: ['WeatherAgent', 'GreetingAgent']\n"
     ]
    }
   ],
   "source": [
    "# The root agent orchestrates the team\n",
    "root_agent = Agent(\n",
    "    name=\"RootAgent\",\n",
    "    model=MODEL,\n",
    "    instruction=(\n",
    "        \"You are the coordinator of an agent team. Route each user request to the most appropriate sub-agent.\\n\"\n",
    "        \"Routing rules:\\n\"\n",
    "        \"- If the user mentions weather, forecast, temperature, a city/location, or asks about conditions, delegate to WeatherAgent.\\n\"\n",
    "        \"- If the user gives a standalone greeting (hi/hello/hey) with no other request, delegate to GreetingAgent.\\n\"\n",
    "        \"- Do NOT answer yourself; always delegate to a sub-agent.\\n\"\n",
    "        \"- Never treat a weather-related question as a greeting.\"\n",
    "    ),\n",
    "    # Key step: Link the sub-agents to enable delegation\n",
    "    sub_agents=[weather_agent, greeting_agent]\n",
    ")\n",
    "print(f\"✅ Root Agent '{root_agent.name}' created with sub-agents: {[sa.name for sa in root_agent.sub_agents]}\")"
   ]
  },
  {
   "cell_type": "markdown",
   "metadata": {},
   "source": [
    "## Step 4: Run the Agent and Manage the Session\n",
    "\n",
    "To interact with our agent team, we use a `Runner`. The runner orchestrates the flow of information and uses a `SessionService` to manage conversational memory, allowing the agent to remember previous turns. `InMemorySessionService` is perfect for getting started.\n",
    "\n",
    "Since ADK's `run_async` method is asynchronous, we'll use `await` to execute it in our Jupyter environment."
   ]
  },
  {
   "cell_type": "code",
   "execution_count": 29,
   "metadata": {},
   "outputs": [
    {
     "name": "stdout",
     "output_type": "stream",
     "text": [
      "--- Starting conversation ---\n",
      "\n",
      ">>> User: Hello there\n",
      "--- Tool: say_hello called ---\n",
      "<<< Agent: Hello there!\n",
      "\n",
      ">>> User: What is the weather in New York?\n",
      "--- Tool: get_weather called for city: New York ---\n",
      "<<< Agent: The weather in New York is sunny with a temperature of 25°C.\n"
     ]
    }
   ],
   "source": [
    "from google.adk.runners import Runner\n",
    "from google.adk.sessions import InMemorySessionService\n",
    "from google.genai import types\n",
    "import sys\n",
    "import io\n",
    "import contextlib\n",
    "\n",
    "runner = Runner(\n",
    "    agent=root_agent,\n",
    "    session_service=InMemorySessionService(),\n",
    "    app_name=\"weather_tutorial_app\"\n",
    ")\n",
    "\n",
    "class _FilterStream(io.TextIOBase):\n",
    "    def __init__(self, underlying, substrings):\n",
    "        self._underlying = underlying\n",
    "        self._substrings = tuple(substrings)\n",
    "\n",
    "    def write(self, s):\n",
    "        try:\n",
    "            text = str(s)\n",
    "        except Exception:\n",
    "            text = s\n",
    "        if any(sub in text for sub in self._substrings):\n",
    "            return len(text)\n",
    "        return self._underlying.write(text)\n",
    "\n",
    "    def flush(self):\n",
    "        return self._underlying.flush()\n",
    "\n",
    "async def call_agent(query: str, session_id: str):\n",
    "    \"\"\"Helper function to run an asynchronous query against the agent.\"\"\"\n",
    "    print(f\"\\n>>> User: {query}\")\n",
    "\n",
    "    # Filter noisy stderr warnings about non-text parts when tools are used\n",
    "    filter_stream = _FilterStream(sys.stderr, [\"non-text parts in the response\"])\n",
    "    with contextlib.redirect_stderr(filter_stream):\n",
    "        # Use run_async to get events and collect only the final final-response\n",
    "        final_text = None\n",
    "        async for event in runner.run_async(\n",
    "            user_id=\"user_123\",\n",
    "            session_id=session_id,\n",
    "            new_message=types.Content(role='user', parts=[types.Part(text=query)])\n",
    "        ):\n",
    "            if event.is_final_response() and event.content:\n",
    "                # capture text but don't print yet to avoid duplicates\n",
    "                for part in event.content.parts:\n",
    "                    if getattr(part, \"text\", None):\n",
    "                        final_text = part.text\n",
    "                        break\n",
    "        if final_text:\n",
    "            print(f\"<<< Agent: {final_text}\")\n",
    "\n",
    "# Let's run a multi-turn conversation!\n",
    "async def main():\n",
    "    session_id = \"session_abc\"\n",
    "    user_id = \"user_123\"\n",
    "\n",
    "    # Ensure the session exists before running; required by InMemorySessionService\n",
    "    await runner.session_service.create_session(\n",
    "        app_name=\"weather_tutorial_app\",\n",
    "        user_id=user_id,\n",
    "        session_id=session_id,\n",
    "    )\n",
    "\n",
    "    print(\"--- Starting conversation ---\")\n",
    "\n",
    "    # The root agent should delegate this to the GreetingAgent\n",
    "    await call_agent(\"Hello there\", session_id)\n",
    "\n",
    "    # The root agent should delegate this to the WeatherAgent\n",
    "    await call_agent(\"What is the weather in New York?\", session_id)\n",
    "\n",
    "# In a Jupyter Notebook, you can run the top-level async function with await\n",
    "await main()"
   ]
  },
  {
   "cell_type": "markdown",
   "metadata": {},
   "source": [
    "## Conclusion\n",
    "\n",
    "Congratulations! You've successfully built a multi-agent team with the Google ADK.\n",
    "\n",
    "You've learned the essential concepts of defining tools, creating specialist agents, and using a root agent to delegate tasks. This modular design is fundamental for building more complex and capable agent systems.\n",
    "\n",
    "From here, you can explore more advanced topics like adding memory with `SessionState`, implementing safety guardrails with callbacks, or connecting to real-world APIs."
   ]
  }
 ],
 "metadata": {
  "kernelspec": {
   "display_name": "Python 3",
   "language": "python",
   "name": "python3"
  },
  "language_info": {
   "codemirror_mode": {
    "name": "ipython",
    "version": 3
   },
   "file_extension": ".py",
   "mimetype": "text/x-python",
   "name": "python",
   "nbconvert_exporter": "python",
   "pygments_lexer": "ipython3",
   "version": "3.11.4"
  }
 },
 "nbformat": 4,
 "nbformat_minor": 4
}
